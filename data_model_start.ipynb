{
 "cells": [
  {
   "cell_type": "code",
   "execution_count": 85,
   "metadata": {},
   "outputs": [],
   "source": [
    "# importlarımızı yapıyoruz\n",
    "\n",
    "import pandas as pd\n",
    "import numpy as np\n",
    "import matplotlib.pyplot as plt\n",
    "import seaborn as sns\n",
    "import os\n",
    "from sklearn.preprocessing import MinMaxScaler"
   ]
  },
  {
   "cell_type": "code",
   "execution_count": 86,
   "metadata": {},
   "outputs": [
    {
     "name": "stdout",
     "output_type": "stream",
     "text": [
      "Dosya mevcut!\n"
     ]
    }
   ],
   "source": [
    "# Excel dosyasının yolu\n",
    "dosya_yolu = r\"C:\\Users\\yusuf\\OneDrive\\Masaüstü\\Laptop_Price_Prediction\\cleaned_data.xlsx\"\n",
    "\n",
    "# Dosya yolunun var olup olmadığını kontrol et\n",
    "if os.path.exists(dosya_yolu):\n",
    "    print(\"Dosya mevcut!\")\n",
    "    # Dosyayı oku\n",
    "    df_ = pd.read_excel(dosya_yolu)\n",
    "    df = df_.copy()\n",
    "else:\n",
    "    print(\"Dosya yolu yanlış veya dosya mevcut değil.\")"
   ]
  },
  {
   "cell_type": "code",
   "execution_count": 87,
   "metadata": {},
   "outputs": [
    {
     "name": "stdout",
     "output_type": "stream",
     "text": [
      "<class 'pandas.core.frame.DataFrame'>\n",
      "RangeIndex: 1200 entries, 0 to 1199\n",
      "Data columns (total 17 columns):\n",
      " #   Column               Non-Null Count  Dtype  \n",
      "---  ------               --------------  -----  \n",
      " 0   Ekran_Boyutu         1200 non-null   object \n",
      " 1   Ekran_Karti          1200 non-null   object \n",
      " 2   GPU_Bellek_Tipi      1200 non-null   object \n",
      " 3   GPU_Gucu             1200 non-null   int64  \n",
      " 4   GPU_Hafizasi         1200 non-null   int64  \n",
      " 5   GPU_Tipi             1200 non-null   object \n",
      " 6   Yenileme_Hizi        1200 non-null   int64  \n",
      " 7   Max_CPU_Hizi_GHz     1200 non-null   float64\n",
      " 8   Panel_Tipi           1200 non-null   object \n",
      " 9   RAM                  1200 non-null   int64  \n",
      " 10  RAM_Tipi             1200 non-null   object \n",
      " 11  Renk                 1200 non-null   object \n",
      " 12  SSD_Kapasitesi       1200 non-null   int64  \n",
      " 13  CPU_Cekirdek_Sayisi  1200 non-null   int64  \n",
      " 14  Isletim_Sistemi      1200 non-null   object \n",
      " 15  Islemci              1200 non-null   object \n",
      " 16  Fiyat                1200 non-null   float64\n",
      "dtypes: float64(2), int64(6), object(9)\n",
      "memory usage: 159.5+ KB\n"
     ]
    }
   ],
   "source": [
    "df.info() "
   ]
  },
  {
   "cell_type": "code",
   "execution_count": 88,
   "metadata": {},
   "outputs": [
    {
     "data": {
      "text/plain": [
       "0        34.999\n",
       "1        34.899\n",
       "2        28.089\n",
       "3        34.999\n",
       "4        26.499\n",
       "         ...   \n",
       "1195    121.480\n",
       "1196     58.099\n",
       "1197     58.099\n",
       "1198     58.099\n",
       "1199     58.099\n",
       "Name: Fiyat, Length: 1200, dtype: float64"
      ]
     },
     "execution_count": 88,
     "metadata": {},
     "output_type": "execute_result"
    }
   ],
   "source": [
    "df[\"Fiyat\"]"
   ]
  },
  {
   "cell_type": "code",
   "execution_count": 89,
   "metadata": {},
   "outputs": [
    {
     "data": {
      "text/plain": [
       "array(['15,6', '17,3', '16,1', '14', '13,3'], dtype=object)"
      ]
     },
     "execution_count": 89,
     "metadata": {},
     "output_type": "execute_result"
    }
   ],
   "source": [
    "df[\"Ekran_Boyutu\"].unique()"
   ]
  },
  {
   "cell_type": "code",
   "execution_count": 90,
   "metadata": {},
   "outputs": [
    {
     "name": "stdout",
     "output_type": "stream",
     "text": [
      "Dosya kaydedildi: cleaned_data_modified.xlsx\n"
     ]
    }
   ],
   "source": [
    "# 1. Adım: Virgülleri noktaya çevir\n",
    "df[\"Ekran_Boyutu\"] = df[\"Ekran_Boyutu\"].str.replace(',', '.', regex=False)\n",
    "\n",
    "# 2. Adım: Sayısal değere çevir\n",
    "df[\"Ekran_Boyutu\"] = pd.to_numeric(df[\"Ekran_Boyutu\"])\n",
    "\n",
    "# 3. Adım: Normalizasyon\n",
    "scaler = MinMaxScaler()\n",
    "df[\"Ekran_Boyutu\"] = scaler.fit_transform(df[[\"Ekran_Boyutu\"]])\n",
    "\n",
    "# Normalizasyon sonuçları:\n",
    "# '15.6' → 0.575\n",
    "# '17.3' → 1.0\n",
    "# '16.1' → 0.7\n",
    "# '14.0' → 0.175\n",
    "# '13.3' → 0.0\n",
    "\n",
    "# 4. Adım: Excel dosyasına kaydetme\n",
    "df.to_excel('cleaned_data_modified.xlsx', index=False)\n",
    "\n",
    "print(\"Dosya kaydedildi: cleaned_data_modified.xlsx\")"
   ]
  },
  {
   "cell_type": "code",
   "execution_count": 91,
   "metadata": {},
   "outputs": [
    {
     "data": {
      "text/plain": [
       "array(['Nvidia GeForce RTX 4060', 'Nvidia GeForce RTX 3050',\n",
       "       'Nvidia GeForce RTX 2050', 'Nvidia GeForce RTX 4050',\n",
       "       'AMD Radeon RX 6550M', 'AMD Radeon Graphics',\n",
       "       'Nvidia GeForce RTX 4070', 'Nvidia GeForce RTX 4090',\n",
       "       'Nvidia GeForce GTX 1650', 'Nvidia GeForce RTX 3050 Ti',\n",
       "       'Nvidia GeForce RTX 4080', 'Nvidia GeForce RTX 3070',\n",
       "       'AMD Radeon RX7600S', 'Nvidia GeForce RTX 3070Ti',\n",
       "       'Nvidia GeForce RTX 3080', 'Dahili Ekran Kartı',\n",
       "       'Nvidia Quadro T2000', 'Nvidia GeForce MX550',\n",
       "       'Nvidia GeForce GTX 1050', 'Nvidia GeForce RTX 2060',\n",
       "       'Nvidia GeForce RTX3060', 'RTX 2070 SUPER Max-q',\n",
       "       'AMD Radeon RX6500M', 'Nvidia GeForce GTX1650 Ti',\n",
       "       'Nvidia GeForce MX330'], dtype=object)"
      ]
     },
     "execution_count": 91,
     "metadata": {},
     "output_type": "execute_result"
    }
   ],
   "source": [
    "df[\"Ekran_Karti\"].unique()"
   ]
  },
  {
   "cell_type": "code",
   "execution_count": 92,
   "metadata": {},
   "outputs": [
    {
     "name": "stdout",
     "output_type": "stream",
     "text": [
      "Dosya kaydedildi: cleaned_data_modified.xlsx\n"
     ]
    }
   ],
   "source": [
    "# 1. Adım: Ekran kartı isimlerini normalize etme\n",
    "def normalize_gpu_name(name):\n",
    "    # Genel temizleme: fazla boşlukları sil, her kelimeyi büyük harfe çevir\n",
    "    name = ' '.join(name.split())\n",
    "    \n",
    "    # \"Dahili Ekran Kartı\" için özel bir dönüşüm\n",
    "    if 'Dahili Ekran Kartı' in name:\n",
    "        return 'Integrated Graphics'\n",
    "    \n",
    "    # Ekran kartı serisini düzenleme (RTX, GTX, Quadro, MX gibi)\n",
    "    name = re.sub(r'(?<=\\d)(Ti|Super|Max-q|S|M|m)?', '', name)  # \"Ti\", \"Super\", \"Max-q\" gibi son ekleri temizle\n",
    "    name = re.sub(r'\\s{2,}', ' ', name)  # Çift boşlukları tek boşluğa dönüştür\n",
    "    \n",
    "    # Ekran kartı markası ve serisini doğru şekilde yazma\n",
    "    name = re.sub(r'Nvidia', 'Nvidia GeForce', name)\n",
    "    name = re.sub(r'GeForce\\s+GeForce', 'GeForce', name)\n",
    "    name = re.sub(r'RX', 'Radeon RX', name)\n",
    "    \n",
    "    # Sonuç olarak, temizlenmiş ve normalize edilmiş ismi döndürüyoruz\n",
    "    return name.strip()\n",
    "\n",
    "# Ekran kartı isimlerini normalize etme\n",
    "df['Ekran_Karti'] = df['Ekran_Karti'].apply(normalize_gpu_name)\n",
    "\n",
    "# 2. Adım: Etiketleme (Label Encoding) – Ekran kartı isimlerini sayısal değerlere çevirme\n",
    "label_encoder = LabelEncoder()\n",
    "df['Ekran_Karti'] = label_encoder.fit_transform(df['Ekran_Karti'])\n",
    "\n",
    "# 3. Adım: Sayısal veriye dönüştürme ve normalizasyon (Min-Max Scaling)\n",
    "# Bu adımda, ekran kartı isimlerini etiketledikten sonra bu değerlerin üzerinde normalizasyon yapmayacağız.\n",
    "# Ancak, burada örnek olarak ekran kartı boyutları gibi sayısal veriler üzerine normalizasyon yapılabilir.\n",
    "# Örneğin:\n",
    "df['Ekran_Karti'] = MinMaxScaler().fit_transform(df[['Ekran_Karti']])\n",
    "\n",
    "\n",
    "# 4. Adım: Excel dosyasına kaydetme\n",
    "df.to_excel('cleaned_data_modified.xlsx', index=False)\n",
    "\n",
    "print(\"Dosya kaydedildi: cleaned_data_modified.xlsx\")"
   ]
  },
  {
   "cell_type": "code",
   "execution_count": 93,
   "metadata": {},
   "outputs": [
    {
     "name": "stdout",
     "output_type": "stream",
     "text": [
      "Dosya kaydedildi: cleaned_data_modified.xlsx\n"
     ]
    }
   ],
   "source": [
    "# 1. Adım: GPU bellek tipi isimlerini normalize etme\n",
    "def normalize_gpu_memory_type(memory_type):\n",
    "    # Sayısal bir değer gelirse, onu string'e çevir\n",
    "    if isinstance(memory_type, (int, float)):\n",
    "        memory_type = str(memory_type)\n",
    "    \n",
    "    # Genel temizleme: fazlalık boşlukları temizleme\n",
    "    memory_type = ' '.join(memory_type.split())\n",
    "    \n",
    "    # Bellek tiplerini standart hale getirme (herhangi bir gereksiz ekleme varsa düzenlenebilir)\n",
    "    memory_type = re.sub(r'(?i)gddr5|gddr6|lpddr4', lambda match: match.group(0).upper(), memory_type)\n",
    "\n",
    "    return memory_type.strip()\n",
    "\n",
    "# 2. Adım: Bellek tiplerini normalize etme\n",
    "df['GPU_Bellek_Tipi'] = df['GPU_Bellek_Tipi'].apply(normalize_gpu_memory_type)\n",
    "\n",
    "# 3. Adım: Etiketleme (Label Encoding) – GPU bellek tipi isimlerini sayısal değerlere çevirme\n",
    "label_encoder = LabelEncoder()\n",
    "df['GPU_Bellek_Tipi'] = label_encoder.fit_transform(df['GPU_Bellek_Tipi'])\n",
    "\n",
    "# 4. Adım: Normalizasyon (Min-Max Scaling) – GPU bellek tipi için sayısal veriye dönüştürme ve normalleştirme\n",
    "df['GPU_Bellek_Tipi'] = MinMaxScaler().fit_transform(df[['GPU_Bellek_Tipi']])\n",
    "\n",
    "# 5. Adım: Excel dosyasına kaydetme\n",
    "df.to_excel('cleaned_data_modified.xlsx', index=False)\n",
    "\n",
    "print(\"Dosya kaydedildi: cleaned_data_modified.xlsx\")"
   ]
  },
  {
   "cell_type": "code",
   "execution_count": 94,
   "metadata": {},
   "outputs": [
    {
     "data": {
      "text/plain": [
       "array([0.75, 0.  , 0.25, 1.  , 0.5 ])"
      ]
     },
     "execution_count": 94,
     "metadata": {},
     "output_type": "execute_result"
    }
   ],
   "source": [
    "df[\"GPU_Bellek_Tipi\"].unique()"
   ]
  },
  {
   "cell_type": "code",
   "execution_count": 95,
   "metadata": {},
   "outputs": [
    {
     "name": "stdout",
     "output_type": "stream",
     "text": [
      "Dosya kaydedildi: cleaned_data_modified.xlsx\n"
     ]
    }
   ],
   "source": [
    "# 1. Adım: GPU tipi isimlerini normalize etme\n",
    "def normalize_gpu_type(gpu_type):\n",
    "    # Genel temizleme: fazlalık boşlukları temizleme ve her kelimeyi büyük harfe çevirme\n",
    "    gpu_type = ' '.join(gpu_type.split())\n",
    "    \n",
    "    # GPU tiplerini standart hale getirme (Örnek olarak)\n",
    "    gpu_type = gpu_type.lower()  # Tüm isimleri küçük harfe çeviriyoruz\n",
    "    gpu_type = gpu_type.capitalize()  # Sadece ilk harfi büyük yapıyoruz\n",
    "\n",
    "    return gpu_type.strip()\n",
    "\n",
    "# 2. Adım: GPU tipi isimlerini normalize etme\n",
    "df['GPU_Tipi'] = df['GPU_Tipi'].apply(normalize_gpu_type)\n",
    "\n",
    "# 3. Adım: Etiketleme (Label Encoding) – GPU tipi isimlerini sayısal değerlere çevirme\n",
    "label_encoder = LabelEncoder()\n",
    "df['GPU_Tipi'] = label_encoder.fit_transform(df['GPU_Tipi'])\n",
    "\n",
    "# 4. Adım: Normalizasyon (Min-Max Scaling) – GPU tipi için sayısal veriye dönüştürme ve normalleştirme\n",
    "df['GPU_Tipi'] = MinMaxScaler().fit_transform(df[['GPU_Tipi']])\n",
    "\n",
    "# 5. Adım: Excel dosyasına kaydetme\n",
    "df.to_excel('cleaned_data_modified.xlsx', index=False)\n",
    "\n",
    "print(\"Dosya kaydedildi: cleaned_data_modified.xlsx\")"
   ]
  },
  {
   "cell_type": "code",
   "execution_count": 96,
   "metadata": {},
   "outputs": [
    {
     "name": "stdout",
     "output_type": "stream",
     "text": [
      "Dosya kaydedildi: cleaned_data_modified.xlsx\n"
     ]
    }
   ],
   "source": [
    "# 1. Adım: Panel tipi isimlerini normalize etme\n",
    "def normalize_panel_type(panel_type):\n",
    "    # Genel temizleme: fazlalık boşlukları temizleme ve her kelimeyi büyük harfe çevirme\n",
    "    panel_type = ' '.join(panel_type.split())\n",
    "    \n",
    "    # Panel tiplerini standart hale getirme (Örnek olarak)\n",
    "    panel_type = panel_type.lower()  # Tüm isimleri küçük harfe çeviriyoruz\n",
    "    panel_type = panel_type.capitalize()  # Sadece ilk harfi büyük yapıyoruz\n",
    "\n",
    "    return panel_type.strip()\n",
    "\n",
    "# 2. Adım: Panel tipi isimlerini normalize etme\n",
    "df['Panel_Tipi'] = df['Panel_Tipi'].apply(normalize_panel_type)\n",
    "\n",
    "# 3. Adım: Etiketleme (Label Encoding) – Panel tipi isimlerini sayısal değerlere çevirme\n",
    "label_encoder = LabelEncoder()\n",
    "df['Panel_Tipi'] = label_encoder.fit_transform(df['Panel_Tipi'])\n",
    "\n",
    "# 4. Adım: Normalizasyon (Min-Max Scaling) – Panel tipi için sayısal veriye dönüştürme ve normalleştirme\n",
    "df['Panel_Tipi'] = MinMaxScaler().fit_transform(df[['Panel_Tipi']])\n",
    "\n",
    "# 5. Adım: Excel dosyasına kaydetme\n",
    "df.to_excel('cleaned_data_modified.xlsx', index=False)\n",
    "\n",
    "print(\"Dosya kaydedildi: cleaned_data_modified.xlsx\")"
   ]
  },
  {
   "cell_type": "code",
   "execution_count": 97,
   "metadata": {},
   "outputs": [
    {
     "name": "stdout",
     "output_type": "stream",
     "text": [
      "Dosya kaydedildi: cleaned_data_modified.xlsx\n"
     ]
    }
   ],
   "source": [
    "# 1. Adım: RAM tipi isimlerini normalize etme\n",
    "def normalize_ram_type(ram_type):\n",
    "    # Genel temizleme: fazlalık boşlukları temizleme ve her kelimeyi büyük harfe çevirme\n",
    "    ram_type = ' '.join(ram_type.split())\n",
    "    \n",
    "    # RAM tiplerini standart hale getirme (Örnek olarak)\n",
    "    ram_type = ram_type.lower()  # Tüm isimleri küçük harfe çeviriyoruz\n",
    "    ram_type = ram_type.capitalize()  # Sadece ilk harfi büyük yapıyoruz\n",
    "\n",
    "    return ram_type.strip()\n",
    "\n",
    "# 2. Adım: RAM tipi isimlerini normalize etme\n",
    "df['RAM_Tipi'] = df['RAM_Tipi'].apply(normalize_ram_type)\n",
    "\n",
    "# 3. Adım: Etiketleme (Label Encoding) – RAM tipi isimlerini sayısal değerlere çevirme\n",
    "label_encoder = LabelEncoder()\n",
    "df['RAM_Tipi'] = label_encoder.fit_transform(df['RAM_Tipi'])\n",
    "\n",
    "# 4. Adım: Normalizasyon (Min-Max Scaling) – RAM tipi için sayısal veriye dönüştürme ve normalleştirme\n",
    "df['RAM_Tipi'] = MinMaxScaler().fit_transform(df[['RAM_Tipi']])\n",
    "\n",
    "# 5. Adım: Excel dosyasına kaydetme\n",
    "df.to_excel('cleaned_data_modified.xlsx', index=False)\n",
    "\n",
    "print(\"Dosya kaydedildi: cleaned_data_modified.xlsx\")"
   ]
  },
  {
   "cell_type": "code",
   "execution_count": 98,
   "metadata": {},
   "outputs": [
    {
     "name": "stdout",
     "output_type": "stream",
     "text": [
      "Dosya kaydedildi: cleaned_data_modified.xlsx\n"
     ]
    }
   ],
   "source": [
    "# 1. Adım: Renk isimlerini normalize etme\n",
    "def normalize_color(color):\n",
    "    # Genel temizleme: fazlalık boşlukları temizleme ve her kelimeyi büyük harfe çevirme\n",
    "    color = ' '.join(color.split())\n",
    "    \n",
    "    # Renk isimlerini standart hale getirme (örneğin, küçük harfe dönüştürme)\n",
    "    color = color.lower()  # Tüm isimleri küçük harfe çeviriyoruz\n",
    "    color = color.capitalize()  # Sadece ilk harfi büyük yapıyoruz\n",
    "\n",
    "    return color.strip()\n",
    "\n",
    "# 2. Adım: Renk isimlerini normalize etme\n",
    "df['Renk'] = df['Renk'].apply(normalize_color)\n",
    "\n",
    "# 3. Adım: Etiketleme (Label Encoding) – Renk isimlerini sayısal değerlere çevirme\n",
    "label_encoder = LabelEncoder()\n",
    "df['Renk'] = label_encoder.fit_transform(df['Renk'])\n",
    "\n",
    "# 4. Adım: Normalizasyon (Min-Max Scaling) – Renk için sayısal veriye dönüştürme ve normalleştirme\n",
    "df['Renk'] = MinMaxScaler().fit_transform(df[['Renk']])\n",
    "\n",
    "# 5. Adım: Excel dosyasına kaydetme\n",
    "df.to_excel('cleaned_data_modified.xlsx', index=False)\n",
    "\n",
    "print(\"Dosya kaydedildi: cleaned_data_modified.xlsx\")"
   ]
  },
  {
   "cell_type": "code",
   "execution_count": 99,
   "metadata": {},
   "outputs": [
    {
     "name": "stdout",
     "output_type": "stream",
     "text": [
      "Dosya kaydedildi: cleaned_data_modified.xlsx\n"
     ]
    }
   ],
   "source": [
    "# 1. Adım: İşletim sistemi isimlerini normalize etme\n",
    "def normalize_os(os_name):\n",
    "    # Genel temizleme: fazlalık boşlukları temizleme ve her kelimeyi büyük harfe çevirme\n",
    "    os_name = ' '.join(os_name.split())\n",
    "    \n",
    "    # İşletim sistemi isimlerini standart hale getirme (Örnek olarak)\n",
    "    os_name = os_name.lower()  # Tüm isimleri küçük harfe çeviriyoruz\n",
    "    os_name = os_name.capitalize()  # Sadece ilk harfi büyük yapıyoruz\n",
    "\n",
    "    return os_name.strip()\n",
    "\n",
    "# 2. Adım: İşletim sistemi isimlerini normalize etme\n",
    "df['Isletim_Sistemi'] = df['Isletim_Sistemi'].apply(normalize_os)\n",
    "\n",
    "# 3. Adım: Etiketleme (Label Encoding) – İşletim sistemi isimlerini sayısal verilere çevirme\n",
    "label_encoder = LabelEncoder()\n",
    "df['Isletim_Sistemi'] = label_encoder.fit_transform(df['Isletim_Sistemi'])\n",
    "\n",
    "# 4. Adım: Normalizasyon (Min-Max Scaling) – İşletim sistemi için sayısal veriye dönüştürme ve normalleştirme\n",
    "df['Isletim_Sistemi'] = MinMaxScaler().fit_transform(df[['Isletim_Sistemi']])\n",
    "\n",
    "# 5. Adım: Excel dosyasına kaydetme\n",
    "df.to_excel('cleaned_data_modified.xlsx', index=False)\n",
    "\n",
    "print(\"Dosya kaydedildi: cleaned_data_modified.xlsx\")"
   ]
  },
  {
   "cell_type": "code",
   "execution_count": 100,
   "metadata": {},
   "outputs": [
    {
     "name": "stdout",
     "output_type": "stream",
     "text": [
      "Dosya kaydedildi: cleaned_data_modified.xlsx\n"
     ]
    }
   ],
   "source": [
    "# 1. Adım: İşlemci isimlerini normalize etme\n",
    "def normalize_processor(processor_name):\n",
    "    # Genel temizleme: fazlalık boşlukları temizleme ve her kelimeyi büyük harfe çevirme\n",
    "    processor_name = ' '.join(processor_name.split())\n",
    "    \n",
    "    # İşlemci isimlerini küçük harfe çevirme (İçindeki harfleri normalize etme)\n",
    "    processor_name = processor_name.lower()  # Tüm isimleri küçük harfe çeviriyoruz\n",
    "    processor_name = processor_name.capitalize()  # Sadece ilk harfi büyük yapıyoruz\n",
    "\n",
    "    return processor_name.strip()\n",
    "\n",
    "# 2. Adım: İşlemci isimlerini normalize etme\n",
    "df['Islemci'] = df['Islemci'].apply(normalize_processor)\n",
    "\n",
    "# 3. Adım: Etiketleme (Label Encoding) – İşlemci isimlerini sayısal verilere çevirme\n",
    "label_encoder = LabelEncoder()\n",
    "df['Islemci'] = label_encoder.fit_transform(df['Islemci'])\n",
    "\n",
    "# 4. Adım: Normalizasyon (Min-Max Scaling) – İşlemci için sayısal veriye dönüştürme ve normalleştirme\n",
    "df['Islemci'] = MinMaxScaler().fit_transform(df[['Islemci']])\n",
    "\n",
    "# 5. Adım: Excel dosyasına kaydetme\n",
    "df.to_excel('cleaned_data_modified.xlsx', index=False)\n",
    "\n",
    "print(\"Dosya kaydedildi: cleaned_data_modified.xlsx\")"
   ]
  }
 ],
 "metadata": {
  "kernelspec": {
   "display_name": "general",
   "language": "python",
   "name": "python3"
  },
  "language_info": {
   "codemirror_mode": {
    "name": "ipython",
    "version": 3
   },
   "file_extension": ".py",
   "mimetype": "text/x-python",
   "name": "python",
   "nbconvert_exporter": "python",
   "pygments_lexer": "ipython3",
   "version": "3.10.15"
  }
 },
 "nbformat": 4,
 "nbformat_minor": 2
}
