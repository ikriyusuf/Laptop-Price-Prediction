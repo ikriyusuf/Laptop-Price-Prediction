{
 "cells": [
  {
   "cell_type": "markdown",
   "metadata": {},
   "source": [
    "# 0 - VERİ SETİ HAZIRLANMASI\n"
   ]
  },
  {
   "cell_type": "code",
   "execution_count": 1,
   "metadata": {},
   "outputs": [],
   "source": [
    "# Veri işlemesi ve analizi kütüphaneleri\n",
    "import pandas as pd\n",
    "import numpy as np\n",
    "# Veri görselleştirme kütüphanleri\n",
    "import matplotlib.pyplot as plt\n",
    "import seaborn as sns\n",
    "import missingno as msno"
   ]
  },
  {
   "cell_type": "code",
   "execution_count": 2,
   "metadata": {},
   "outputs": [],
   "source": [
    "# Excel dosyasının yolu\n",
    "dosya_yolu = r\"C:\\Users\\yusuf\\OneDrive\\Masaüstü\\Laptop_Price_Prediction\\notebook.xlsx\"\n",
    "\n",
    "# Excel dosyasını oku ve DataFrame'e aktar\n",
    "df_ = pd.read_excel(dosya_yolu)\n",
    "\n",
    "# Kopyalama yaptık\n",
    "df = df_.copy()"
   ]
  },
  {
   "cell_type": "markdown",
   "metadata": {},
   "source": [
    "# 1 - VERİYE İLK BAKIŞ"
   ]
  },
  {
   "cell_type": "code",
   "execution_count": 3,
   "metadata": {},
   "outputs": [
    {
     "data": {
      "text/html": [
       "<div>\n",
       "<style scoped>\n",
       "    .dataframe tbody tr th:only-of-type {\n",
       "        vertical-align: middle;\n",
       "    }\n",
       "\n",
       "    .dataframe tbody tr th {\n",
       "        vertical-align: top;\n",
       "    }\n",
       "\n",
       "    .dataframe thead th {\n",
       "        text-align: right;\n",
       "    }\n",
       "</style>\n",
       "<table border=\"1\" class=\"dataframe\">\n",
       "  <thead>\n",
       "    <tr style=\"text-align: right;\">\n",
       "      <th></th>\n",
       "      <th>Arttırılabilir Azami Bellek</th>\n",
       "      <th>Bağlantılar</th>\n",
       "      <th>Cihaz Ağırlığı</th>\n",
       "      <th>Dokunmatik Ekran</th>\n",
       "      <th>Ekran Boyutu</th>\n",
       "      <th>Ekran Kartı</th>\n",
       "      <th>Ekran Kartı Bellek Tipi</th>\n",
       "      <th>Ekran Kartı Gücü</th>\n",
       "      <th>Ekran Kartı Hafızası</th>\n",
       "      <th>Ekran Kartı Tipi</th>\n",
       "      <th>...</th>\n",
       "      <th>Temel İşlemci Hızı (GHz)</th>\n",
       "      <th>Title</th>\n",
       "      <th>Çözünürlük</th>\n",
       "      <th>Çözünürlük Standartı</th>\n",
       "      <th>İşlemci Modeli</th>\n",
       "      <th>İşlemci Nesli</th>\n",
       "      <th>İşlemci Tipi</th>\n",
       "      <th>İşlemci Çekirdek Sayısı</th>\n",
       "      <th>İşletim Sistemi</th>\n",
       "      <th>Şarjlı Kullanım Süresi</th>\n",
       "    </tr>\n",
       "  </thead>\n",
       "  <tbody>\n",
       "    <tr>\n",
       "      <th>0</th>\n",
       "      <td>16 GB</td>\n",
       "      <td>USB - Bluetooth - HDMI</td>\n",
       "      <td>2 - 4 kg</td>\n",
       "      <td>Yok</td>\n",
       "      <td>15,6 inç</td>\n",
       "      <td>Nvidia GeForce RTX 4060</td>\n",
       "      <td>GDDR6</td>\n",
       "      <td>NaN</td>\n",
       "      <td>8 GB</td>\n",
       "      <td>Harici</td>\n",
       "      <td>...</td>\n",
       "      <td>NaN</td>\n",
       "      <td>LOQ 15IAX9 83GS007XTR i5-12450HX 8GB 512 GB SS...</td>\n",
       "      <td>1920 x 1080</td>\n",
       "      <td>Full HD (FHD)</td>\n",
       "      <td>Belirtilmemiş</td>\n",
       "      <td>12. Nesil</td>\n",
       "      <td>Intel Core i5</td>\n",
       "      <td>8.0</td>\n",
       "      <td>Free Dos</td>\n",
       "      <td>NaN</td>\n",
       "    </tr>\n",
       "    <tr>\n",
       "      <th>1</th>\n",
       "      <td>16 GB</td>\n",
       "      <td>USB - Bluetooth - HDMI</td>\n",
       "      <td>2 - 4 kg</td>\n",
       "      <td>Yok</td>\n",
       "      <td>15,6 inç</td>\n",
       "      <td>Nvidia GeForce RTX 3050</td>\n",
       "      <td>GDDR6</td>\n",
       "      <td>NaN</td>\n",
       "      <td>6 GB</td>\n",
       "      <td>Harici</td>\n",
       "      <td>...</td>\n",
       "      <td>NaN</td>\n",
       "      <td>G15-5530 Intel Core i7-13650HX 16GB 512GB SSD ...</td>\n",
       "      <td>1920 x 1080</td>\n",
       "      <td>Full HD (FHD)</td>\n",
       "      <td>13650HX</td>\n",
       "      <td>13. Nesil</td>\n",
       "      <td>Intel Core i7</td>\n",
       "      <td>24.0</td>\n",
       "      <td>Free Dos</td>\n",
       "      <td>NaN</td>\n",
       "    </tr>\n",
       "    <tr>\n",
       "      <th>2</th>\n",
       "      <td>16 GB</td>\n",
       "      <td>USB - Bluetooth - HDMI</td>\n",
       "      <td>2 kg ve altı</td>\n",
       "      <td>Yok</td>\n",
       "      <td>15,6 inç</td>\n",
       "      <td>Nvidia GeForce RTX 2050</td>\n",
       "      <td>GDDR6</td>\n",
       "      <td>55W</td>\n",
       "      <td>4 GB ve altı</td>\n",
       "      <td>Harici</td>\n",
       "      <td>...</td>\n",
       "      <td>2.3</td>\n",
       "      <td>Abra A5 V21.3 Intel Core i7 12700H 16 GB RAM 5...</td>\n",
       "      <td>1920 x 1080</td>\n",
       "      <td>Full HD (FHD)</td>\n",
       "      <td>12700H</td>\n",
       "      <td>12. Nesil</td>\n",
       "      <td>Intel Core i7</td>\n",
       "      <td>14.0</td>\n",
       "      <td>Free Dos</td>\n",
       "      <td>4-6 Saat</td>\n",
       "    </tr>\n",
       "    <tr>\n",
       "      <th>3</th>\n",
       "      <td>32 GB</td>\n",
       "      <td>USB - Bluetooth - HDMI</td>\n",
       "      <td>2 - 4 kg</td>\n",
       "      <td>Yok</td>\n",
       "      <td>15,6 inç</td>\n",
       "      <td>Nvidia GeForce RTX 4050</td>\n",
       "      <td>GDDR6</td>\n",
       "      <td>105W</td>\n",
       "      <td>6 GB</td>\n",
       "      <td>Harici</td>\n",
       "      <td>...</td>\n",
       "      <td>3.1</td>\n",
       "      <td>LOQ Intel Core i5-12450HX 16GB 512GB SSD 6GB R...</td>\n",
       "      <td>1920 x 1080</td>\n",
       "      <td>Full HD (FHD)</td>\n",
       "      <td>12450H</td>\n",
       "      <td>12. Nesil</td>\n",
       "      <td>Intel Core i5</td>\n",
       "      <td>8.0</td>\n",
       "      <td>Free Dos</td>\n",
       "      <td>6 Saat ve Üstü</td>\n",
       "    </tr>\n",
       "  </tbody>\n",
       "</table>\n",
       "<p>4 rows × 35 columns</p>\n",
       "</div>"
      ],
      "text/plain": [
       "  Arttırılabilir Azami Bellek             Bağlantılar Cihaz Ağırlığı  \\\n",
       "0                       16 GB  USB - Bluetooth - HDMI       2 - 4 kg   \n",
       "1                       16 GB  USB - Bluetooth - HDMI       2 - 4 kg   \n",
       "2                       16 GB  USB - Bluetooth - HDMI   2 kg ve altı   \n",
       "3                       32 GB  USB - Bluetooth - HDMI       2 - 4 kg   \n",
       "\n",
       "  Dokunmatik Ekran Ekran Boyutu              Ekran Kartı  \\\n",
       "0              Yok     15,6 inç  Nvidia GeForce RTX 4060   \n",
       "1              Yok     15,6 inç  Nvidia GeForce RTX 3050   \n",
       "2              Yok     15,6 inç  Nvidia GeForce RTX 2050   \n",
       "3              Yok     15,6 inç  Nvidia GeForce RTX 4050   \n",
       "\n",
       "  Ekran Kartı Bellek Tipi Ekran Kartı Gücü Ekran Kartı Hafızası  \\\n",
       "0                   GDDR6              NaN                 8 GB   \n",
       "1                   GDDR6              NaN                 6 GB   \n",
       "2                   GDDR6              55W         4 GB ve altı   \n",
       "3                   GDDR6             105W                 6 GB   \n",
       "\n",
       "  Ekran Kartı Tipi  ... Temel İşlemci Hızı (GHz)  \\\n",
       "0           Harici  ...                      NaN   \n",
       "1           Harici  ...                      NaN   \n",
       "2           Harici  ...                      2.3   \n",
       "3           Harici  ...                      3.1   \n",
       "\n",
       "                                               Title   Çözünürlük  \\\n",
       "0  LOQ 15IAX9 83GS007XTR i5-12450HX 8GB 512 GB SS...  1920 x 1080   \n",
       "1  G15-5530 Intel Core i7-13650HX 16GB 512GB SSD ...  1920 x 1080   \n",
       "2  Abra A5 V21.3 Intel Core i7 12700H 16 GB RAM 5...  1920 x 1080   \n",
       "3  LOQ Intel Core i5-12450HX 16GB 512GB SSD 6GB R...  1920 x 1080   \n",
       "\n",
       "  Çözünürlük Standartı İşlemci Modeli İşlemci Nesli   İşlemci Tipi  \\\n",
       "0        Full HD (FHD)  Belirtilmemiş     12. Nesil  Intel Core i5   \n",
       "1        Full HD (FHD)        13650HX     13. Nesil  Intel Core i7   \n",
       "2        Full HD (FHD)         12700H     12. Nesil  Intel Core i7   \n",
       "3        Full HD (FHD)         12450H     12. Nesil  Intel Core i5   \n",
       "\n",
       "   İşlemci Çekirdek Sayısı İşletim Sistemi Şarjlı Kullanım Süresi  \n",
       "0                      8.0        Free Dos                    NaN  \n",
       "1                     24.0        Free Dos                    NaN  \n",
       "2                     14.0        Free Dos               4-6 Saat  \n",
       "3                      8.0        Free Dos         6 Saat ve Üstü  \n",
       "\n",
       "[4 rows x 35 columns]"
      ]
     },
     "execution_count": 3,
     "metadata": {},
     "output_type": "execute_result"
    }
   ],
   "source": [
    "# DataFrame'i görüntüle\n",
    "df.head(n=4)\n",
    "# default olarak verseydik 5 tane sonuç döndürür. -> df.head()\n",
    "# eğer sondan kayıtları listelemek isteseydik -> df.tail()"
   ]
  },
  {
   "cell_type": "code",
   "execution_count": 4,
   "metadata": {},
   "outputs": [
    {
     "data": {
      "text/plain": [
       "(1200, 35)"
      ]
     },
     "execution_count": 4,
     "metadata": {},
     "output_type": "execute_result"
    }
   ],
   "source": [
    "df.shape # (satır x sütun)"
   ]
  },
  {
   "cell_type": "code",
   "execution_count": 5,
   "metadata": {},
   "outputs": [
    {
     "name": "stdout",
     "output_type": "stream",
     "text": [
      "2\n"
     ]
    }
   ],
   "source": [
    "print(df.ndim) # Verinin kaç boyutlu olduğunu gösterir."
   ]
  },
  {
   "cell_type": "code",
   "execution_count": 6,
   "metadata": {},
   "outputs": [
    {
     "data": {
      "text/plain": [
       "Index(['Arttırılabilir Azami Bellek', 'Bağlantılar', 'Cihaz Ağırlığı',\n",
       "       'Dokunmatik Ekran', 'Ekran Boyutu', 'Ekran Kartı',\n",
       "       'Ekran Kartı Bellek Tipi', 'Ekran Kartı Gücü', 'Ekran Kartı Hafızası',\n",
       "       'Ekran Kartı Tipi', 'Ekran Yenileme Hızı', 'Garanti Süresi',\n",
       "       'Garanti Tipi', 'Hard Disk Kapasitesi', 'Kapasite', 'Klavye',\n",
       "       'Kullanım Amacı', 'Maksimum İşlemci Hızı (GHz)', 'Menşei', 'Panel Tipi',\n",
       "       'Price', 'Ram (Sistem Belleği)', 'Ram (Sistem Belleği) Tipi', 'Renk',\n",
       "       'SSD Kapasitesi', 'Temel İşlemci Hızı (GHz)', 'Title', 'Çözünürlük',\n",
       "       'Çözünürlük Standartı', 'İşlemci Modeli', 'İşlemci Nesli',\n",
       "       'İşlemci Tipi', 'İşlemci Çekirdek Sayısı', 'İşletim Sistemi',\n",
       "       'Şarjlı Kullanım Süresi'],\n",
       "      dtype='object')"
      ]
     },
     "execution_count": 6,
     "metadata": {},
     "output_type": "execute_result"
    }
   ],
   "source": [
    "df.columns"
   ]
  },
  {
   "cell_type": "code",
   "execution_count": 7,
   "metadata": {},
   "outputs": [
    {
     "name": "stdout",
     "output_type": "stream",
     "text": [
      "['Arttırılabilir Azami Bellek', 'Bağlantılar', 'Cihaz Ağırlığı', 'Dokunmatik Ekran', 'Ekran Boyutu', 'Ekran Kartı', 'Ekran Kartı Bellek Tipi', 'Ekran Kartı Gücü', 'Ekran Kartı Hafızası', 'Ekran Kartı Tipi', 'Ekran Yenileme Hızı', 'Garanti Süresi', 'Garanti Tipi', 'Hard Disk Kapasitesi', 'Kapasite', 'Klavye', 'Kullanım Amacı', 'Maksimum İşlemci Hızı (GHz)', 'Menşei', 'Panel Tipi', 'Price', 'Ram (Sistem Belleği)', 'Ram (Sistem Belleği) Tipi', 'Renk', 'SSD Kapasitesi', 'Temel İşlemci Hızı (GHz)', 'Title', 'Çözünürlük', 'Çözünürlük Standartı', 'İşlemci Modeli', 'İşlemci Nesli', 'İşlemci Tipi', 'İşlemci Çekirdek Sayısı', 'İşletim Sistemi', 'Şarjlı Kullanım Süresi'] \n",
      "\n",
      "Veri seti içerisinde toplam 35 kolon vardır.\n",
      "\n",
      "df.columns'un döndüğü veri tipi: <class 'pandas.core.indexes.base.Index'>\n",
      "\n"
     ]
    }
   ],
   "source": [
    "# Veri setindeki kolonları yazdırır.\n",
    "print(list(df.columns), '\\n')\n",
    "\n",
    "# len() fonksiyonu ile toplam kolon sayısına erişiyoruz.\n",
    "print(f\"Veri seti içerisinde toplam {len(df.columns)} kolon vardır.\\n\")\n",
    "\n",
    "# Çoğu zaman kullandığımız attribute ve fonksiyonların sonuçlarının hangi tipte veri döndürdüğünü gözlemlemek kod üzerinde hakimiyet kurmak için önemlidir.\n",
    "print(f\"df.columns'un döndüğü veri tipi: {type(df.columns)}\\n\")"
   ]
  },
  {
   "cell_type": "code",
   "execution_count": 8,
   "metadata": {},
   "outputs": [
    {
     "name": "stdout",
     "output_type": "stream",
     "text": [
      "<class 'pandas.core.frame.DataFrame'>\n",
      "RangeIndex: 1200 entries, 0 to 1199\n",
      "Data columns (total 35 columns):\n",
      " #   Column                       Non-Null Count  Dtype  \n",
      "---  ------                       --------------  -----  \n",
      " 0   Arttırılabilir Azami Bellek  810 non-null    object \n",
      " 1   Bağlantılar                  1197 non-null   object \n",
      " 2   Cihaz Ağırlığı               1200 non-null   object \n",
      " 3   Dokunmatik Ekran             1200 non-null   object \n",
      " 4   Ekran Boyutu                 1200 non-null   object \n",
      " 5   Ekran Kartı                  1200 non-null   object \n",
      " 6   Ekran Kartı Bellek Tipi      1200 non-null   object \n",
      " 7   Ekran Kartı Gücü             260 non-null    object \n",
      " 8   Ekran Kartı Hafızası         1200 non-null   object \n",
      " 9   Ekran Kartı Tipi             1200 non-null   object \n",
      " 10  Ekran Yenileme Hızı          1200 non-null   object \n",
      " 11  Garanti Süresi               1200 non-null   object \n",
      " 12  Garanti Tipi                 1200 non-null   object \n",
      " 13  Hard Disk Kapasitesi         1200 non-null   object \n",
      " 14  Kapasite                     1 non-null      object \n",
      " 15  Klavye                       1200 non-null   object \n",
      " 16  Kullanım Amacı               1200 non-null   object \n",
      " 17  Maksimum İşlemci Hızı (GHz)  742 non-null    float64\n",
      " 18  Menşei                       10 non-null     object \n",
      " 19  Panel Tipi                   1199 non-null   object \n",
      " 20  Price                        893 non-null    object \n",
      " 21  Ram (Sistem Belleği)         1200 non-null   object \n",
      " 22  Ram (Sistem Belleği) Tipi    1200 non-null   object \n",
      " 23  Renk                         1200 non-null   object \n",
      " 24  SSD Kapasitesi               1200 non-null   object \n",
      " 25  Temel İşlemci Hızı (GHz)     433 non-null    object \n",
      " 26  Title                        1200 non-null   object \n",
      " 27  Çözünürlük                   1200 non-null   object \n",
      " 28  Çözünürlük Standartı         1200 non-null   object \n",
      " 29  İşlemci Modeli               1200 non-null   object \n",
      " 30  İşlemci Nesli                1200 non-null   object \n",
      " 31  İşlemci Tipi                 1200 non-null   object \n",
      " 32  İşlemci Çekirdek Sayısı      1199 non-null   float64\n",
      " 33  İşletim Sistemi              1200 non-null   object \n",
      " 34  Şarjlı Kullanım Süresi       315 non-null    object \n",
      "dtypes: float64(2), object(33)\n",
      "memory usage: 328.2+ KB\n"
     ]
    }
   ],
   "source": [
    "# Veri hakkında bilgi verir.\n",
    "df.info() "
   ]
  },
  {
   "cell_type": "code",
   "execution_count": 9,
   "metadata": {},
   "outputs": [
    {
     "data": {
      "text/plain": [
       "Arttırılabilir Azami Bellek     object\n",
       "Bağlantılar                     object\n",
       "Cihaz Ağırlığı                  object\n",
       "Dokunmatik Ekran                object\n",
       "Ekran Boyutu                    object\n",
       "Ekran Kartı                     object\n",
       "Ekran Kartı Bellek Tipi         object\n",
       "Ekran Kartı Gücü                object\n",
       "Ekran Kartı Hafızası            object\n",
       "Ekran Kartı Tipi                object\n",
       "Ekran Yenileme Hızı             object\n",
       "Garanti Süresi                  object\n",
       "Garanti Tipi                    object\n",
       "Hard Disk Kapasitesi            object\n",
       "Kapasite                        object\n",
       "Klavye                          object\n",
       "Kullanım Amacı                  object\n",
       "Maksimum İşlemci Hızı (GHz)    float64\n",
       "Menşei                          object\n",
       "Panel Tipi                      object\n",
       "Price                           object\n",
       "Ram (Sistem Belleği)            object\n",
       "Ram (Sistem Belleği) Tipi       object\n",
       "Renk                            object\n",
       "SSD Kapasitesi                  object\n",
       "Temel İşlemci Hızı (GHz)        object\n",
       "Title                           object\n",
       "Çözünürlük                      object\n",
       "Çözünürlük Standartı            object\n",
       "İşlemci Modeli                  object\n",
       "İşlemci Nesli                   object\n",
       "İşlemci Tipi                    object\n",
       "İşlemci Çekirdek Sayısı        float64\n",
       "İşletim Sistemi                 object\n",
       "Şarjlı Kullanım Süresi          object\n",
       "dtype: object"
      ]
     },
     "execution_count": 9,
     "metadata": {},
     "output_type": "execute_result"
    }
   ],
   "source": [
    "# Sütunların hangi tipte olduğunu söyler.\n",
    "df.dtypes"
   ]
  },
  {
   "cell_type": "code",
   "execution_count": 10,
   "metadata": {},
   "outputs": [],
   "source": [
    "# SSD kapasitesini GB cinsine çevirecek bir fonksiyon\n",
    "def convert_tb_to_gb(ssd_capacity):\n",
    "    if 'TB' in ssd_capacity:\n",
    "        # Eğer TB varsa, GB'ye çevir\n",
    "        return str(int(ssd_capacity.split()[0]) * 1024) + \" GB\"  # 1 TB = 1024 GB\n",
    "    else:\n",
    "        # GB ise olduğu gibi bırak\n",
    "        return ssd_capacity\n",
    "\n",
    "# Sadece TB olanları dönüştürüp yeni bir sütun ekliyoruz\n",
    "df[\"SSD Kapasitesi\"] = df[\"SSD Kapasitesi\"].apply(convert_tb_to_gb)"
   ]
  },
  {
   "cell_type": "code",
   "execution_count": 11,
   "metadata": {},
   "outputs": [
    {
     "data": {
      "text/plain": [
       "0      512 GB\n",
       "1      512 GB\n",
       "2      500 GB\n",
       "3      512 GB\n",
       "4      500 GB\n",
       "5     1024 GB\n",
       "6     1024 GB\n",
       "7     1024 GB\n",
       "8     2048 GB\n",
       "9      512 GB\n",
       "10     512 GB\n",
       "11     512 GB\n",
       "12     512 GB\n",
       "13    1024 GB\n",
       "14     512 GB\n",
       "15     512 GB\n",
       "16     512 GB\n",
       "17    1024 GB\n",
       "18     512 GB\n",
       "19     512 GB\n",
       "Name: SSD Kapasitesi, dtype: object"
      ]
     },
     "execution_count": 11,
     "metadata": {},
     "output_type": "execute_result"
    }
   ],
   "source": [
    "df[\"SSD Kapasitesi\"].head(n=20)"
   ]
  },
  {
   "cell_type": "code",
   "execution_count": 12,
   "metadata": {},
   "outputs": [
    {
     "name": "stdout",
     "output_type": "stream",
     "text": [
      "Veri başarıyla 'cleaned_data.xlsx' dosyasına kaydedildi.\n"
     ]
    }
   ],
   "source": [
    "import pandas as pd\n",
    "\n",
    "# Sayısal sütunlar\n",
    "sayisal_sutunlar = [\n",
    "     'Ekran Kartı Gücü',\"Ekran Yenileme Hızı\", 'Hard Disk Kapasitesi', 'Maksimum İşlemci Hızı (GHz)', \n",
    "    'Ram (Sistem Belleği)', 'SSD Kapasitesi', 'İşlemci Çekirdek Sayısı', 'Price'\n",
    "]\n",
    "\n",
    "# Virgül haricindeki karakterleri temizleyelim\n",
    "for col in sayisal_sutunlar:\n",
    "    if col in df.columns:\n",
    "        # Sayısal olmayan tüm karakterleri (virgül hariç) temizlemek için regex kullanacağız\n",
    "        df[col] = df[col].replace(r'[^0-9.,]', '', regex=True)  # Virgül dışındaki her şeyi temizle\n",
    "        df[col] = pd.to_numeric(df[col], errors='coerce')  # Sayısal türüne dönüştür, hata olanları NaN yapar\n",
    "\n",
    "# Veriyi yeni bir Excel dosyasına kaydedelim\n",
    "df.to_excel('cleaned_data.xlsx', index=False)\n",
    "\n",
    "print(\"Veri başarıyla 'cleaned_data.xlsx' dosyasına kaydedildi.\")"
   ]
  },
  {
   "cell_type": "code",
   "execution_count": 13,
   "metadata": {},
   "outputs": [],
   "source": [
    "# Temizlenmiş Excel dosyasını yükleyelim\n",
    "df = pd.read_excel('cleaned_data.xlsx')"
   ]
  },
  {
   "cell_type": "code",
   "execution_count": 14,
   "metadata": {},
   "outputs": [
    {
     "data": {
      "text/plain": [
       "Arttırılabilir Azami Bellek     object\n",
       "Bağlantılar                     object\n",
       "Cihaz Ağırlığı                  object\n",
       "Dokunmatik Ekran                object\n",
       "Ekran Boyutu                    object\n",
       "Ekran Kartı                     object\n",
       "Ekran Kartı Bellek Tipi         object\n",
       "Ekran Kartı Gücü               float64\n",
       "Ekran Kartı Hafızası            object\n",
       "Ekran Kartı Tipi                object\n",
       "Ekran Yenileme Hızı            float64\n",
       "Garanti Süresi                  object\n",
       "Garanti Tipi                    object\n",
       "Hard Disk Kapasitesi           float64\n",
       "Kapasite                        object\n",
       "Klavye                          object\n",
       "Kullanım Amacı                  object\n",
       "Maksimum İşlemci Hızı (GHz)    float64\n",
       "Menşei                          object\n",
       "Panel Tipi                      object\n",
       "Price                          float64\n",
       "Ram (Sistem Belleği)             int64\n",
       "Ram (Sistem Belleği) Tipi       object\n",
       "Renk                            object\n",
       "SSD Kapasitesi                 float64\n",
       "Temel İşlemci Hızı (GHz)        object\n",
       "Title                           object\n",
       "Çözünürlük                      object\n",
       "Çözünürlük Standartı            object\n",
       "İşlemci Modeli                  object\n",
       "İşlemci Nesli                   object\n",
       "İşlemci Tipi                    object\n",
       "İşlemci Çekirdek Sayısı        float64\n",
       "İşletim Sistemi                 object\n",
       "Şarjlı Kullanım Süresi          object\n",
       "dtype: object"
      ]
     },
     "execution_count": 14,
     "metadata": {},
     "output_type": "execute_result"
    }
   ],
   "source": [
    "df.dtypes"
   ]
  },
  {
   "cell_type": "code",
   "execution_count": 15,
   "metadata": {},
   "outputs": [
    {
     "data": {
      "text/html": [
       "<div>\n",
       "<style scoped>\n",
       "    .dataframe tbody tr th:only-of-type {\n",
       "        vertical-align: middle;\n",
       "    }\n",
       "\n",
       "    .dataframe tbody tr th {\n",
       "        vertical-align: top;\n",
       "    }\n",
       "\n",
       "    .dataframe thead th {\n",
       "        text-align: right;\n",
       "    }\n",
       "</style>\n",
       "<table border=\"1\" class=\"dataframe\">\n",
       "  <thead>\n",
       "    <tr style=\"text-align: right;\">\n",
       "      <th></th>\n",
       "      <th>Arttırılabilir Azami Bellek</th>\n",
       "      <th>Bağlantılar</th>\n",
       "      <th>Cihaz Ağırlığı</th>\n",
       "      <th>Dokunmatik Ekran</th>\n",
       "      <th>Ekran Boyutu</th>\n",
       "      <th>Ekran Kartı</th>\n",
       "      <th>Ekran Kartı Bellek Tipi</th>\n",
       "      <th>Ekran Kartı Gücü</th>\n",
       "      <th>Ekran Kartı Hafızası</th>\n",
       "      <th>Ekran Kartı Tipi</th>\n",
       "      <th>...</th>\n",
       "      <th>Temel İşlemci Hızı (GHz)</th>\n",
       "      <th>Title</th>\n",
       "      <th>Çözünürlük</th>\n",
       "      <th>Çözünürlük Standartı</th>\n",
       "      <th>İşlemci Modeli</th>\n",
       "      <th>İşlemci Nesli</th>\n",
       "      <th>İşlemci Tipi</th>\n",
       "      <th>İşlemci Çekirdek Sayısı</th>\n",
       "      <th>İşletim Sistemi</th>\n",
       "      <th>Şarjlı Kullanım Süresi</th>\n",
       "    </tr>\n",
       "  </thead>\n",
       "  <tbody>\n",
       "    <tr>\n",
       "      <th>0</th>\n",
       "      <td>16 GB</td>\n",
       "      <td>USB - Bluetooth - HDMI</td>\n",
       "      <td>2 - 4 kg</td>\n",
       "      <td>Yok</td>\n",
       "      <td>15,6 inç</td>\n",
       "      <td>Nvidia GeForce RTX 4060</td>\n",
       "      <td>GDDR6</td>\n",
       "      <td>NaN</td>\n",
       "      <td>8 GB</td>\n",
       "      <td>Harici</td>\n",
       "      <td>...</td>\n",
       "      <td>NaN</td>\n",
       "      <td>LOQ 15IAX9 83GS007XTR i5-12450HX 8GB 512 GB SS...</td>\n",
       "      <td>1920 x 1080</td>\n",
       "      <td>Full HD (FHD)</td>\n",
       "      <td>Belirtilmemiş</td>\n",
       "      <td>12. Nesil</td>\n",
       "      <td>Intel Core i5</td>\n",
       "      <td>8.0</td>\n",
       "      <td>Free Dos</td>\n",
       "      <td>NaN</td>\n",
       "    </tr>\n",
       "    <tr>\n",
       "      <th>1</th>\n",
       "      <td>16 GB</td>\n",
       "      <td>USB - Bluetooth - HDMI</td>\n",
       "      <td>2 - 4 kg</td>\n",
       "      <td>Yok</td>\n",
       "      <td>15,6 inç</td>\n",
       "      <td>Nvidia GeForce RTX 3050</td>\n",
       "      <td>GDDR6</td>\n",
       "      <td>NaN</td>\n",
       "      <td>6 GB</td>\n",
       "      <td>Harici</td>\n",
       "      <td>...</td>\n",
       "      <td>NaN</td>\n",
       "      <td>G15-5530 Intel Core i7-13650HX 16GB 512GB SSD ...</td>\n",
       "      <td>1920 x 1080</td>\n",
       "      <td>Full HD (FHD)</td>\n",
       "      <td>13650HX</td>\n",
       "      <td>13. Nesil</td>\n",
       "      <td>Intel Core i7</td>\n",
       "      <td>24.0</td>\n",
       "      <td>Free Dos</td>\n",
       "      <td>NaN</td>\n",
       "    </tr>\n",
       "    <tr>\n",
       "      <th>2</th>\n",
       "      <td>16 GB</td>\n",
       "      <td>USB - Bluetooth - HDMI</td>\n",
       "      <td>2 kg ve altı</td>\n",
       "      <td>Yok</td>\n",
       "      <td>15,6 inç</td>\n",
       "      <td>Nvidia GeForce RTX 2050</td>\n",
       "      <td>GDDR6</td>\n",
       "      <td>55.0</td>\n",
       "      <td>4 GB ve altı</td>\n",
       "      <td>Harici</td>\n",
       "      <td>...</td>\n",
       "      <td>2.3</td>\n",
       "      <td>Abra A5 V21.3 Intel Core i7 12700H 16 GB RAM 5...</td>\n",
       "      <td>1920 x 1080</td>\n",
       "      <td>Full HD (FHD)</td>\n",
       "      <td>12700H</td>\n",
       "      <td>12. Nesil</td>\n",
       "      <td>Intel Core i7</td>\n",
       "      <td>14.0</td>\n",
       "      <td>Free Dos</td>\n",
       "      <td>4-6 Saat</td>\n",
       "    </tr>\n",
       "    <tr>\n",
       "      <th>3</th>\n",
       "      <td>32 GB</td>\n",
       "      <td>USB - Bluetooth - HDMI</td>\n",
       "      <td>2 - 4 kg</td>\n",
       "      <td>Yok</td>\n",
       "      <td>15,6 inç</td>\n",
       "      <td>Nvidia GeForce RTX 4050</td>\n",
       "      <td>GDDR6</td>\n",
       "      <td>105.0</td>\n",
       "      <td>6 GB</td>\n",
       "      <td>Harici</td>\n",
       "      <td>...</td>\n",
       "      <td>3.1</td>\n",
       "      <td>LOQ Intel Core i5-12450HX 16GB 512GB SSD 6GB R...</td>\n",
       "      <td>1920 x 1080</td>\n",
       "      <td>Full HD (FHD)</td>\n",
       "      <td>12450H</td>\n",
       "      <td>12. Nesil</td>\n",
       "      <td>Intel Core i5</td>\n",
       "      <td>8.0</td>\n",
       "      <td>Free Dos</td>\n",
       "      <td>6 Saat ve Üstü</td>\n",
       "    </tr>\n",
       "    <tr>\n",
       "      <th>4</th>\n",
       "      <td>64 GB</td>\n",
       "      <td>HDMI</td>\n",
       "      <td>2 - 4 kg</td>\n",
       "      <td>Yok</td>\n",
       "      <td>15,6 inç</td>\n",
       "      <td>Nvidia GeForce RTX 3050</td>\n",
       "      <td>GDDR6</td>\n",
       "      <td>NaN</td>\n",
       "      <td>4 GB ve altı</td>\n",
       "      <td>Harici</td>\n",
       "      <td>...</td>\n",
       "      <td>2.5</td>\n",
       "      <td>Excalibur G770.1245-BVJ0X-B i5-12450H 16GB RAM...</td>\n",
       "      <td>1920 x 1080</td>\n",
       "      <td>Full HD (FHD)</td>\n",
       "      <td>12450H</td>\n",
       "      <td>12. Nesil</td>\n",
       "      <td>Intel Core i5</td>\n",
       "      <td>8.0</td>\n",
       "      <td>Free Dos</td>\n",
       "      <td>NaN</td>\n",
       "    </tr>\n",
       "  </tbody>\n",
       "</table>\n",
       "<p>5 rows × 35 columns</p>\n",
       "</div>"
      ],
      "text/plain": [
       "  Arttırılabilir Azami Bellek             Bağlantılar Cihaz Ağırlığı  \\\n",
       "0                       16 GB  USB - Bluetooth - HDMI       2 - 4 kg   \n",
       "1                       16 GB  USB - Bluetooth - HDMI       2 - 4 kg   \n",
       "2                       16 GB  USB - Bluetooth - HDMI   2 kg ve altı   \n",
       "3                       32 GB  USB - Bluetooth - HDMI       2 - 4 kg   \n",
       "4                       64 GB                    HDMI       2 - 4 kg   \n",
       "\n",
       "  Dokunmatik Ekran Ekran Boyutu              Ekran Kartı  \\\n",
       "0              Yok     15,6 inç  Nvidia GeForce RTX 4060   \n",
       "1              Yok     15,6 inç  Nvidia GeForce RTX 3050   \n",
       "2              Yok     15,6 inç  Nvidia GeForce RTX 2050   \n",
       "3              Yok     15,6 inç  Nvidia GeForce RTX 4050   \n",
       "4              Yok     15,6 inç  Nvidia GeForce RTX 3050   \n",
       "\n",
       "  Ekran Kartı Bellek Tipi  Ekran Kartı Gücü Ekran Kartı Hafızası  \\\n",
       "0                   GDDR6               NaN                 8 GB   \n",
       "1                   GDDR6               NaN                 6 GB   \n",
       "2                   GDDR6              55.0         4 GB ve altı   \n",
       "3                   GDDR6             105.0                 6 GB   \n",
       "4                   GDDR6               NaN         4 GB ve altı   \n",
       "\n",
       "  Ekran Kartı Tipi  ...  Temel İşlemci Hızı (GHz)  \\\n",
       "0           Harici  ...                       NaN   \n",
       "1           Harici  ...                       NaN   \n",
       "2           Harici  ...                       2.3   \n",
       "3           Harici  ...                       3.1   \n",
       "4           Harici  ...                       2.5   \n",
       "\n",
       "                                               Title   Çözünürlük  \\\n",
       "0  LOQ 15IAX9 83GS007XTR i5-12450HX 8GB 512 GB SS...  1920 x 1080   \n",
       "1  G15-5530 Intel Core i7-13650HX 16GB 512GB SSD ...  1920 x 1080   \n",
       "2  Abra A5 V21.3 Intel Core i7 12700H 16 GB RAM 5...  1920 x 1080   \n",
       "3  LOQ Intel Core i5-12450HX 16GB 512GB SSD 6GB R...  1920 x 1080   \n",
       "4  Excalibur G770.1245-BVJ0X-B i5-12450H 16GB RAM...  1920 x 1080   \n",
       "\n",
       "   Çözünürlük Standartı İşlemci Modeli İşlemci Nesli   İşlemci Tipi  \\\n",
       "0         Full HD (FHD)  Belirtilmemiş     12. Nesil  Intel Core i5   \n",
       "1         Full HD (FHD)        13650HX     13. Nesil  Intel Core i7   \n",
       "2         Full HD (FHD)         12700H     12. Nesil  Intel Core i7   \n",
       "3         Full HD (FHD)         12450H     12. Nesil  Intel Core i5   \n",
       "4         Full HD (FHD)         12450H     12. Nesil  Intel Core i5   \n",
       "\n",
       "   İşlemci Çekirdek Sayısı İşletim Sistemi Şarjlı Kullanım Süresi  \n",
       "0                      8.0        Free Dos                    NaN  \n",
       "1                     24.0        Free Dos                    NaN  \n",
       "2                     14.0        Free Dos               4-6 Saat  \n",
       "3                      8.0        Free Dos         6 Saat ve Üstü  \n",
       "4                      8.0        Free Dos                    NaN  \n",
       "\n",
       "[5 rows x 35 columns]"
      ]
     },
     "execution_count": 15,
     "metadata": {},
     "output_type": "execute_result"
    }
   ],
   "source": [
    "df.head()"
   ]
  },
  {
   "cell_type": "code",
   "execution_count": 16,
   "metadata": {},
   "outputs": [
    {
     "data": {
      "text/plain": [
       "0    Nvidia GeForce RTX 4060\n",
       "1    Nvidia GeForce RTX 3050\n",
       "2    Nvidia GeForce RTX 2050\n",
       "Name: Ekran Kartı, dtype: object"
      ]
     },
     "execution_count": 16,
     "metadata": {},
     "output_type": "execute_result"
    }
   ],
   "source": [
    "df['Ekran Kartı'][:3]"
   ]
  },
  {
   "cell_type": "markdown",
   "metadata": {},
   "source": [
    "Veri setimizin betimsel istatistiklerine ulaşmak için describe() fonksiyonunu kullanıyoruz.\n",
    "\n",
    "Bu fonksiyon eksik verileri göz ardı eder ve default olarak yalnızca numerik değişkenlere bakar."
   ]
  },
  {
   "cell_type": "code",
   "execution_count": 17,
   "metadata": {},
   "outputs": [
    {
     "data": {
      "text/html": [
       "<div>\n",
       "<style scoped>\n",
       "    .dataframe tbody tr th:only-of-type {\n",
       "        vertical-align: middle;\n",
       "    }\n",
       "\n",
       "    .dataframe tbody tr th {\n",
       "        vertical-align: top;\n",
       "    }\n",
       "\n",
       "    .dataframe thead th {\n",
       "        text-align: right;\n",
       "    }\n",
       "</style>\n",
       "<table border=\"1\" class=\"dataframe\">\n",
       "  <thead>\n",
       "    <tr style=\"text-align: right;\">\n",
       "      <th></th>\n",
       "      <th>count</th>\n",
       "      <th>mean</th>\n",
       "      <th>std</th>\n",
       "      <th>min</th>\n",
       "      <th>25%</th>\n",
       "      <th>50%</th>\n",
       "      <th>75%</th>\n",
       "      <th>max</th>\n",
       "    </tr>\n",
       "  </thead>\n",
       "  <tbody>\n",
       "    <tr>\n",
       "      <th>Ekran Kartı Gücü</th>\n",
       "      <td>260.0</td>\n",
       "      <td>106.673077</td>\n",
       "      <td>35.070101</td>\n",
       "      <td>45.000</td>\n",
       "      <td>95.000</td>\n",
       "      <td>105.000</td>\n",
       "      <td>140.000</td>\n",
       "      <td>175.000</td>\n",
       "    </tr>\n",
       "    <tr>\n",
       "      <th>Ekran Yenileme Hızı</th>\n",
       "      <td>1156.0</td>\n",
       "      <td>160.863322</td>\n",
       "      <td>38.729838</td>\n",
       "      <td>60.000</td>\n",
       "      <td>144.000</td>\n",
       "      <td>144.000</td>\n",
       "      <td>165.000</td>\n",
       "      <td>360.000</td>\n",
       "    </tr>\n",
       "    <tr>\n",
       "      <th>Hard Disk Kapasitesi</th>\n",
       "      <td>41.0</td>\n",
       "      <td>244.463415</td>\n",
       "      <td>252.476246</td>\n",
       "      <td>1.000</td>\n",
       "      <td>1.000</td>\n",
       "      <td>2.000</td>\n",
       "      <td>500.000</td>\n",
       "      <td>500.000</td>\n",
       "    </tr>\n",
       "    <tr>\n",
       "      <th>Maksimum İşlemci Hızı (GHz)</th>\n",
       "      <td>742.0</td>\n",
       "      <td>4.739218</td>\n",
       "      <td>0.264521</td>\n",
       "      <td>4.200</td>\n",
       "      <td>4.500</td>\n",
       "      <td>4.700</td>\n",
       "      <td>5.000</td>\n",
       "      <td>5.000</td>\n",
       "    </tr>\n",
       "    <tr>\n",
       "      <th>Price</th>\n",
       "      <td>786.0</td>\n",
       "      <td>48.739373</td>\n",
       "      <td>28.523317</td>\n",
       "      <td>15.049</td>\n",
       "      <td>32.224</td>\n",
       "      <td>41.599</td>\n",
       "      <td>49.999</td>\n",
       "      <td>238.399</td>\n",
       "    </tr>\n",
       "    <tr>\n",
       "      <th>Ram (Sistem Belleği)</th>\n",
       "      <td>1200.0</td>\n",
       "      <td>30.793333</td>\n",
       "      <td>22.997928</td>\n",
       "      <td>8.000</td>\n",
       "      <td>16.000</td>\n",
       "      <td>24.000</td>\n",
       "      <td>32.000</td>\n",
       "      <td>128.000</td>\n",
       "    </tr>\n",
       "    <tr>\n",
       "      <th>SSD Kapasitesi</th>\n",
       "      <td>1195.0</td>\n",
       "      <td>1063.986611</td>\n",
       "      <td>940.029965</td>\n",
       "      <td>256.000</td>\n",
       "      <td>512.000</td>\n",
       "      <td>1024.000</td>\n",
       "      <td>1024.000</td>\n",
       "      <td>8192.000</td>\n",
       "    </tr>\n",
       "    <tr>\n",
       "      <th>İşlemci Çekirdek Sayısı</th>\n",
       "      <td>1199.0</td>\n",
       "      <td>12.558799</td>\n",
       "      <td>6.013869</td>\n",
       "      <td>1.000</td>\n",
       "      <td>8.000</td>\n",
       "      <td>12.000</td>\n",
       "      <td>16.000</td>\n",
       "      <td>24.000</td>\n",
       "    </tr>\n",
       "  </tbody>\n",
       "</table>\n",
       "</div>"
      ],
      "text/plain": [
       "                              count         mean         std      min  \\\n",
       "Ekran Kartı Gücü              260.0   106.673077   35.070101   45.000   \n",
       "Ekran Yenileme Hızı          1156.0   160.863322   38.729838   60.000   \n",
       "Hard Disk Kapasitesi           41.0   244.463415  252.476246    1.000   \n",
       "Maksimum İşlemci Hızı (GHz)   742.0     4.739218    0.264521    4.200   \n",
       "Price                         786.0    48.739373   28.523317   15.049   \n",
       "Ram (Sistem Belleği)         1200.0    30.793333   22.997928    8.000   \n",
       "SSD Kapasitesi               1195.0  1063.986611  940.029965  256.000   \n",
       "İşlemci Çekirdek Sayısı      1199.0    12.558799    6.013869    1.000   \n",
       "\n",
       "                                 25%       50%       75%       max  \n",
       "Ekran Kartı Gücü              95.000   105.000   140.000   175.000  \n",
       "Ekran Yenileme Hızı          144.000   144.000   165.000   360.000  \n",
       "Hard Disk Kapasitesi           1.000     2.000   500.000   500.000  \n",
       "Maksimum İşlemci Hızı (GHz)    4.500     4.700     5.000     5.000  \n",
       "Price                         32.224    41.599    49.999   238.399  \n",
       "Ram (Sistem Belleği)          16.000    24.000    32.000   128.000  \n",
       "SSD Kapasitesi               512.000  1024.000  1024.000  8192.000  \n",
       "İşlemci Çekirdek Sayısı        8.000    12.000    16.000    24.000  "
      ]
     },
     "execution_count": 17,
     "metadata": {},
     "output_type": "execute_result"
    }
   ],
   "source": [
    "df.describe().T # -> .T eklentisi elde edeceğimiz çıktıyı transpose eder.\n",
    "\n",
    "# df.describe(include = \"all\") -> Veri setindeki tüm değişkenleri dahil etmek için include parametresine \"all\" değerini verebilirsiniz."
   ]
  },
  {
   "cell_type": "code",
   "execution_count": 18,
   "metadata": {},
   "outputs": [
    {
     "data": {
      "text/plain": [
       "1024.0"
      ]
     },
     "execution_count": 18,
     "metadata": {},
     "output_type": "execute_result"
    }
   ],
   "source": [
    "df[\"SSD Kapasitesi\"].mode()[0]"
   ]
  },
  {
   "cell_type": "markdown",
   "metadata": {},
   "source": [
    "# 2 - EKSİK VERİ ANALİZİ"
   ]
  },
  {
   "cell_type": "markdown",
   "metadata": {},
   "source": [
    "Eksik Veri Analizi ile, veri setimizdeki eksik verileri tespit edip bu durumu uygun bir şekilde düzeltmeyi hedefleriz.\n",
    "\n",
    "Veri seti içerisinde eksik değerler bulunması yapısal bir bozukluğa işaret eder ve mutlaka uygun yöntemlerle ele alınmalıdır.\n",
    "\n",
    "Eksik veriler, duruma bağlı olarak veri setinden silinebilir veya uygun veriler ile doldurulabilir. Ancak eksik verilerin silinmesi, silinen satır veya sütunlar içerisinde yer alan diğer verilerin kaybedilmesi anlamına gelir. Eksik verilerin doldurulması işleminde ise, veri setine sentetik bir girdi yapacağımızdan dolayı, doldurma işlemleri veri setindeki dağılımları manipüle edebilir (veri setinde yanlılık oluşturabilir).\n",
    "\n",
    "Eksik verilerin ne sebeple ortaya çıktığı hassas bir şekilde değerlendirilmeli, nasıl ele alınacağı da bu değerlendirme sonucunda uygun şekilde karar verilmelidir."
   ]
  },
  {
   "cell_type": "markdown",
   "metadata": {},
   "source": [
    "1. isna() metodu:\n",
    "Pandas'taki DataFrame veya Series içinde eksik (NaN) değerleri kontrol etmek için kullanılır.\n",
    "Eğer bir hücrede eksik veri (NaN) varsa, bu hücre için True döner, yoksa False döner.\n",
    "Boşu true dönderir."
   ]
  },
  {
   "cell_type": "markdown",
   "metadata": {},
   "source": [
    "2. isnull() metodu:\n",
    "isna() metodu ile aynı işlevi görür. Yani, eksik (NaN) değerleri kontrol eder ve her bir hücre için True veya False döner.\n",
    "Pandas'ta isna() ve isnull() birbirinin yerine kullanılabilir. Aralarındaki fark sadece metod adıdır. Yani, biri diğerine eşdeğerdir."
   ]
  },
  {
   "cell_type": "code",
   "execution_count": 19,
   "metadata": {},
   "outputs": [],
   "source": [
    "def save_to_excel(df, file_name=\"cleaned_data.xlsx\"):\n",
    "    \"\"\"\n",
    "    Bu fonksiyon, verilen DataFrame'i belirtilen dosya adına kaydeder.\n",
    "\n",
    "    Args:\n",
    "    - df: Pandas DataFrame\n",
    "    - file_name: Kaydedilecek Excel dosyasının adı\n",
    "    \"\"\"\n",
    "    df.to_excel(file_name, index=False)\n",
    "    print(f\"Dosya '{file_name}' adıyla başarıyla kaydedildi.\")"
   ]
  },
  {
   "cell_type": "code",
   "execution_count": 20,
   "metadata": {},
   "outputs": [
    {
     "name": "stdout",
     "output_type": "stream",
     "text": [
      "Dosya 'cleaned_data.xlsx' adıyla başarıyla kaydedildi.\n",
      "Index(['Max_Bellek', 'Baglantilar', 'Agirlik', 'Dokunmatik', 'Ekran_Boyutu',\n",
      "       'Ekran_Karti', 'GPU_Bellek_Tipi', 'GPU_Gucu', 'GPU_Hafizasi',\n",
      "       'GPU_Tipi', 'Yenileme_Hizi', 'Garanti_Suresi', 'Garanti_Tipi',\n",
      "       'HDD_Kapasitesi', 'Kapasite', 'Klavye', 'Kullanım_Amaci',\n",
      "       'Max_CPU_Hizi_GHz', 'Mensei', 'Panel_Tipi', 'Fiyat', 'RAM', 'RAM_Tipi',\n",
      "       'Renk', 'SSD_Kapasitesi', 'Temel_CPU_Hizi_GHz', 'Baslik', 'Cozunurluk',\n",
      "       'Cozunurluk_Standardi', 'Islemci_Modeli', 'Islemci_Nesli',\n",
      "       'Islemci_Tipi', 'CPU_Cekirdek_Sayisi', 'Isletim_Sistemi',\n",
      "       'Sarjli_Kullanim_Suresi'],\n",
      "      dtype='object')\n"
     ]
    }
   ],
   "source": [
    "\n",
    "# Sütun adlarını değiştirelim (inplace=True kullanarak)\n",
    "df.rename(columns={\n",
    "    'Arttırılabilir Azami Bellek': 'Max_Bellek',\n",
    "    'Bağlantılar': 'Baglantilar',\n",
    "    'Cihaz Ağırlığı': 'Agirlik',\n",
    "    'Dokunmatik Ekran': 'Dokunmatik',\n",
    "    'Ekran Boyutu': 'Ekran_Boyutu',\n",
    "    'Ekran Kartı': 'Ekran_Karti',\n",
    "    'Ekran Kartı Bellek Tipi': 'GPU_Bellek_Tipi',\n",
    "    'Ekran Kartı Gücü': 'GPU_Gucu',\n",
    "    'Ekran Kartı Hafızası': 'GPU_Hafizasi',\n",
    "    'Ekran Kartı Tipi': 'GPU_Tipi',\n",
    "    'Ekran Yenileme Hızı': 'Yenileme_Hizi',\n",
    "    'Garanti Süresi': 'Garanti_Suresi',\n",
    "    'Garanti Tipi': 'Garanti_Tipi',\n",
    "    'Hard Disk Kapasitesi': 'HDD_Kapasitesi',\n",
    "    'Kapasite': 'Kapasite',\n",
    "    'Klavye': 'Klavye',\n",
    "    'Kullanım Amacı': 'Kullanım_Amaci',\n",
    "    'Maksimum İşlemci Hızı (GHz)': 'Max_CPU_Hizi_GHz',\n",
    "    'Menşei': 'Mensei',\n",
    "    'Panel Tipi': 'Panel_Tipi',\n",
    "    'Price': 'Fiyat',\n",
    "    'Ram (Sistem Belleği)': 'RAM',\n",
    "    'Ram (Sistem Belleği) Tipi': 'RAM_Tipi',\n",
    "    'Renk': 'Renk',\n",
    "    'SSD Kapasitesi': 'SSD_Kapasitesi',\n",
    "    'Temel İşlemci Hızı (GHz)': 'Temel_CPU_Hizi_GHz',\n",
    "    'Title': 'Baslik',\n",
    "    'Çözünürlük': 'Cozunurluk',\n",
    "    'Çözünürlük Standartı': 'Cozunurluk_Standardi',\n",
    "    'İşlemci Modeli': 'Islemci_Modeli',\n",
    "    'İşlemci Nesli': 'Islemci_Nesli',\n",
    "    'İşlemci Tipi': 'Islemci_Tipi',\n",
    "    'İşlemci Çekirdek Sayısı': 'CPU_Cekirdek_Sayisi',\n",
    "    'İşletim Sistemi': 'Isletim_Sistemi',\n",
    "    'Şarjlı Kullanım Süresi': 'Sarjli_Kullanim_Suresi'\n",
    "}, inplace=True)\n",
    "\n",
    "save_to_excel(df)\n",
    "\n",
    "# Yeni sütun adlarını yazdıralım\n",
    "print(df.columns)\n",
    "\n",
    "\n"
   ]
  },
  {
   "cell_type": "code",
   "execution_count": 21,
   "metadata": {},
   "outputs": [
    {
     "data": {
      "text/plain": [
       "Max_Bellek                 390\n",
       "Baglantilar                  3\n",
       "Agirlik                      0\n",
       "Dokunmatik                   0\n",
       "Ekran_Boyutu                 0\n",
       "Ekran_Karti                  0\n",
       "GPU_Bellek_Tipi              0\n",
       "GPU_Gucu                   940\n",
       "GPU_Hafizasi                 0\n",
       "GPU_Tipi                     0\n",
       "Yenileme_Hizi               44\n",
       "Garanti_Suresi               0\n",
       "Garanti_Tipi                 0\n",
       "HDD_Kapasitesi            1159\n",
       "Kapasite                  1199\n",
       "Klavye                       0\n",
       "Kullanım_Amaci               0\n",
       "Max_CPU_Hizi_GHz           458\n",
       "Mensei                    1190\n",
       "Panel_Tipi                   1\n",
       "Fiyat                      414\n",
       "RAM                          0\n",
       "RAM_Tipi                     0\n",
       "Renk                         0\n",
       "SSD_Kapasitesi               5\n",
       "Temel_CPU_Hizi_GHz         767\n",
       "Baslik                       0\n",
       "Cozunurluk                   0\n",
       "Cozunurluk_Standardi         0\n",
       "Islemci_Modeli               0\n",
       "Islemci_Nesli                0\n",
       "Islemci_Tipi                 0\n",
       "CPU_Cekirdek_Sayisi          1\n",
       "Isletim_Sistemi              0\n",
       "Sarjli_Kullanim_Suresi     885\n",
       "dtype: int64"
      ]
     },
     "execution_count": 21,
     "metadata": {},
     "output_type": "execute_result"
    }
   ],
   "source": [
    "df.isna().sum() # -> isna() methodu yerine isnull() methodu da kullanılabilir."
   ]
  },
  {
   "cell_type": "code",
   "execution_count": 22,
   "metadata": {},
   "outputs": [],
   "source": [
    "# Eksik değerlerin sayısını ve oranını hesaplama\n",
    "missing_data = df.isnull().sum()  # Eksik değerlerin sayısını alıyoruz\n",
    "missing_percentage = (missing_data / len(df)) * 100  # Oranı hesaplıyoruz"
   ]
  },
  {
   "cell_type": "code",
   "execution_count": 23,
   "metadata": {},
   "outputs": [
    {
     "data": {
      "text/plain": [
       "Max_Bellek                32.500000\n",
       "Baglantilar                0.250000\n",
       "Agirlik                    0.000000\n",
       "Dokunmatik                 0.000000\n",
       "Ekran_Boyutu               0.000000\n",
       "Ekran_Karti                0.000000\n",
       "GPU_Bellek_Tipi            0.000000\n",
       "GPU_Gucu                  78.333333\n",
       "GPU_Hafizasi               0.000000\n",
       "GPU_Tipi                   0.000000\n",
       "Yenileme_Hizi              3.666667\n",
       "Garanti_Suresi             0.000000\n",
       "Garanti_Tipi               0.000000\n",
       "HDD_Kapasitesi            96.583333\n",
       "Kapasite                  99.916667\n",
       "Klavye                     0.000000\n",
       "Kullanım_Amaci             0.000000\n",
       "Max_CPU_Hizi_GHz          38.166667\n",
       "Mensei                    99.166667\n",
       "Panel_Tipi                 0.083333\n",
       "Fiyat                     34.500000\n",
       "RAM                        0.000000\n",
       "RAM_Tipi                   0.000000\n",
       "Renk                       0.000000\n",
       "SSD_Kapasitesi             0.416667\n",
       "Temel_CPU_Hizi_GHz        63.916667\n",
       "Baslik                     0.000000\n",
       "Cozunurluk                 0.000000\n",
       "Cozunurluk_Standardi       0.000000\n",
       "Islemci_Modeli             0.000000\n",
       "Islemci_Nesli              0.000000\n",
       "Islemci_Tipi               0.000000\n",
       "CPU_Cekirdek_Sayisi        0.083333\n",
       "Isletim_Sistemi            0.000000\n",
       "Sarjli_Kullanim_Suresi    73.750000\n",
       "dtype: float64"
      ]
     },
     "execution_count": 23,
     "metadata": {},
     "output_type": "execute_result"
    }
   ],
   "source": [
    "missing_percentage"
   ]
  },
  {
   "cell_type": "markdown",
   "metadata": {},
   "source": [
    "Veri setindeki toplam eksik değer sayısını görmek için tekrar sum() fonksiyonu ekleyebiliriz."
   ]
  },
  {
   "cell_type": "code",
   "execution_count": 24,
   "metadata": {},
   "outputs": [
    {
     "data": {
      "text/plain": [
       "7456"
      ]
     },
     "execution_count": 24,
     "metadata": {},
     "output_type": "execute_result"
    }
   ],
   "source": [
    "df.isna().sum().sum() "
   ]
  },
  {
   "cell_type": "code",
   "execution_count": 25,
   "metadata": {},
   "outputs": [
    {
     "data": {
      "text/plain": [
       "Max_Bellek                 810\n",
       "Baglantilar               1197\n",
       "Agirlik                   1200\n",
       "Dokunmatik                1200\n",
       "Ekran_Boyutu              1200\n",
       "Ekran_Karti               1200\n",
       "GPU_Bellek_Tipi           1200\n",
       "GPU_Gucu                   260\n",
       "GPU_Hafizasi              1200\n",
       "GPU_Tipi                  1200\n",
       "Yenileme_Hizi             1156\n",
       "Garanti_Suresi            1200\n",
       "Garanti_Tipi              1200\n",
       "HDD_Kapasitesi              41\n",
       "Kapasite                     1\n",
       "Klavye                    1200\n",
       "Kullanım_Amaci            1200\n",
       "Max_CPU_Hizi_GHz           742\n",
       "Mensei                      10\n",
       "Panel_Tipi                1199\n",
       "Fiyat                      786\n",
       "RAM                       1200\n",
       "RAM_Tipi                  1200\n",
       "Renk                      1200\n",
       "SSD_Kapasitesi            1195\n",
       "Temel_CPU_Hizi_GHz         433\n",
       "Baslik                    1200\n",
       "Cozunurluk                1200\n",
       "Cozunurluk_Standardi      1200\n",
       "Islemci_Modeli            1200\n",
       "Islemci_Nesli             1200\n",
       "Islemci_Tipi              1200\n",
       "CPU_Cekirdek_Sayisi       1199\n",
       "Isletim_Sistemi           1200\n",
       "Sarjli_Kullanim_Suresi     315\n",
       "dtype: int64"
      ]
     },
     "execution_count": 25,
     "metadata": {},
     "output_type": "execute_result"
    }
   ],
   "source": [
    "# Her bir sütundaki ne kadar veri olduğunu gösterir.\n",
    "df.notnull().sum()"
   ]
  },
  {
   "cell_type": "markdown",
   "metadata": {},
   "source": [
    "None ve NaN değerler arasındaki fark nedir?\n",
    "\n",
    "None (null) değerler ile NaN değerler arasındaki farkın ne olduğunu görmek için güzel bir kaynak: https://medium.com/@allenhuang1996/whats-the-difference-between-null-and-nan-in-python-a1af20d523ce"
   ]
  },
  {
   "cell_type": "code",
   "execution_count": 26,
   "metadata": {},
   "outputs": [
    {
     "name": "stdout",
     "output_type": "stream",
     "text": [
      "Veri seti içerisinde toplam 34544 adet eksik olmayan, 7456 eksik gözlem var.\n"
     ]
    }
   ],
   "source": [
    "# Veri setinde toplam kaç adet eksik gözlem var, kaç adet eksik olmayan gözlem var görelim.\n",
    "print(f\"Veri seti içerisinde toplam {df.notnull().sum().sum()} adet eksik olmayan, {df.isnull().sum().sum()} eksik gözlem var.\")"
   ]
  },
  {
   "cell_type": "code",
   "execution_count": 27,
   "metadata": {},
   "outputs": [
    {
     "data": {
      "text/html": [
       "<div>\n",
       "<style scoped>\n",
       "    .dataframe tbody tr th:only-of-type {\n",
       "        vertical-align: middle;\n",
       "    }\n",
       "\n",
       "    .dataframe tbody tr th {\n",
       "        vertical-align: top;\n",
       "    }\n",
       "\n",
       "    .dataframe thead th {\n",
       "        text-align: right;\n",
       "    }\n",
       "</style>\n",
       "<table border=\"1\" class=\"dataframe\">\n",
       "  <thead>\n",
       "    <tr style=\"text-align: right;\">\n",
       "      <th></th>\n",
       "      <th>Max_Bellek</th>\n",
       "      <th>Baglantilar</th>\n",
       "      <th>Agirlik</th>\n",
       "      <th>Dokunmatik</th>\n",
       "      <th>Ekran_Boyutu</th>\n",
       "      <th>Ekran_Karti</th>\n",
       "      <th>GPU_Bellek_Tipi</th>\n",
       "      <th>GPU_Gucu</th>\n",
       "      <th>GPU_Hafizasi</th>\n",
       "      <th>GPU_Tipi</th>\n",
       "      <th>...</th>\n",
       "      <th>Temel_CPU_Hizi_GHz</th>\n",
       "      <th>Baslik</th>\n",
       "      <th>Cozunurluk</th>\n",
       "      <th>Cozunurluk_Standardi</th>\n",
       "      <th>Islemci_Modeli</th>\n",
       "      <th>Islemci_Nesli</th>\n",
       "      <th>Islemci_Tipi</th>\n",
       "      <th>CPU_Cekirdek_Sayisi</th>\n",
       "      <th>Isletim_Sistemi</th>\n",
       "      <th>Sarjli_Kullanim_Suresi</th>\n",
       "    </tr>\n",
       "  </thead>\n",
       "  <tbody>\n",
       "    <tr>\n",
       "      <th>0</th>\n",
       "      <td>16 GB</td>\n",
       "      <td>USB - Bluetooth - HDMI</td>\n",
       "      <td>2 - 4 kg</td>\n",
       "      <td>Yok</td>\n",
       "      <td>15,6 inç</td>\n",
       "      <td>Nvidia GeForce RTX 4060</td>\n",
       "      <td>GDDR6</td>\n",
       "      <td>NaN</td>\n",
       "      <td>8 GB</td>\n",
       "      <td>Harici</td>\n",
       "      <td>...</td>\n",
       "      <td>NaN</td>\n",
       "      <td>LOQ 15IAX9 83GS007XTR i5-12450HX 8GB 512 GB SS...</td>\n",
       "      <td>1920 x 1080</td>\n",
       "      <td>Full HD (FHD)</td>\n",
       "      <td>Belirtilmemiş</td>\n",
       "      <td>12. Nesil</td>\n",
       "      <td>Intel Core i5</td>\n",
       "      <td>8.0</td>\n",
       "      <td>Free Dos</td>\n",
       "      <td>NaN</td>\n",
       "    </tr>\n",
       "    <tr>\n",
       "      <th>1</th>\n",
       "      <td>16 GB</td>\n",
       "      <td>USB - Bluetooth - HDMI</td>\n",
       "      <td>2 - 4 kg</td>\n",
       "      <td>Yok</td>\n",
       "      <td>15,6 inç</td>\n",
       "      <td>Nvidia GeForce RTX 3050</td>\n",
       "      <td>GDDR6</td>\n",
       "      <td>NaN</td>\n",
       "      <td>6 GB</td>\n",
       "      <td>Harici</td>\n",
       "      <td>...</td>\n",
       "      <td>NaN</td>\n",
       "      <td>G15-5530 Intel Core i7-13650HX 16GB 512GB SSD ...</td>\n",
       "      <td>1920 x 1080</td>\n",
       "      <td>Full HD (FHD)</td>\n",
       "      <td>13650HX</td>\n",
       "      <td>13. Nesil</td>\n",
       "      <td>Intel Core i7</td>\n",
       "      <td>24.0</td>\n",
       "      <td>Free Dos</td>\n",
       "      <td>NaN</td>\n",
       "    </tr>\n",
       "    <tr>\n",
       "      <th>2</th>\n",
       "      <td>16 GB</td>\n",
       "      <td>USB - Bluetooth - HDMI</td>\n",
       "      <td>2 kg ve altı</td>\n",
       "      <td>Yok</td>\n",
       "      <td>15,6 inç</td>\n",
       "      <td>Nvidia GeForce RTX 2050</td>\n",
       "      <td>GDDR6</td>\n",
       "      <td>55.0</td>\n",
       "      <td>4 GB ve altı</td>\n",
       "      <td>Harici</td>\n",
       "      <td>...</td>\n",
       "      <td>2.3</td>\n",
       "      <td>Abra A5 V21.3 Intel Core i7 12700H 16 GB RAM 5...</td>\n",
       "      <td>1920 x 1080</td>\n",
       "      <td>Full HD (FHD)</td>\n",
       "      <td>12700H</td>\n",
       "      <td>12. Nesil</td>\n",
       "      <td>Intel Core i7</td>\n",
       "      <td>14.0</td>\n",
       "      <td>Free Dos</td>\n",
       "      <td>4-6 Saat</td>\n",
       "    </tr>\n",
       "    <tr>\n",
       "      <th>3</th>\n",
       "      <td>32 GB</td>\n",
       "      <td>USB - Bluetooth - HDMI</td>\n",
       "      <td>2 - 4 kg</td>\n",
       "      <td>Yok</td>\n",
       "      <td>15,6 inç</td>\n",
       "      <td>Nvidia GeForce RTX 4050</td>\n",
       "      <td>GDDR6</td>\n",
       "      <td>105.0</td>\n",
       "      <td>6 GB</td>\n",
       "      <td>Harici</td>\n",
       "      <td>...</td>\n",
       "      <td>3.1</td>\n",
       "      <td>LOQ Intel Core i5-12450HX 16GB 512GB SSD 6GB R...</td>\n",
       "      <td>1920 x 1080</td>\n",
       "      <td>Full HD (FHD)</td>\n",
       "      <td>12450H</td>\n",
       "      <td>12. Nesil</td>\n",
       "      <td>Intel Core i5</td>\n",
       "      <td>8.0</td>\n",
       "      <td>Free Dos</td>\n",
       "      <td>6 Saat ve Üstü</td>\n",
       "    </tr>\n",
       "    <tr>\n",
       "      <th>4</th>\n",
       "      <td>64 GB</td>\n",
       "      <td>HDMI</td>\n",
       "      <td>2 - 4 kg</td>\n",
       "      <td>Yok</td>\n",
       "      <td>15,6 inç</td>\n",
       "      <td>Nvidia GeForce RTX 3050</td>\n",
       "      <td>GDDR6</td>\n",
       "      <td>NaN</td>\n",
       "      <td>4 GB ve altı</td>\n",
       "      <td>Harici</td>\n",
       "      <td>...</td>\n",
       "      <td>2.5</td>\n",
       "      <td>Excalibur G770.1245-BVJ0X-B i5-12450H 16GB RAM...</td>\n",
       "      <td>1920 x 1080</td>\n",
       "      <td>Full HD (FHD)</td>\n",
       "      <td>12450H</td>\n",
       "      <td>12. Nesil</td>\n",
       "      <td>Intel Core i5</td>\n",
       "      <td>8.0</td>\n",
       "      <td>Free Dos</td>\n",
       "      <td>NaN</td>\n",
       "    </tr>\n",
       "    <tr>\n",
       "      <th>...</th>\n",
       "      <td>...</td>\n",
       "      <td>...</td>\n",
       "      <td>...</td>\n",
       "      <td>...</td>\n",
       "      <td>...</td>\n",
       "      <td>...</td>\n",
       "      <td>...</td>\n",
       "      <td>...</td>\n",
       "      <td>...</td>\n",
       "      <td>...</td>\n",
       "      <td>...</td>\n",
       "      <td>...</td>\n",
       "      <td>...</td>\n",
       "      <td>...</td>\n",
       "      <td>...</td>\n",
       "      <td>...</td>\n",
       "      <td>...</td>\n",
       "      <td>...</td>\n",
       "      <td>...</td>\n",
       "      <td>...</td>\n",
       "      <td>...</td>\n",
       "    </tr>\n",
       "    <tr>\n",
       "      <th>1195</th>\n",
       "      <td>64 GB</td>\n",
       "      <td>USB - Bluetooth - HDMI</td>\n",
       "      <td>2 - 4 kg</td>\n",
       "      <td>Yok</td>\n",
       "      <td>17,3 inç</td>\n",
       "      <td>Nvidia GeForce RTX 4060</td>\n",
       "      <td>GDDR6</td>\n",
       "      <td>105.0</td>\n",
       "      <td>8 GB</td>\n",
       "      <td>Harici</td>\n",
       "      <td>...</td>\n",
       "      <td>1.8</td>\n",
       "      <td>Katana 17 B13VFK37 i7 13620H 96GB 256GB SSD RT...</td>\n",
       "      <td>1920 x 1080</td>\n",
       "      <td>Full HD (FHD)</td>\n",
       "      <td>13620H</td>\n",
       "      <td>13. Nesil</td>\n",
       "      <td>Intel Core i7</td>\n",
       "      <td>16.0</td>\n",
       "      <td>Windows</td>\n",
       "      <td>NaN</td>\n",
       "    </tr>\n",
       "    <tr>\n",
       "      <th>1196</th>\n",
       "      <td>NaN</td>\n",
       "      <td>USB - Bluetooth - HDMI</td>\n",
       "      <td>2 - 4 kg</td>\n",
       "      <td>Yok</td>\n",
       "      <td>16 inç</td>\n",
       "      <td>Nvidia GeForce RTX 3050 Ti</td>\n",
       "      <td>GDDR6</td>\n",
       "      <td>NaN</td>\n",
       "      <td>4 GB ve altı</td>\n",
       "      <td>Harici</td>\n",
       "      <td>...</td>\n",
       "      <td>NaN</td>\n",
       "      <td>GU603ZE-LS012 INTEL / I7-12700 / 16GB / 512GB ...</td>\n",
       "      <td>1920 x 1200</td>\n",
       "      <td>Full HD (FHD)</td>\n",
       "      <td>12700H</td>\n",
       "      <td>12. Nesil</td>\n",
       "      <td>Intel Core i7</td>\n",
       "      <td>14.0</td>\n",
       "      <td>Free Dos</td>\n",
       "      <td>NaN</td>\n",
       "    </tr>\n",
       "    <tr>\n",
       "      <th>1197</th>\n",
       "      <td>NaN</td>\n",
       "      <td>USB - Bluetooth - HDMI</td>\n",
       "      <td>2 - 4 kg</td>\n",
       "      <td>Yok</td>\n",
       "      <td>15,6 inç</td>\n",
       "      <td>Nvidia GeForce RTX 4060</td>\n",
       "      <td>GDDR6</td>\n",
       "      <td>NaN</td>\n",
       "      <td>8 GB</td>\n",
       "      <td>Harici</td>\n",
       "      <td>...</td>\n",
       "      <td>NaN</td>\n",
       "      <td>Nitro 5 i7 12700H 48GB 4TB SSD RTX4060/8GB 165...</td>\n",
       "      <td>1920 x 1080</td>\n",
       "      <td>Full HD (FHD)</td>\n",
       "      <td>12700H</td>\n",
       "      <td>12. Nesil</td>\n",
       "      <td>Intel Core i7</td>\n",
       "      <td>14.0</td>\n",
       "      <td>Windows</td>\n",
       "      <td>NaN</td>\n",
       "    </tr>\n",
       "    <tr>\n",
       "      <th>1198</th>\n",
       "      <td>NaN</td>\n",
       "      <td>USB - Bluetooth - HDMI</td>\n",
       "      <td>2 - 4 kg</td>\n",
       "      <td>Yok</td>\n",
       "      <td>15,6 inç</td>\n",
       "      <td>Nvidia GeForce RTX 4060</td>\n",
       "      <td>GDDR6</td>\n",
       "      <td>NaN</td>\n",
       "      <td>8 GB</td>\n",
       "      <td>Harici</td>\n",
       "      <td>...</td>\n",
       "      <td>NaN</td>\n",
       "      <td>Nitro 5 i7 12700H 32GB 4TB SSD RTX4060/8GB 165...</td>\n",
       "      <td>1920 x 1080</td>\n",
       "      <td>Full HD (FHD)</td>\n",
       "      <td>12700H</td>\n",
       "      <td>12. Nesil</td>\n",
       "      <td>Intel Core i7</td>\n",
       "      <td>14.0</td>\n",
       "      <td>Windows</td>\n",
       "      <td>NaN</td>\n",
       "    </tr>\n",
       "    <tr>\n",
       "      <th>1199</th>\n",
       "      <td>NaN</td>\n",
       "      <td>USB - Bluetooth - HDMI</td>\n",
       "      <td>2 - 4 kg</td>\n",
       "      <td>Yok</td>\n",
       "      <td>15,6 inç</td>\n",
       "      <td>Nvidia GeForce RTX 4060</td>\n",
       "      <td>GDDR6</td>\n",
       "      <td>NaN</td>\n",
       "      <td>8 GB</td>\n",
       "      <td>Harici</td>\n",
       "      <td>...</td>\n",
       "      <td>NaN</td>\n",
       "      <td>Nitro 5 i7 12700H 64GB 2TB SSD RTX4060/8GB 165...</td>\n",
       "      <td>1920 x 1080</td>\n",
       "      <td>Full HD (FHD)</td>\n",
       "      <td>12700H</td>\n",
       "      <td>12. Nesil</td>\n",
       "      <td>Intel Core i7</td>\n",
       "      <td>14.0</td>\n",
       "      <td>Windows</td>\n",
       "      <td>NaN</td>\n",
       "    </tr>\n",
       "  </tbody>\n",
       "</table>\n",
       "<p>1200 rows × 35 columns</p>\n",
       "</div>"
      ],
      "text/plain": [
       "     Max_Bellek             Baglantilar       Agirlik Dokunmatik Ekran_Boyutu  \\\n",
       "0         16 GB  USB - Bluetooth - HDMI      2 - 4 kg        Yok     15,6 inç   \n",
       "1         16 GB  USB - Bluetooth - HDMI      2 - 4 kg        Yok     15,6 inç   \n",
       "2         16 GB  USB - Bluetooth - HDMI  2 kg ve altı        Yok     15,6 inç   \n",
       "3         32 GB  USB - Bluetooth - HDMI      2 - 4 kg        Yok     15,6 inç   \n",
       "4         64 GB                    HDMI      2 - 4 kg        Yok     15,6 inç   \n",
       "...         ...                     ...           ...        ...          ...   \n",
       "1195      64 GB  USB - Bluetooth - HDMI      2 - 4 kg        Yok     17,3 inç   \n",
       "1196        NaN  USB - Bluetooth - HDMI      2 - 4 kg        Yok       16 inç   \n",
       "1197        NaN  USB - Bluetooth - HDMI      2 - 4 kg        Yok     15,6 inç   \n",
       "1198        NaN  USB - Bluetooth - HDMI      2 - 4 kg        Yok     15,6 inç   \n",
       "1199        NaN  USB - Bluetooth - HDMI      2 - 4 kg        Yok     15,6 inç   \n",
       "\n",
       "                     Ekran_Karti GPU_Bellek_Tipi  GPU_Gucu  GPU_Hafizasi  \\\n",
       "0        Nvidia GeForce RTX 4060           GDDR6       NaN          8 GB   \n",
       "1        Nvidia GeForce RTX 3050           GDDR6       NaN          6 GB   \n",
       "2        Nvidia GeForce RTX 2050           GDDR6      55.0  4 GB ve altı   \n",
       "3        Nvidia GeForce RTX 4050           GDDR6     105.0          6 GB   \n",
       "4        Nvidia GeForce RTX 3050           GDDR6       NaN  4 GB ve altı   \n",
       "...                          ...             ...       ...           ...   \n",
       "1195     Nvidia GeForce RTX 4060           GDDR6     105.0          8 GB   \n",
       "1196  Nvidia GeForce RTX 3050 Ti           GDDR6       NaN  4 GB ve altı   \n",
       "1197     Nvidia GeForce RTX 4060           GDDR6       NaN          8 GB   \n",
       "1198     Nvidia GeForce RTX 4060           GDDR6       NaN          8 GB   \n",
       "1199     Nvidia GeForce RTX 4060           GDDR6       NaN          8 GB   \n",
       "\n",
       "     GPU_Tipi  ...  Temel_CPU_Hizi_GHz  \\\n",
       "0      Harici  ...                 NaN   \n",
       "1      Harici  ...                 NaN   \n",
       "2      Harici  ...                 2.3   \n",
       "3      Harici  ...                 3.1   \n",
       "4      Harici  ...                 2.5   \n",
       "...       ...  ...                 ...   \n",
       "1195   Harici  ...                 1.8   \n",
       "1196   Harici  ...                 NaN   \n",
       "1197   Harici  ...                 NaN   \n",
       "1198   Harici  ...                 NaN   \n",
       "1199   Harici  ...                 NaN   \n",
       "\n",
       "                                                 Baslik   Cozunurluk  \\\n",
       "0     LOQ 15IAX9 83GS007XTR i5-12450HX 8GB 512 GB SS...  1920 x 1080   \n",
       "1     G15-5530 Intel Core i7-13650HX 16GB 512GB SSD ...  1920 x 1080   \n",
       "2     Abra A5 V21.3 Intel Core i7 12700H 16 GB RAM 5...  1920 x 1080   \n",
       "3     LOQ Intel Core i5-12450HX 16GB 512GB SSD 6GB R...  1920 x 1080   \n",
       "4     Excalibur G770.1245-BVJ0X-B i5-12450H 16GB RAM...  1920 x 1080   \n",
       "...                                                 ...          ...   \n",
       "1195  Katana 17 B13VFK37 i7 13620H 96GB 256GB SSD RT...  1920 x 1080   \n",
       "1196  GU603ZE-LS012 INTEL / I7-12700 / 16GB / 512GB ...  1920 x 1200   \n",
       "1197  Nitro 5 i7 12700H 48GB 4TB SSD RTX4060/8GB 165...  1920 x 1080   \n",
       "1198  Nitro 5 i7 12700H 32GB 4TB SSD RTX4060/8GB 165...  1920 x 1080   \n",
       "1199  Nitro 5 i7 12700H 64GB 2TB SSD RTX4060/8GB 165...  1920 x 1080   \n",
       "\n",
       "      Cozunurluk_Standardi Islemci_Modeli Islemci_Nesli   Islemci_Tipi  \\\n",
       "0            Full HD (FHD)  Belirtilmemiş     12. Nesil  Intel Core i5   \n",
       "1            Full HD (FHD)        13650HX     13. Nesil  Intel Core i7   \n",
       "2            Full HD (FHD)         12700H     12. Nesil  Intel Core i7   \n",
       "3            Full HD (FHD)         12450H     12. Nesil  Intel Core i5   \n",
       "4            Full HD (FHD)         12450H     12. Nesil  Intel Core i5   \n",
       "...                    ...            ...           ...            ...   \n",
       "1195         Full HD (FHD)         13620H     13. Nesil  Intel Core i7   \n",
       "1196         Full HD (FHD)         12700H     12. Nesil  Intel Core i7   \n",
       "1197         Full HD (FHD)         12700H     12. Nesil  Intel Core i7   \n",
       "1198         Full HD (FHD)         12700H     12. Nesil  Intel Core i7   \n",
       "1199         Full HD (FHD)         12700H     12. Nesil  Intel Core i7   \n",
       "\n",
       "      CPU_Cekirdek_Sayisi Isletim_Sistemi Sarjli_Kullanim_Suresi  \n",
       "0                     8.0        Free Dos                    NaN  \n",
       "1                    24.0        Free Dos                    NaN  \n",
       "2                    14.0        Free Dos               4-6 Saat  \n",
       "3                     8.0        Free Dos         6 Saat ve Üstü  \n",
       "4                     8.0        Free Dos                    NaN  \n",
       "...                   ...             ...                    ...  \n",
       "1195                 16.0         Windows                    NaN  \n",
       "1196                 14.0        Free Dos                    NaN  \n",
       "1197                 14.0         Windows                    NaN  \n",
       "1198                 14.0         Windows                    NaN  \n",
       "1199                 14.0         Windows                    NaN  \n",
       "\n",
       "[1200 rows x 35 columns]"
      ]
     },
     "execution_count": 27,
     "metadata": {},
     "output_type": "execute_result"
    }
   ],
   "source": [
    "# Veri setinde en az bir gözlemi eksik olan kayıtlara da ulaşabiliriz.\n",
    "df[df.isnull().any(axis = 1)]"
   ]
  },
  {
   "cell_type": "code",
   "execution_count": 28,
   "metadata": {},
   "outputs": [
    {
     "data": {
      "text/html": [
       "<div>\n",
       "<style scoped>\n",
       "    .dataframe tbody tr th:only-of-type {\n",
       "        vertical-align: middle;\n",
       "    }\n",
       "\n",
       "    .dataframe tbody tr th {\n",
       "        vertical-align: top;\n",
       "    }\n",
       "\n",
       "    .dataframe thead th {\n",
       "        text-align: right;\n",
       "    }\n",
       "</style>\n",
       "<table border=\"1\" class=\"dataframe\">\n",
       "  <thead>\n",
       "    <tr style=\"text-align: right;\">\n",
       "      <th></th>\n",
       "      <th>Max_Bellek</th>\n",
       "      <th>Baglantilar</th>\n",
       "      <th>Agirlik</th>\n",
       "      <th>Dokunmatik</th>\n",
       "      <th>Ekran_Boyutu</th>\n",
       "      <th>Ekran_Karti</th>\n",
       "      <th>GPU_Bellek_Tipi</th>\n",
       "      <th>GPU_Gucu</th>\n",
       "      <th>GPU_Hafizasi</th>\n",
       "      <th>GPU_Tipi</th>\n",
       "      <th>...</th>\n",
       "      <th>Temel_CPU_Hizi_GHz</th>\n",
       "      <th>Baslik</th>\n",
       "      <th>Cozunurluk</th>\n",
       "      <th>Cozunurluk_Standardi</th>\n",
       "      <th>Islemci_Modeli</th>\n",
       "      <th>Islemci_Nesli</th>\n",
       "      <th>Islemci_Tipi</th>\n",
       "      <th>CPU_Cekirdek_Sayisi</th>\n",
       "      <th>Isletim_Sistemi</th>\n",
       "      <th>Sarjli_Kullanim_Suresi</th>\n",
       "    </tr>\n",
       "  </thead>\n",
       "  <tbody>\n",
       "  </tbody>\n",
       "</table>\n",
       "<p>0 rows × 35 columns</p>\n",
       "</div>"
      ],
      "text/plain": [
       "Empty DataFrame\n",
       "Columns: [Max_Bellek, Baglantilar, Agirlik, Dokunmatik, Ekran_Boyutu, Ekran_Karti, GPU_Bellek_Tipi, GPU_Gucu, GPU_Hafizasi, GPU_Tipi, Yenileme_Hizi, Garanti_Suresi, Garanti_Tipi, HDD_Kapasitesi, Kapasite, Klavye, Kullanım_Amaci, Max_CPU_Hizi_GHz, Mensei, Panel_Tipi, Fiyat, RAM, RAM_Tipi, Renk, SSD_Kapasitesi, Temel_CPU_Hizi_GHz, Baslik, Cozunurluk, Cozunurluk_Standardi, Islemci_Modeli, Islemci_Nesli, Islemci_Tipi, CPU_Cekirdek_Sayisi, Isletim_Sistemi, Sarjli_Kullanim_Suresi]\n",
       "Index: []\n",
       "\n",
       "[0 rows x 35 columns]"
      ]
     },
     "execution_count": 28,
     "metadata": {},
     "output_type": "execute_result"
    }
   ],
   "source": [
    "# Hiç eksik gözlemi bulunmayan kayıtları getirelim.\n",
    "df[df.notnull().all(axis = 1)][:5]"
   ]
  },
  {
   "cell_type": "code",
   "execution_count": 29,
   "metadata": {},
   "outputs": [
    {
     "data": {
      "image/png": "[encoded data removed]",
      "text/plain": [
       "<Figure size 800x400 with 2 Axes>"
      ]
     },
     "metadata": {},
     "output_type": "display_data"
    }
   ],
   "source": [
    "msno.matrix(df, figsize=(8, 4), fontsize=10)\n",
    "\n",
    "plt.show()"
   ]
  },
  {
   "cell_type": "code",
   "execution_count": 30,
   "metadata": {},
   "outputs": [
    {
     "data": {
      "image/png": "[encoded data removed]",
      "text/plain": [
       "<Figure size 1500x500 with 3 Axes>"
      ]
     },
     "metadata": {},
     "output_type": "display_data"
    }
   ],
   "source": [
    "msno.bar(df = df,\n",
    "         figsize = (15, 5),\n",
    "         fontsize = 12);"
   ]
  },
  {
   "cell_type": "code",
   "execution_count": 31,
   "metadata": {},
   "outputs": [
    {
     "name": "stdout",
     "output_type": "stream",
     "text": [
      "Dosya 'cleaned_data.xlsx' adıyla başarıyla kaydedildi.\n"
     ]
    }
   ],
   "source": [
    "# Yukarıda görülen grafiğe bakarak kapasite ve menşei'nin bizim yapacağımız modele bir faydası olmadığından ve verileri eksik olduğundan siliyoruz.\n",
    "# Sütunları silme işlemleri (yeni isimlerle)\n",
    "df.drop(columns=\"Max_Bellek\", axis=1, inplace=True)\n",
    "df.drop(columns=\"Baglantilar\", axis=1, inplace=True)\n",
    "df.drop(columns=\"Agirlik\", axis=1, inplace=True)\n",
    "df.drop(columns=\"Dokunmatik\", axis=1, inplace=True)\n",
    "df.drop(columns=\"Garanti_Suresi\", axis=1, inplace=True)\n",
    "df.drop(columns=\"Garanti_Tipi\", axis=1, inplace=True)\n",
    "df.drop(columns=\"Kapasite\", axis=1, inplace=True)\n",
    "df.drop(columns=\"Klavye\", axis=1, inplace=True)\n",
    "df.drop(columns=\"Kullanım_Amaci\", axis=1, inplace=True)\n",
    "df.drop(columns=\"Mensei\", axis=1, inplace=True)\n",
    "df.drop(columns=\"Temel_CPU_Hizi_GHz\", axis=1, inplace=True)\n",
    "df.drop(columns=\"Baslik\", axis=1, inplace=True)\n",
    "df.drop(columns=\"Cozunurluk\", axis=1, inplace=True)\n",
    "df.drop(columns=\"Cozunurluk_Standardi\", axis=1, inplace=True)\n",
    "df.drop(columns=\"Sarjli_Kullanim_Suresi\", axis=1, inplace=True)\n",
    "\n",
    "# 'Price' sütununu en sona taşımak\n",
    "columns = [col for col in df.columns if col != 'Fiyat']  # 'Price' dışındaki sütunları al\n",
    "columns.append('Fiyat')  # 'Price' sütununu sona ekle\n",
    "\n",
    "# Yeni sütun sırasına göre DataFrame'i yeniden düzenle\n",
    "df = df[columns]\n",
    "\n",
    "save_to_excel(df)"
   ]
  },
  {
   "cell_type": "code",
   "execution_count": 32,
   "metadata": {},
   "outputs": [
    {
     "name": "stdout",
     "output_type": "stream",
     "text": [
      "['Ekran_Boyutu', 'Ekran_Karti', 'GPU_Bellek_Tipi', 'GPU_Gucu', 'GPU_Hafizasi', 'GPU_Tipi', 'Yenileme_Hizi', 'HDD_Kapasitesi', 'Max_CPU_Hizi_GHz', 'Panel_Tipi', 'RAM', 'RAM_Tipi', 'Renk', 'SSD_Kapasitesi', 'Islemci_Modeli', 'Islemci_Nesli', 'Islemci_Tipi', 'CPU_Cekirdek_Sayisi', 'Isletim_Sistemi', 'Fiyat']\n"
     ]
    }
   ],
   "source": [
    "print(list(df.columns))"
   ]
  },
  {
   "cell_type": "code",
   "execution_count": 33,
   "metadata": {},
   "outputs": [
    {
     "data": {
      "text/plain": [
       "20"
      ]
     },
     "execution_count": 33,
     "metadata": {},
     "output_type": "execute_result"
    }
   ],
   "source": [
    "len(df.columns)"
   ]
  },
  {
   "cell_type": "code",
   "execution_count": 34,
   "metadata": {},
   "outputs": [
    {
     "data": {
      "text/plain": [
       "False"
      ]
     },
     "execution_count": 34,
     "metadata": {},
     "output_type": "execute_result"
    }
   ],
   "source": [
    "'Kapasite' in df.columns"
   ]
  },
  {
   "cell_type": "code",
   "execution_count": 35,
   "metadata": {},
   "outputs": [
    {
     "data": {
      "text/plain": [
       "Ekran_Boyutu            object\n",
       "Ekran_Karti             object\n",
       "GPU_Bellek_Tipi         object\n",
       "GPU_Gucu               float64\n",
       "GPU_Hafizasi            object\n",
       "GPU_Tipi                object\n",
       "Yenileme_Hizi          float64\n",
       "HDD_Kapasitesi         float64\n",
       "Max_CPU_Hizi_GHz       float64\n",
       "Panel_Tipi              object\n",
       "RAM                      int64\n",
       "RAM_Tipi                object\n",
       "Renk                    object\n",
       "SSD_Kapasitesi         float64\n",
       "Islemci_Modeli          object\n",
       "Islemci_Nesli           object\n",
       "Islemci_Tipi            object\n",
       "CPU_Cekirdek_Sayisi    float64\n",
       "Isletim_Sistemi         object\n",
       "Fiyat                  float64\n",
       "dtype: object"
      ]
     },
     "execution_count": 35,
     "metadata": {},
     "output_type": "execute_result"
    }
   ],
   "source": [
    "df.dtypes"
   ]
  },
  {
   "cell_type": "code",
   "execution_count": 36,
   "metadata": {},
   "outputs": [
    {
     "data": {
      "image/png": "[encoded data removed]",
      "text/plain": [
       "<Figure size 1500x500 with 3 Axes>"
      ]
     },
     "metadata": {},
     "output_type": "display_data"
    }
   ],
   "source": [
    "msno.bar(df = df,\n",
    "         figsize = (15, 5),\n",
    "         fontsize = 12);"
   ]
  },
  {
   "cell_type": "code",
   "execution_count": 37,
   "metadata": {},
   "outputs": [
    {
     "data": {
      "image/png": "[encoded data removed]",
      "text/plain": [
       "<Figure size 1000x600 with 2 Axes>"
      ]
     },
     "metadata": {},
     "output_type": "display_data"
    }
   ],
   "source": [
    "# Nullity Correlation (Heatmap)\n",
    "# 1'e ne kadar yakınsa, ilişki ihtimali o kadar yüksek.\n",
    "# 0 ise, birbirlerini etkileyen bir durum yoktur.\n",
    "msno.heatmap(df = df,\n",
    "             figsize = (10, 6),\n",
    "             fontsize = 10);"
   ]
  },
  {
   "cell_type": "markdown",
   "metadata": {},
   "source": [
    "# 2.1 - Eksik Verilerin Silinmesi"
   ]
  },
  {
   "cell_type": "markdown",
   "metadata": {},
   "source": [
    "Veri setinde bulunan eksik verilere müdahale yöntemlerinden birisi, eksik verilerin silinmesidir. Uygulaması oldukça kolay bir yöntem olsa da eksik verileri silmeden önce dikkat edilmesi gereken önemli hususlar vardır.\n",
    "\n",
    "Eksik bir verinin bulunduğu gözlemi silmeya karar verebilmek için, bu eksikliğin doğal olmayan bir şekilde ortaya çıktığından emin olmamız gerekir. Örneğin elimizdeki bir araç veri setinde elektrikli araçlar için motor hacmi kolonunda Na değer bulunması doğal bir eksikliğe işaret eder. Bu durumda silme işlemi yerine uygun bir şekilde doldurmak tercih edilebilir.\n",
    "\n",
    "Eksik veriler veri setinde kayda değer bir yüzdeyi oluşturuyorsa, eksik verilerin silinmesi durumunda veri setindeki birçok gözlemi kaybedeceğimiz unutulmamalıdır. Bu durumda veri seti içerisinde bize bilgi sağlayabilecek birçok veriyi de kaybetmiş olacağız. Verinin olabildiğince fazla olması, hem analitik yöntemler hem de makine öğrenmesi yöntemleri için oldukça önemli olduğuna göre, veri setinden olabildiğince az kayıp verecek yöntemler denemeliyiz."
   ]
  },
  {
   "cell_type": "code",
   "execution_count": 38,
   "metadata": {},
   "outputs": [
    {
     "data": {
      "text/html": [
       "<div>\n",
       "<style scoped>\n",
       "    .dataframe tbody tr th:only-of-type {\n",
       "        vertical-align: middle;\n",
       "    }\n",
       "\n",
       "    .dataframe tbody tr th {\n",
       "        vertical-align: top;\n",
       "    }\n",
       "\n",
       "    .dataframe thead th {\n",
       "        text-align: right;\n",
       "    }\n",
       "</style>\n",
       "<table border=\"1\" class=\"dataframe\">\n",
       "  <thead>\n",
       "    <tr style=\"text-align: right;\">\n",
       "      <th></th>\n",
       "      <th>Ekran_Boyutu</th>\n",
       "      <th>Ekran_Karti</th>\n",
       "      <th>GPU_Bellek_Tipi</th>\n",
       "      <th>GPU_Gucu</th>\n",
       "      <th>GPU_Hafizasi</th>\n",
       "      <th>GPU_Tipi</th>\n",
       "      <th>Yenileme_Hizi</th>\n",
       "      <th>HDD_Kapasitesi</th>\n",
       "      <th>Max_CPU_Hizi_GHz</th>\n",
       "      <th>Panel_Tipi</th>\n",
       "      <th>RAM</th>\n",
       "      <th>RAM_Tipi</th>\n",
       "      <th>Renk</th>\n",
       "      <th>SSD_Kapasitesi</th>\n",
       "      <th>Islemci_Modeli</th>\n",
       "      <th>Islemci_Nesli</th>\n",
       "      <th>Islemci_Tipi</th>\n",
       "      <th>CPU_Cekirdek_Sayisi</th>\n",
       "      <th>Isletim_Sistemi</th>\n",
       "      <th>Fiyat</th>\n",
       "    </tr>\n",
       "  </thead>\n",
       "  <tbody>\n",
       "  </tbody>\n",
       "</table>\n",
       "</div>"
      ],
      "text/plain": [
       "Empty DataFrame\n",
       "Columns: [Ekran_Boyutu, Ekran_Karti, GPU_Bellek_Tipi, GPU_Gucu, GPU_Hafizasi, GPU_Tipi, Yenileme_Hizi, HDD_Kapasitesi, Max_CPU_Hizi_GHz, Panel_Tipi, RAM, RAM_Tipi, Renk, SSD_Kapasitesi, Islemci_Modeli, Islemci_Nesli, Islemci_Tipi, CPU_Cekirdek_Sayisi, Isletim_Sistemi, Fiyat]\n",
       "Index: []"
      ]
     },
     "execution_count": 38,
     "metadata": {},
     "output_type": "execute_result"
    }
   ],
   "source": [
    "# Eksik verilerin dropna ile silinmesi.\n",
    "# Kalıcı bir değişiklik yapmaz, bunu yapmak için inplace argümanı kullanılmalı veya atama yapılmalıdır.\n",
    "\n",
    "df.dropna(inplace = False)[:10]\n",
    "#df = df.dropna()"
   ]
  },
  {
   "cell_type": "code",
   "execution_count": 39,
   "metadata": {},
   "outputs": [
    {
     "data": {
      "text/html": [
       "<div>\n",
       "<style scoped>\n",
       "    .dataframe tbody tr th:only-of-type {\n",
       "        vertical-align: middle;\n",
       "    }\n",
       "\n",
       "    .dataframe tbody tr th {\n",
       "        vertical-align: top;\n",
       "    }\n",
       "\n",
       "    .dataframe thead th {\n",
       "        text-align: right;\n",
       "    }\n",
       "</style>\n",
       "<table border=\"1\" class=\"dataframe\">\n",
       "  <thead>\n",
       "    <tr style=\"text-align: right;\">\n",
       "      <th></th>\n",
       "      <th>Ekran_Boyutu</th>\n",
       "      <th>Ekran_Karti</th>\n",
       "      <th>GPU_Bellek_Tipi</th>\n",
       "      <th>GPU_Gucu</th>\n",
       "      <th>GPU_Hafizasi</th>\n",
       "      <th>GPU_Tipi</th>\n",
       "      <th>Yenileme_Hizi</th>\n",
       "      <th>HDD_Kapasitesi</th>\n",
       "      <th>Max_CPU_Hizi_GHz</th>\n",
       "      <th>Panel_Tipi</th>\n",
       "      <th>RAM</th>\n",
       "      <th>RAM_Tipi</th>\n",
       "      <th>Renk</th>\n",
       "      <th>SSD_Kapasitesi</th>\n",
       "      <th>Islemci_Modeli</th>\n",
       "      <th>Islemci_Nesli</th>\n",
       "      <th>Islemci_Tipi</th>\n",
       "      <th>CPU_Cekirdek_Sayisi</th>\n",
       "      <th>Isletim_Sistemi</th>\n",
       "      <th>Fiyat</th>\n",
       "    </tr>\n",
       "  </thead>\n",
       "  <tbody>\n",
       "    <tr>\n",
       "      <th>0</th>\n",
       "      <td>15,6 inç</td>\n",
       "      <td>Nvidia GeForce RTX 4060</td>\n",
       "      <td>GDDR6</td>\n",
       "      <td>NaN</td>\n",
       "      <td>8 GB</td>\n",
       "      <td>Harici</td>\n",
       "      <td>NaN</td>\n",
       "      <td>NaN</td>\n",
       "      <td>NaN</td>\n",
       "      <td>IPS</td>\n",
       "      <td>8</td>\n",
       "      <td>DDR5</td>\n",
       "      <td>Renkli</td>\n",
       "      <td>512.0</td>\n",
       "      <td>Belirtilmemiş</td>\n",
       "      <td>12. Nesil</td>\n",
       "      <td>Intel Core i5</td>\n",
       "      <td>8.0</td>\n",
       "      <td>Free Dos</td>\n",
       "      <td>34.999</td>\n",
       "    </tr>\n",
       "    <tr>\n",
       "      <th>1</th>\n",
       "      <td>15,6 inç</td>\n",
       "      <td>Nvidia GeForce RTX 3050</td>\n",
       "      <td>GDDR6</td>\n",
       "      <td>NaN</td>\n",
       "      <td>6 GB</td>\n",
       "      <td>Harici</td>\n",
       "      <td>120.0</td>\n",
       "      <td>NaN</td>\n",
       "      <td>NaN</td>\n",
       "      <td>VA</td>\n",
       "      <td>16</td>\n",
       "      <td>DDR5</td>\n",
       "      <td>Siyah</td>\n",
       "      <td>512.0</td>\n",
       "      <td>13650HX</td>\n",
       "      <td>13. Nesil</td>\n",
       "      <td>Intel Core i7</td>\n",
       "      <td>24.0</td>\n",
       "      <td>Free Dos</td>\n",
       "      <td>34.899</td>\n",
       "    </tr>\n",
       "    <tr>\n",
       "      <th>2</th>\n",
       "      <td>15,6 inç</td>\n",
       "      <td>Nvidia GeForce RTX 2050</td>\n",
       "      <td>GDDR6</td>\n",
       "      <td>55.0</td>\n",
       "      <td>4 GB ve altı</td>\n",
       "      <td>Harici</td>\n",
       "      <td>144.0</td>\n",
       "      <td>NaN</td>\n",
       "      <td>4.7</td>\n",
       "      <td>IPS</td>\n",
       "      <td>16</td>\n",
       "      <td>DDR4</td>\n",
       "      <td>Siyah</td>\n",
       "      <td>500.0</td>\n",
       "      <td>12700H</td>\n",
       "      <td>12. Nesil</td>\n",
       "      <td>Intel Core i7</td>\n",
       "      <td>14.0</td>\n",
       "      <td>Free Dos</td>\n",
       "      <td>28.089</td>\n",
       "    </tr>\n",
       "    <tr>\n",
       "      <th>3</th>\n",
       "      <td>15,6 inç</td>\n",
       "      <td>Nvidia GeForce RTX 4050</td>\n",
       "      <td>GDDR6</td>\n",
       "      <td>105.0</td>\n",
       "      <td>6 GB</td>\n",
       "      <td>Harici</td>\n",
       "      <td>144.0</td>\n",
       "      <td>NaN</td>\n",
       "      <td>4.4</td>\n",
       "      <td>Full HD</td>\n",
       "      <td>16</td>\n",
       "      <td>DDR5</td>\n",
       "      <td>Luna Gri</td>\n",
       "      <td>512.0</td>\n",
       "      <td>12450H</td>\n",
       "      <td>12. Nesil</td>\n",
       "      <td>Intel Core i5</td>\n",
       "      <td>8.0</td>\n",
       "      <td>Free Dos</td>\n",
       "      <td>34.999</td>\n",
       "    </tr>\n",
       "    <tr>\n",
       "      <th>4</th>\n",
       "      <td>15,6 inç</td>\n",
       "      <td>Nvidia GeForce RTX 3050</td>\n",
       "      <td>GDDR6</td>\n",
       "      <td>NaN</td>\n",
       "      <td>4 GB ve altı</td>\n",
       "      <td>Harici</td>\n",
       "      <td>144.0</td>\n",
       "      <td>NaN</td>\n",
       "      <td>4.4</td>\n",
       "      <td>IPS</td>\n",
       "      <td>16</td>\n",
       "      <td>DDR4</td>\n",
       "      <td>Siyah</td>\n",
       "      <td>500.0</td>\n",
       "      <td>12450H</td>\n",
       "      <td>12. Nesil</td>\n",
       "      <td>Intel Core i5</td>\n",
       "      <td>8.0</td>\n",
       "      <td>Free Dos</td>\n",
       "      <td>26.499</td>\n",
       "    </tr>\n",
       "  </tbody>\n",
       "</table>\n",
       "</div>"
      ],
      "text/plain": [
       "  Ekran_Boyutu              Ekran_Karti GPU_Bellek_Tipi  GPU_Gucu  \\\n",
       "0     15,6 inç  Nvidia GeForce RTX 4060           GDDR6       NaN   \n",
       "1     15,6 inç  Nvidia GeForce RTX 3050           GDDR6       NaN   \n",
       "2     15,6 inç  Nvidia GeForce RTX 2050           GDDR6      55.0   \n",
       "3     15,6 inç  Nvidia GeForce RTX 4050           GDDR6     105.0   \n",
       "4     15,6 inç  Nvidia GeForce RTX 3050           GDDR6       NaN   \n",
       "\n",
       "   GPU_Hafizasi GPU_Tipi  Yenileme_Hizi  HDD_Kapasitesi  Max_CPU_Hizi_GHz  \\\n",
       "0          8 GB   Harici            NaN             NaN               NaN   \n",
       "1          6 GB   Harici          120.0             NaN               NaN   \n",
       "2  4 GB ve altı   Harici          144.0             NaN               4.7   \n",
       "3          6 GB   Harici          144.0             NaN               4.4   \n",
       "4  4 GB ve altı   Harici          144.0             NaN               4.4   \n",
       "\n",
       "  Panel_Tipi  RAM RAM_Tipi      Renk  SSD_Kapasitesi Islemci_Modeli  \\\n",
       "0        IPS    8     DDR5    Renkli           512.0  Belirtilmemiş   \n",
       "1         VA   16     DDR5     Siyah           512.0        13650HX   \n",
       "2        IPS   16     DDR4     Siyah           500.0         12700H   \n",
       "3    Full HD   16     DDR5  Luna Gri           512.0         12450H   \n",
       "4        IPS   16     DDR4     Siyah           500.0         12450H   \n",
       "\n",
       "  Islemci_Nesli   Islemci_Tipi  CPU_Cekirdek_Sayisi Isletim_Sistemi   Fiyat  \n",
       "0     12. Nesil  Intel Core i5                  8.0        Free Dos  34.999  \n",
       "1     13. Nesil  Intel Core i7                 24.0        Free Dos  34.899  \n",
       "2     12. Nesil  Intel Core i7                 14.0        Free Dos  28.089  \n",
       "3     12. Nesil  Intel Core i5                  8.0        Free Dos  34.999  \n",
       "4     12. Nesil  Intel Core i5                  8.0        Free Dos  26.499  "
      ]
     },
     "execution_count": 39,
     "metadata": {},
     "output_type": "execute_result"
    }
   ],
   "source": [
    "# Sadece bütün değerleri eksik olan bir gözlemi silmek istersek;\n",
    "df.dropna(how = 'all')[:5]"
   ]
  },
  {
   "cell_type": "markdown",
   "metadata": {},
   "source": [
    "# 2.2 - Eksik Verilerin Doldurulması"
   ]
  },
  {
   "cell_type": "markdown",
   "metadata": {},
   "source": [
    "Eksik verilerin doldurulması kararı, silinmesi işleminde olduğu gibi hassas ve bilinçli bir şekilde değerlendirilmesi gereken bir karardır. Zira doldurma işlemi veride gürültü (noise) oluşturabilir ve verinin istatistiksel olarak güvenilirliğini zedeleyebilir. Analitik durumlar içinse yanlış bilgi çıkarımlarına sebebiyet verebilir. Bu nedenle en sağlıklı doldurma kararının alındığı durumlarda dahi bu yanlılık durumu mutlaka göz önünde bulundurulmalıdır."
   ]
  },
  {
   "cell_type": "code",
   "execution_count": 40,
   "metadata": {},
   "outputs": [
    {
     "data": {
      "text/html": [
       "<div>\n",
       "<style scoped>\n",
       "    .dataframe tbody tr th:only-of-type {\n",
       "        vertical-align: middle;\n",
       "    }\n",
       "\n",
       "    .dataframe tbody tr th {\n",
       "        vertical-align: top;\n",
       "    }\n",
       "\n",
       "    .dataframe thead th {\n",
       "        text-align: right;\n",
       "    }\n",
       "</style>\n",
       "<table border=\"1\" class=\"dataframe\">\n",
       "  <thead>\n",
       "    <tr style=\"text-align: right;\">\n",
       "      <th></th>\n",
       "      <th>Ekran_Boyutu</th>\n",
       "      <th>Ekran_Karti</th>\n",
       "      <th>GPU_Bellek_Tipi</th>\n",
       "      <th>GPU_Gucu</th>\n",
       "      <th>GPU_Hafizasi</th>\n",
       "      <th>GPU_Tipi</th>\n",
       "      <th>Yenileme_Hizi</th>\n",
       "      <th>HDD_Kapasitesi</th>\n",
       "      <th>Max_CPU_Hizi_GHz</th>\n",
       "      <th>Panel_Tipi</th>\n",
       "      <th>RAM</th>\n",
       "      <th>RAM_Tipi</th>\n",
       "      <th>Renk</th>\n",
       "      <th>SSD_Kapasitesi</th>\n",
       "      <th>Islemci_Modeli</th>\n",
       "      <th>Islemci_Nesli</th>\n",
       "      <th>Islemci_Tipi</th>\n",
       "      <th>CPU_Cekirdek_Sayisi</th>\n",
       "      <th>Isletim_Sistemi</th>\n",
       "      <th>Fiyat</th>\n",
       "    </tr>\n",
       "  </thead>\n",
       "  <tbody>\n",
       "    <tr>\n",
       "      <th>0</th>\n",
       "      <td>15,6 inç</td>\n",
       "      <td>Nvidia GeForce RTX 4060</td>\n",
       "      <td>GDDR6</td>\n",
       "      <td>NaN</td>\n",
       "      <td>8 GB</td>\n",
       "      <td>Harici</td>\n",
       "      <td>NaN</td>\n",
       "      <td>NaN</td>\n",
       "      <td>NaN</td>\n",
       "      <td>IPS</td>\n",
       "      <td>8</td>\n",
       "      <td>DDR5</td>\n",
       "      <td>Renkli</td>\n",
       "      <td>512.0</td>\n",
       "      <td>Belirtilmemiş</td>\n",
       "      <td>12. Nesil</td>\n",
       "      <td>Intel Core i5</td>\n",
       "      <td>8.0</td>\n",
       "      <td>Free Dos</td>\n",
       "      <td>34.999</td>\n",
       "    </tr>\n",
       "    <tr>\n",
       "      <th>1</th>\n",
       "      <td>15,6 inç</td>\n",
       "      <td>Nvidia GeForce RTX 3050</td>\n",
       "      <td>GDDR6</td>\n",
       "      <td>NaN</td>\n",
       "      <td>6 GB</td>\n",
       "      <td>Harici</td>\n",
       "      <td>120.0</td>\n",
       "      <td>NaN</td>\n",
       "      <td>NaN</td>\n",
       "      <td>VA</td>\n",
       "      <td>16</td>\n",
       "      <td>DDR5</td>\n",
       "      <td>Siyah</td>\n",
       "      <td>512.0</td>\n",
       "      <td>13650HX</td>\n",
       "      <td>13. Nesil</td>\n",
       "      <td>Intel Core i7</td>\n",
       "      <td>24.0</td>\n",
       "      <td>Free Dos</td>\n",
       "      <td>34.899</td>\n",
       "    </tr>\n",
       "    <tr>\n",
       "      <th>2</th>\n",
       "      <td>15,6 inç</td>\n",
       "      <td>Nvidia GeForce RTX 2050</td>\n",
       "      <td>GDDR6</td>\n",
       "      <td>55.0</td>\n",
       "      <td>4 GB ve altı</td>\n",
       "      <td>Harici</td>\n",
       "      <td>144.0</td>\n",
       "      <td>NaN</td>\n",
       "      <td>4.7</td>\n",
       "      <td>IPS</td>\n",
       "      <td>16</td>\n",
       "      <td>DDR4</td>\n",
       "      <td>Siyah</td>\n",
       "      <td>500.0</td>\n",
       "      <td>12700H</td>\n",
       "      <td>12. Nesil</td>\n",
       "      <td>Intel Core i7</td>\n",
       "      <td>14.0</td>\n",
       "      <td>Free Dos</td>\n",
       "      <td>28.089</td>\n",
       "    </tr>\n",
       "  </tbody>\n",
       "</table>\n",
       "</div>"
      ],
      "text/plain": [
       "  Ekran_Boyutu              Ekran_Karti GPU_Bellek_Tipi  GPU_Gucu  \\\n",
       "0     15,6 inç  Nvidia GeForce RTX 4060           GDDR6       NaN   \n",
       "1     15,6 inç  Nvidia GeForce RTX 3050           GDDR6       NaN   \n",
       "2     15,6 inç  Nvidia GeForce RTX 2050           GDDR6      55.0   \n",
       "\n",
       "   GPU_Hafizasi GPU_Tipi  Yenileme_Hizi  HDD_Kapasitesi  Max_CPU_Hizi_GHz  \\\n",
       "0          8 GB   Harici            NaN             NaN               NaN   \n",
       "1          6 GB   Harici          120.0             NaN               NaN   \n",
       "2  4 GB ve altı   Harici          144.0             NaN               4.7   \n",
       "\n",
       "  Panel_Tipi  RAM RAM_Tipi    Renk  SSD_Kapasitesi Islemci_Modeli  \\\n",
       "0        IPS    8     DDR5  Renkli           512.0  Belirtilmemiş   \n",
       "1         VA   16     DDR5   Siyah           512.0        13650HX   \n",
       "2        IPS   16     DDR4   Siyah           500.0         12700H   \n",
       "\n",
       "  Islemci_Nesli   Islemci_Tipi  CPU_Cekirdek_Sayisi Isletim_Sistemi   Fiyat  \n",
       "0     12. Nesil  Intel Core i5                  8.0        Free Dos  34.999  \n",
       "1     13. Nesil  Intel Core i7                 24.0        Free Dos  34.899  \n",
       "2     12. Nesil  Intel Core i7                 14.0        Free Dos  28.089  "
      ]
     },
     "execution_count": 40,
     "metadata": {},
     "output_type": "execute_result"
    }
   ],
   "source": [
    "# Doldurma işlemlerini gerçekleştirmek için veri setimin bir kopyasını oluşturuyorum.\n",
    "df_fillna = df.copy()\n",
    "\n",
    "df_fillna.head(3)"
   ]
  },
  {
   "cell_type": "code",
   "execution_count": 41,
   "metadata": {},
   "outputs": [
    {
     "data": {
      "text/plain": [
       "Ekran_Boyutu              0\n",
       "Ekran_Karti               0\n",
       "GPU_Bellek_Tipi           0\n",
       "GPU_Gucu                940\n",
       "GPU_Hafizasi              0\n",
       "GPU_Tipi                  0\n",
       "Yenileme_Hizi            44\n",
       "HDD_Kapasitesi         1159\n",
       "Max_CPU_Hizi_GHz        458\n",
       "Panel_Tipi                1\n",
       "RAM                       0\n",
       "RAM_Tipi                  0\n",
       "Renk                      0\n",
       "SSD_Kapasitesi            5\n",
       "Islemci_Modeli            0\n",
       "Islemci_Nesli             0\n",
       "Islemci_Tipi              0\n",
       "CPU_Cekirdek_Sayisi       1\n",
       "Isletim_Sistemi           0\n",
       "Fiyat                   414\n",
       "dtype: int64"
      ]
     },
     "execution_count": 41,
     "metadata": {},
     "output_type": "execute_result"
    }
   ],
   "source": [
    "df_fillna.isna().sum()"
   ]
  },
  {
   "cell_type": "code",
   "execution_count": 42,
   "metadata": {},
   "outputs": [
    {
     "name": "stdout",
     "output_type": "stream",
     "text": [
      "20\n"
     ]
    }
   ],
   "source": [
    "print(len(df_fillna.columns))"
   ]
  },
  {
   "cell_type": "markdown",
   "metadata": {},
   "source": [
    "## 2.2.1 - \"Ekran Boyutu\" Sütununda Yapılan İşlemler\n",
    "\n",
    "Aşağıdaki işlemler, \"Ekran Boyutu\" sütunundaki verilerin temizlenmesi ve metin (string) formatına dönüştürülmesi için yapılmıştır:\n",
    "\n",
    "1. **Boşlukların Temizlenmesi**: `str.strip()` fonksiyonu kullanılarak, \"Ekran Boyutu\" sütunundaki baştaki ve sondaki boşluklar temizlenmiştir. Bu işlem, verinin daha düzgün bir şekilde işlenebilmesi için önemlidir.\n",
    "\n",
    "2. **'İnç' İfadesinin Kaldırılması**: `str.replace()` fonksiyonu ile \"Ekran Boyutu\" sütunundaki her değerin sonunda yer alan 'inç' ifadesi kaldırılmıştır. Bu, sayısal bir analiz yapabilmek için gereklidir.\n",
    "\n",
    "3. **Metin Olarak Saklanması**: `astype(str)` fonksiyonu kullanılarak, \"Ekran Boyutu\" sütunundaki tüm veriler metin (string) formatına dönüştürülmüştür. Bu sayede, sayısal olmayan değerler ve kalan veriler metin olarak saklanır.\n",
    "\n",
    "4. **Verilerin Kaydedilmesi**: İşlem tamamlandığında, veri seti `save_to_excel()` fonksiyonu ile Excel dosyasına kaydedilmiştir (eğer isteniyorsa).\n",
    "\n",
    "Sonuç olarak, \"Ekran Boyutu\" sütunundaki boşluklar temizlenmiş, 'inç' ifadesi kaldırılmış ve kalan veriler metin (string) olarak saklanmıştır.\n",
    "\n"
   ]
  },
  {
   "cell_type": "code",
   "execution_count": 43,
   "metadata": {},
   "outputs": [
    {
     "name": "stderr",
     "output_type": "stream",
     "text": [
      "C:\\Users\\yusuf\\AppData\\Local\\Temp\\ipykernel_3384\\2314169464.py:14: FutureWarning: A value is trying to be set on a copy of a DataFrame or Series through chained assignment using an inplace method.\n",
      "The behavior will change in pandas 3.0. This inplace method will never work because the intermediate object on which we are setting values always behaves as a copy.\n",
      "\n",
      "For example, when doing 'df[col].method(value, inplace=True)', try using 'df.method({col: value}, inplace=True)' or df[col] = df[col].method(value) instead, to perform the operation inplace on the original object.\n",
      "\n",
      "\n",
      "  df_fillna[\"Ekran_Boyutu\"].replace(\"\", pd.NA, inplace=True)\n",
      "C:\\Users\\yusuf\\AppData\\Local\\Temp\\ipykernel_3384\\2314169464.py:18: FutureWarning: A value is trying to be set on a copy of a DataFrame or Series through chained assignment using an inplace method.\n",
      "The behavior will change in pandas 3.0. This inplace method will never work because the intermediate object on which we are setting values always behaves as a copy.\n",
      "\n",
      "For example, when doing 'df[col].method(value, inplace=True)', try using 'df.method({col: value}, inplace=True)' or df[col] = df[col].method(value) instead, to perform the operation inplace on the original object.\n",
      "\n",
      "\n",
      "  df_fillna['Ekran_Boyutu'].fillna(mode_value, inplace=True)  # Eksik değerleri mod değeri ile doldur\n"
     ]
    },
    {
     "name": "stdout",
     "output_type": "stream",
     "text": [
      "Dosya 'cleaned_data.xlsx' adıyla başarıyla kaydedildi.\n",
      "Ekran Boyutu sütunundaki 'inç' ifadeleri kaldırıldı, boşluklar temizlendi ve eksik veriler mod değeri ile dolduruldu.\n"
     ]
    }
   ],
   "source": [
    "# Ekran Boyutu sütunundaki boşlukları temizleyelim\n",
    "df_fillna['Ekran_Boyutu'] = df_fillna['Ekran_Boyutu'].str.strip()\n",
    "\n",
    "# Ekran Boyutu sütunundaki 'inç' ifadesini sonundan kaldıralım\n",
    "df_fillna['Ekran_Boyutu'] = df_fillna['Ekran_Boyutu'].str.replace(r'inç$', '', regex=True)\n",
    "\n",
    "# Kalan ifadeleri metin (string) olarak saklayalım\n",
    "df_fillna['Ekran_Boyutu'] = df_fillna['Ekran_Boyutu'].astype(str)\n",
    "\n",
    "# 'Belirtilmemiş' değerlerini boş string (\"\") ile değiştirme\n",
    "df_fillna[\"Ekran_Boyutu\"] = df_fillna[\"Ekran_Boyutu\"].replace(\"Belirtilmemiş\", \"\")\n",
    "\n",
    "# Boş stringleri NaN ile değiştirelim ki fillna() kullanabilelim\n",
    "df_fillna[\"Ekran_Boyutu\"].replace(\"\", pd.NA, inplace=True)\n",
    "\n",
    "# Mod değeri ile eksik verileri dolduralım\n",
    "mode_value = df_fillna['Ekran_Boyutu'].mode()[0]  # Mod değeri\n",
    "df_fillna['Ekran_Boyutu'].fillna(mode_value, inplace=True)  # Eksik değerleri mod değeri ile doldur\n",
    "\n",
    "# Sonrasında dosyayı kaydedelim\n",
    "save_to_excel(df_fillna)\n",
    "\n",
    "# İşlemin başarıyla tamamlandığını bildirelim\n",
    "print(\"Ekran Boyutu sütunundaki 'inç' ifadeleri kaldırıldı, boşluklar temizlendi ve eksik veriler mod değeri ile dolduruldu.\")\n"
   ]
  },
  {
   "cell_type": "markdown",
   "metadata": {},
   "source": [
    "## 2.2.2 - \"Maksimum İşlemci Hızı (GHz)\" Sütununda Yapılan İşlemler\n",
    "\n",
    "Aşağıdaki işlemler, \"Maksimum İşlemci Hızı (GHz)\" sütunundaki eksik (NaN) değerleri doldurmak için yapılmıştır:\n",
    "\n",
    "1. **Ortalama (Mean) Değerinin Hesaplanması**: `mean()` fonksiyonu ile \"Maksimum İşlemci Hızı (GHz)\" sütununun ortalama değeri hesaplanmıştır. Bu değer, eksik hücrelerde kullanılmak üzere belirlenmiştir.\n",
    "\n",
    "2. **Eksik Değerlerin Ortalama Değerle Doldurulması**: `fillna()` fonksiyonu ile sütundaki eksik (NaN) değerler, hesaplanan ortalama değerle doldurulmuştur. Bu işlem `inplace=True` parametresi ile doğrudan DataFrame üzerinde yapılmıştır, yani yeni bir değişken oluşturulmamıştır.\n",
    "\n",
    "Sonuç olarak, \"Maksimum İşlemci Hızı (GHz)\" sütunundaki eksik değerler ortalama değerle doldurulmuş ve veri seti eksiksiz hale getirilmiştir.\n"
   ]
  },
  {
   "cell_type": "code",
   "execution_count": 44,
   "metadata": {},
   "outputs": [
    {
     "name": "stdout",
     "output_type": "stream",
     "text": [
      "4.7\n"
     ]
    },
    {
     "name": "stderr",
     "output_type": "stream",
     "text": [
      "C:\\Users\\yusuf\\AppData\\Local\\Temp\\ipykernel_3384\\2114824358.py:10: FutureWarning: A value is trying to be set on a copy of a DataFrame or Series through chained assignment using an inplace method.\n",
      "The behavior will change in pandas 3.0. This inplace method will never work because the intermediate object on which we are setting values always behaves as a copy.\n",
      "\n",
      "For example, when doing 'df[col].method(value, inplace=True)', try using 'df.method({col: value}, inplace=True)' or df[col] = df[col].method(value) instead, to perform the operation inplace on the original object.\n",
      "\n",
      "\n",
      "  df_fillna['Max_CPU_Hizi_GHz'].fillna(value=mean_islemci, inplace=True)\n"
     ]
    }
   ],
   "source": [
    "# Maksimum İşlemci Hızı (GHz) sütununun ortalama (mean) değerini hesaplayalım\n",
    "mean_islemci = df_fillna['Max_CPU_Hizi_GHz'].mean()\n",
    "\n",
    "# Virgülden sonra yalnızca 1 basamağa yuvarlayalım\n",
    "mean_islemci = round(mean_islemci, 1)\n",
    "\n",
    "print(mean_islemci)\n",
    "\n",
    "# Maksimum İşlemci Hızı (GHz) sütunundaki eksik değerleri ortalama değer ile dolduralım\n",
    "df_fillna['Max_CPU_Hizi_GHz'].fillna(value=mean_islemci, inplace=True)\n",
    "\n",
    "# Maksimum İşlemci Hızı (GHz)'nın 742 tane kaydı vardı. kaydı olanların ortalamasını alarak boş olan satırlara ekledik."
   ]
  },
  {
   "cell_type": "code",
   "execution_count": 45,
   "metadata": {},
   "outputs": [
    {
     "data": {
      "text/plain": [
       "0       4.7\n",
       "1       4.7\n",
       "2       4.7\n",
       "3       4.4\n",
       "4       4.4\n",
       "       ... \n",
       "1195    4.9\n",
       "1196    4.7\n",
       "1197    4.7\n",
       "1198    4.7\n",
       "1199    4.7\n",
       "Name: Max_CPU_Hizi_GHz, Length: 1200, dtype: float64"
      ]
     },
     "execution_count": 45,
     "metadata": {},
     "output_type": "execute_result"
    }
   ],
   "source": [
    "df_fillna['Max_CPU_Hizi_GHz']"
   ]
  },
  {
   "cell_type": "code",
   "execution_count": 46,
   "metadata": {},
   "outputs": [
    {
     "data": {
      "image/png": "[encoded data removed]",
      "text/plain": [
       "<Figure size 1500x500 with 3 Axes>"
      ]
     },
     "metadata": {},
     "output_type": "display_data"
    }
   ],
   "source": [
    "msno.bar(df = df_fillna,\n",
    "         figsize = (15, 5),\n",
    "         fontsize = 12);"
   ]
  },
  {
   "cell_type": "code",
   "execution_count": 47,
   "metadata": {},
   "outputs": [
    {
     "data": {
      "text/html": [
       "<div>\n",
       "<style scoped>\n",
       "    .dataframe tbody tr th:only-of-type {\n",
       "        vertical-align: middle;\n",
       "    }\n",
       "\n",
       "    .dataframe tbody tr th {\n",
       "        vertical-align: top;\n",
       "    }\n",
       "\n",
       "    .dataframe thead th {\n",
       "        text-align: right;\n",
       "    }\n",
       "</style>\n",
       "<table border=\"1\" class=\"dataframe\">\n",
       "  <thead>\n",
       "    <tr style=\"text-align: right;\">\n",
       "      <th></th>\n",
       "      <th>count</th>\n",
       "      <th>mean</th>\n",
       "      <th>std</th>\n",
       "      <th>min</th>\n",
       "      <th>25%</th>\n",
       "      <th>50%</th>\n",
       "      <th>75%</th>\n",
       "      <th>max</th>\n",
       "    </tr>\n",
       "  </thead>\n",
       "  <tbody>\n",
       "    <tr>\n",
       "      <th>GPU_Gucu</th>\n",
       "      <td>260.0</td>\n",
       "      <td>106.673077</td>\n",
       "      <td>35.070101</td>\n",
       "      <td>45.000</td>\n",
       "      <td>95.000</td>\n",
       "      <td>105.000</td>\n",
       "      <td>140.000</td>\n",
       "      <td>175.000</td>\n",
       "    </tr>\n",
       "    <tr>\n",
       "      <th>Yenileme_Hizi</th>\n",
       "      <td>1156.0</td>\n",
       "      <td>160.863322</td>\n",
       "      <td>38.729838</td>\n",
       "      <td>60.000</td>\n",
       "      <td>144.000</td>\n",
       "      <td>144.000</td>\n",
       "      <td>165.000</td>\n",
       "      <td>360.000</td>\n",
       "    </tr>\n",
       "    <tr>\n",
       "      <th>HDD_Kapasitesi</th>\n",
       "      <td>41.0</td>\n",
       "      <td>244.463415</td>\n",
       "      <td>252.476246</td>\n",
       "      <td>1.000</td>\n",
       "      <td>1.000</td>\n",
       "      <td>2.000</td>\n",
       "      <td>500.000</td>\n",
       "      <td>500.000</td>\n",
       "    </tr>\n",
       "    <tr>\n",
       "      <th>Max_CPU_Hizi_GHz</th>\n",
       "      <td>1200.0</td>\n",
       "      <td>4.724250</td>\n",
       "      <td>0.208822</td>\n",
       "      <td>4.200</td>\n",
       "      <td>4.700</td>\n",
       "      <td>4.700</td>\n",
       "      <td>4.900</td>\n",
       "      <td>5.000</td>\n",
       "    </tr>\n",
       "    <tr>\n",
       "      <th>RAM</th>\n",
       "      <td>1200.0</td>\n",
       "      <td>30.793333</td>\n",
       "      <td>22.997928</td>\n",
       "      <td>8.000</td>\n",
       "      <td>16.000</td>\n",
       "      <td>24.000</td>\n",
       "      <td>32.000</td>\n",
       "      <td>128.000</td>\n",
       "    </tr>\n",
       "    <tr>\n",
       "      <th>SSD_Kapasitesi</th>\n",
       "      <td>1195.0</td>\n",
       "      <td>1063.986611</td>\n",
       "      <td>940.029965</td>\n",
       "      <td>256.000</td>\n",
       "      <td>512.000</td>\n",
       "      <td>1024.000</td>\n",
       "      <td>1024.000</td>\n",
       "      <td>8192.000</td>\n",
       "    </tr>\n",
       "    <tr>\n",
       "      <th>CPU_Cekirdek_Sayisi</th>\n",
       "      <td>1199.0</td>\n",
       "      <td>12.558799</td>\n",
       "      <td>6.013869</td>\n",
       "      <td>1.000</td>\n",
       "      <td>8.000</td>\n",
       "      <td>12.000</td>\n",
       "      <td>16.000</td>\n",
       "      <td>24.000</td>\n",
       "    </tr>\n",
       "    <tr>\n",
       "      <th>Fiyat</th>\n",
       "      <td>786.0</td>\n",
       "      <td>48.739373</td>\n",
       "      <td>28.523317</td>\n",
       "      <td>15.049</td>\n",
       "      <td>32.224</td>\n",
       "      <td>41.599</td>\n",
       "      <td>49.999</td>\n",
       "      <td>238.399</td>\n",
       "    </tr>\n",
       "  </tbody>\n",
       "</table>\n",
       "</div>"
      ],
      "text/plain": [
       "                      count         mean         std      min      25%  \\\n",
       "GPU_Gucu              260.0   106.673077   35.070101   45.000   95.000   \n",
       "Yenileme_Hizi        1156.0   160.863322   38.729838   60.000  144.000   \n",
       "HDD_Kapasitesi         41.0   244.463415  252.476246    1.000    1.000   \n",
       "Max_CPU_Hizi_GHz     1200.0     4.724250    0.208822    4.200    4.700   \n",
       "RAM                  1200.0    30.793333   22.997928    8.000   16.000   \n",
       "SSD_Kapasitesi       1195.0  1063.986611  940.029965  256.000  512.000   \n",
       "CPU_Cekirdek_Sayisi  1199.0    12.558799    6.013869    1.000    8.000   \n",
       "Fiyat                 786.0    48.739373   28.523317   15.049   32.224   \n",
       "\n",
       "                          50%       75%       max  \n",
       "GPU_Gucu              105.000   140.000   175.000  \n",
       "Yenileme_Hizi         144.000   165.000   360.000  \n",
       "HDD_Kapasitesi          2.000   500.000   500.000  \n",
       "Max_CPU_Hizi_GHz        4.700     4.900     5.000  \n",
       "RAM                    24.000    32.000   128.000  \n",
       "SSD_Kapasitesi       1024.000  1024.000  8192.000  \n",
       "CPU_Cekirdek_Sayisi    12.000    16.000    24.000  \n",
       "Fiyat                  41.599    49.999   238.399  "
      ]
     },
     "execution_count": 47,
     "metadata": {},
     "output_type": "execute_result"
    }
   ],
   "source": [
    "df_fillna.describe().T"
   ]
  },
  {
   "cell_type": "markdown",
   "metadata": {},
   "source": [
    "## 2.2.3 - \"Ekran Kartı Hafızası\" Sütununda Yapılan İşlemler\n",
    "\n",
    "Aşağıdaki işlemler, \"Ekran Kartı Hafızası\" sütunundaki verileri temizlemek ve uygun hale getirmek için yapılmıştır:\n",
    "\n",
    "1. **Baş ve Son Boşluklar Temizlendi**: `str.strip()` ile sütundaki tüm değerlerin başındaki ve sonundaki boşluklar kaldırıldı.\n",
    "\n",
    "2. **\"ve altı\" İfadesi Silindi**: `str.replace(' ve altı', '')` ile tüm değerlerden `\"ve altı\"` ifadesi kaldırıldı.\n",
    "\n",
    "3. **\"Paylaşımlı\" İfadesi Silindi**: `replace('Paylaşımlı', '')` ile `\"Paylaşımlı\"` ifadesi boş string ile değiştirildi.\n",
    "\n",
    "4. **\"GB\" İfadesi Sonundan Kaldırıldı**: `str.replace(r'GB$', '')` ile tüm değerlerin sonundaki `\"GB\"` ifadesi silindi.\n",
    "\n",
    "5. **Sayısal Değere Dönüştürüldü**: `pd.to_numeric()` ile sütun sayısal verilere dönüştürüldü ve geçersiz değerler `NaN` olarak işaretlendi.\n",
    "\n",
    "Sonuç olarak, bu işlemler sayesinde sütun sadece sayısal değerleri içerecek şekilde temizlendi ve analiz için hazır hale getirildi.\n"
   ]
  },
  {
   "cell_type": "code",
   "execution_count": 48,
   "metadata": {},
   "outputs": [
    {
     "name": "stdout",
     "output_type": "stream",
     "text": [
      "Dosya 'cleaned_data.xlsx' adıyla başarıyla kaydedildi.\n"
     ]
    }
   ],
   "source": [
    "# 'Ekran Kartı Hafızası' sütunundaki baştaki ve sondaki boşlukları temizleyip 've altı' ifadesini silme\n",
    "df_fillna['GPU_Hafizasi'] = df_fillna['GPU_Hafizasi'].str.strip().str.replace(' ve altı', '', regex=False)\n",
    "# Yorum: str.strip() baştaki ve sondaki boşlukları temizler.\n",
    "# str.replace(' ve altı', '') 've altı' ifadesini siler.\n",
    "\n",
    "# 'Ekran Kartı Hafızası' sütununda 'Paylaşımlı' ifadesini boş string ile değiştirme\n",
    "df_fillna['GPU_Hafizasi'] = df_fillna['GPU_Hafizasi'].replace('Paylaşımlı', '')\n",
    "# Yorum: 'Paylaşımlı' ifadesini boşlukla değiştirir. Bu, ekran kartı hafızasında paylaşımlı yazan hücrelerde boşluk bırakır.\n",
    "\n",
    "# 'Ekran Kartı Hafızası' sütunundaki 'GB' ifadesini silme\n",
    "df_fillna['GPU_Hafizasi'] = df_fillna['GPU_Hafizasi'].str.replace(r'GB$', '', regex=True)\n",
    "# Yorum: 'GB' ifadesinin metnin sonunda olması durumunda (GB$ regex ile) siler. Bu, GB'nin yalnızca son kısmını kaldırır.\n",
    "\n",
    "# 'Ekran Kartı Hafızası' sütununu sayısal (numeric) değere dönüştürme\n",
    "df_fillna['GPU_Hafizasi'] = pd.to_numeric(df_fillna['GPU_Hafizasi'], errors='coerce')\n",
    "# Yorum: 'Ekran Kartı Hafızası' sütunundaki değerleri sayısal (numeric) veri türüne dönüştürür. \n",
    "# Eğer dönüşüm mümkün değilse, o hücreyi 'NaN' yapar (errors='coerce').\n",
    "\n",
    "# Sonrasında dosyayı tekrar kaydedin\n",
    "save_to_excel(df_fillna)\n",
    "# Yorum: Verilen DataFrame'i (df_fillna) yeni haliyle Excel dosyasına kaydeder. (save_to_excel fonksiyonu dışarıdan tanımlanmış olmalı).\n"
   ]
  },
  {
   "cell_type": "code",
   "execution_count": 49,
   "metadata": {},
   "outputs": [
    {
     "data": {
      "text/plain": [
       "0    8.0\n",
       "1    6.0\n",
       "2    4.0\n",
       "3    6.0\n",
       "4    4.0\n",
       "Name: GPU_Hafizasi, dtype: float64"
      ]
     },
     "execution_count": 49,
     "metadata": {},
     "output_type": "execute_result"
    }
   ],
   "source": [
    "df_fillna['GPU_Hafizasi'].head()"
   ]
  },
  {
   "cell_type": "code",
   "execution_count": 50,
   "metadata": {},
   "outputs": [
    {
     "name": "stdout",
     "output_type": "stream",
     "text": [
      "[ 8.  6.  4. nan 16. 12.]\n"
     ]
    }
   ],
   "source": [
    "# 'Ekran Kartı Hafızası' sütunundaki farklı değerleri görmek için\n",
    "print(df_fillna['GPU_Hafizasi'].unique())"
   ]
  },
  {
   "cell_type": "code",
   "execution_count": 51,
   "metadata": {},
   "outputs": [
    {
     "name": "stdout",
     "output_type": "stream",
     "text": [
      "'Ekran Kartı Hafızası' sütunundaki NaN sayısı: 49\n"
     ]
    }
   ],
   "source": [
    "# 'Ekran Kartı Hafızası' sütunundaki NaN değerlerinin sayısını görmek\n",
    "nan_count_column = df_fillna['GPU_Hafizasi'].isna().sum()\n",
    "print(f\"'Ekran Kartı Hafızası' sütunundaki NaN sayısı: {nan_count_column}\")"
   ]
  },
  {
   "cell_type": "code",
   "execution_count": 52,
   "metadata": {},
   "outputs": [
    {
     "name": "stdout",
     "output_type": "stream",
     "text": [
      "Dosya 'cleaned_data.xlsx' adıyla başarıyla kaydedildi.\n",
      "En çok tekrar eden değer: 8.0\n"
     ]
    }
   ],
   "source": [
    "\n",
    "# 'Ekran Kartı Hafızası' sütunundaki en çok tekrar eden değeri bulma\n",
    "most_frequent_value = df_fillna['GPU_Hafizasi'].mode()[0]\n",
    "\n",
    "# 'Ekran Kartı Hafızası' sütunundaki boş değerleri (\"\" veya \" \") NaN ile değiştirme\n",
    "df_fillna['GPU_Hafizasi'] = df_fillna['GPU_Hafizasi'].replace(['', ' '], pd.NA)\n",
    "\n",
    "# NaN hücrelerini en çok tekrar eden değerle doldurma\n",
    "df_fillna['GPU_Hafizasi'] = df_fillna['GPU_Hafizasi'].fillna(most_frequent_value)\n",
    "\n",
    "# Kaydetme fonksiyonu\n",
    "save_to_excel(df_fillna)\n",
    "\n",
    "# Sonuçları kontrol etme\n",
    "print(f\"En çok tekrar eden değer: {most_frequent_value}\")\n",
    "\n"
   ]
  },
  {
   "cell_type": "code",
   "execution_count": 53,
   "metadata": {},
   "outputs": [
    {
     "data": {
      "text/plain": [
       "array([ 8.,  6.,  4., 16., 12.])"
      ]
     },
     "execution_count": 53,
     "metadata": {},
     "output_type": "execute_result"
    }
   ],
   "source": [
    "df_fillna['GPU_Hafizasi'].unique()"
   ]
  },
  {
   "cell_type": "markdown",
   "metadata": {},
   "source": [
    "## 2.2.4 - \"Ekran Kartı Gücü\" Sütununda Yapılan İşlemler\n",
    "\n",
    "Aşağıdaki işlemler, \"Ekran Kartı Gücü\" sütunundaki eksik (NaN) değerleri doldurmak için yapılmıştır:\n",
    "\n",
    "1. **En Sık (Mode) Değeri Hesaplama**: `mean()` fonksiyonu yerine `mode()` kullanarak \"Ekran Kartı Gücü\" sütunundaki en sık tekrar eden değeri bulmak daha doğru olacaktır. Ancak burada `mean()` yerine `mode()` kullanmamışız ve yanlış bir işlem yapılmış. Bunu düzeltmek için, `mode()` fonksiyonu kullanılmalı.\n",
    "\n",
    "2. **Eksik (NaN) Değerleri Mode ile Doldurma**: `fillna()` fonksiyonu ile sütundaki eksik (NaN) değerler, en sık tekrar eden değerle doldurulmuştur.\n",
    "\n",
    "3. **Eksik Değerlerin Durumunu Kontrol Etme**: `isna().sum()` fonksiyonu kullanılarak sütundaki eksik (NaN) değerlerin sayısı kontrol edilmiştir.\n",
    "\n",
    "4. **Veriyi Kaydetme**: Temizlenen veriler, `save_to_excel()` fonksiyonu ile Excel dosyasına kaydedilmiştir.\n",
    "\n",
    "Bu işlemler sonucunda, \"Ekran Kartı Gücü\" sütunundaki eksik veriler en sık tekrar eden değerle doldurulmuş ve veri seti kaydedilmiştir.\n"
   ]
  },
  {
   "cell_type": "code",
   "execution_count": 54,
   "metadata": {},
   "outputs": [
    {
     "data": {
      "text/html": [
       "<div>\n",
       "<style scoped>\n",
       "    .dataframe tbody tr th:only-of-type {\n",
       "        vertical-align: middle;\n",
       "    }\n",
       "\n",
       "    .dataframe tbody tr th {\n",
       "        vertical-align: top;\n",
       "    }\n",
       "\n",
       "    .dataframe thead th {\n",
       "        text-align: right;\n",
       "    }\n",
       "</style>\n",
       "<table border=\"1\" class=\"dataframe\">\n",
       "  <thead>\n",
       "    <tr style=\"text-align: right;\">\n",
       "      <th></th>\n",
       "      <th>GPU_Gucu</th>\n",
       "    </tr>\n",
       "  </thead>\n",
       "  <tbody>\n",
       "    <tr>\n",
       "      <th>100</th>\n",
       "      <td>NaN</td>\n",
       "    </tr>\n",
       "    <tr>\n",
       "      <th>101</th>\n",
       "      <td>NaN</td>\n",
       "    </tr>\n",
       "    <tr>\n",
       "      <th>102</th>\n",
       "      <td>NaN</td>\n",
       "    </tr>\n",
       "    <tr>\n",
       "      <th>103</th>\n",
       "      <td>NaN</td>\n",
       "    </tr>\n",
       "    <tr>\n",
       "      <th>104</th>\n",
       "      <td>NaN</td>\n",
       "    </tr>\n",
       "    <tr>\n",
       "      <th>...</th>\n",
       "      <td>...</td>\n",
       "    </tr>\n",
       "    <tr>\n",
       "      <th>295</th>\n",
       "      <td>120.0</td>\n",
       "    </tr>\n",
       "    <tr>\n",
       "      <th>296</th>\n",
       "      <td>105.0</td>\n",
       "    </tr>\n",
       "    <tr>\n",
       "      <th>297</th>\n",
       "      <td>NaN</td>\n",
       "    </tr>\n",
       "    <tr>\n",
       "      <th>298</th>\n",
       "      <td>NaN</td>\n",
       "    </tr>\n",
       "    <tr>\n",
       "      <th>299</th>\n",
       "      <td>95.0</td>\n",
       "    </tr>\n",
       "  </tbody>\n",
       "</table>\n",
       "<p>200 rows × 1 columns</p>\n",
       "</div>"
      ],
      "text/plain": [
       "     GPU_Gucu\n",
       "100       NaN\n",
       "101       NaN\n",
       "102       NaN\n",
       "103       NaN\n",
       "104       NaN\n",
       "..        ...\n",
       "295     120.0\n",
       "296     105.0\n",
       "297       NaN\n",
       "298       NaN\n",
       "299      95.0\n",
       "\n",
       "[200 rows x 1 columns]"
      ]
     },
     "execution_count": 54,
     "metadata": {},
     "output_type": "execute_result"
    }
   ],
   "source": [
    "df_fillna[['GPU_Gucu']][100:300]"
   ]
  },
  {
   "cell_type": "code",
   "execution_count": 55,
   "metadata": {},
   "outputs": [
    {
     "name": "stdout",
     "output_type": "stream",
     "text": [
      "Dosya 'cleaned_data.xlsx' adıyla başarıyla kaydedildi.\n",
      "Veriler Excel'e kaydedildi.\n"
     ]
    }
   ],
   "source": [
    "# Ekran Kartı Gücü sütununun en sık (mode) değerini bulalım\n",
    "ekran_karti_mode = int(df_fillna['GPU_Gucu'].mean())\n",
    "\n",
    "# Ekran Kartı Gücü sütunundaki eksik değerleri mode ile dolduralım\n",
    "df_fillna['GPU_Gucu'] = df_fillna['GPU_Gucu'].fillna(value=ekran_karti_mode)\n",
    "\n",
    "# Veriyi Excel dosyasına kaydedelim\n",
    "save_to_excel(df_fillna)\n",
    "\n",
    "print(\"Veriler Excel'e kaydedildi.\")"
   ]
  },
  {
   "cell_type": "code",
   "execution_count": 56,
   "metadata": {},
   "outputs": [
    {
     "data": {
      "text/html": [
       "<div>\n",
       "<style scoped>\n",
       "    .dataframe tbody tr th:only-of-type {\n",
       "        vertical-align: middle;\n",
       "    }\n",
       "\n",
       "    .dataframe tbody tr th {\n",
       "        vertical-align: top;\n",
       "    }\n",
       "\n",
       "    .dataframe thead th {\n",
       "        text-align: right;\n",
       "    }\n",
       "</style>\n",
       "<table border=\"1\" class=\"dataframe\">\n",
       "  <thead>\n",
       "    <tr style=\"text-align: right;\">\n",
       "      <th></th>\n",
       "      <th>GPU_Gucu</th>\n",
       "    </tr>\n",
       "  </thead>\n",
       "  <tbody>\n",
       "    <tr>\n",
       "      <th>0</th>\n",
       "      <td>106.0</td>\n",
       "    </tr>\n",
       "    <tr>\n",
       "      <th>1</th>\n",
       "      <td>106.0</td>\n",
       "    </tr>\n",
       "    <tr>\n",
       "      <th>2</th>\n",
       "      <td>55.0</td>\n",
       "    </tr>\n",
       "    <tr>\n",
       "      <th>3</th>\n",
       "      <td>105.0</td>\n",
       "    </tr>\n",
       "    <tr>\n",
       "      <th>4</th>\n",
       "      <td>106.0</td>\n",
       "    </tr>\n",
       "    <tr>\n",
       "      <th>5</th>\n",
       "      <td>106.0</td>\n",
       "    </tr>\n",
       "    <tr>\n",
       "      <th>6</th>\n",
       "      <td>106.0</td>\n",
       "    </tr>\n",
       "    <tr>\n",
       "      <th>7</th>\n",
       "      <td>106.0</td>\n",
       "    </tr>\n",
       "    <tr>\n",
       "      <th>8</th>\n",
       "      <td>106.0</td>\n",
       "    </tr>\n",
       "    <tr>\n",
       "      <th>9</th>\n",
       "      <td>106.0</td>\n",
       "    </tr>\n",
       "    <tr>\n",
       "      <th>10</th>\n",
       "      <td>106.0</td>\n",
       "    </tr>\n",
       "    <tr>\n",
       "      <th>11</th>\n",
       "      <td>106.0</td>\n",
       "    </tr>\n",
       "    <tr>\n",
       "      <th>12</th>\n",
       "      <td>106.0</td>\n",
       "    </tr>\n",
       "    <tr>\n",
       "      <th>13</th>\n",
       "      <td>106.0</td>\n",
       "    </tr>\n",
       "    <tr>\n",
       "      <th>14</th>\n",
       "      <td>106.0</td>\n",
       "    </tr>\n",
       "    <tr>\n",
       "      <th>15</th>\n",
       "      <td>106.0</td>\n",
       "    </tr>\n",
       "    <tr>\n",
       "      <th>16</th>\n",
       "      <td>106.0</td>\n",
       "    </tr>\n",
       "    <tr>\n",
       "      <th>17</th>\n",
       "      <td>106.0</td>\n",
       "    </tr>\n",
       "    <tr>\n",
       "      <th>18</th>\n",
       "      <td>106.0</td>\n",
       "    </tr>\n",
       "    <tr>\n",
       "      <th>19</th>\n",
       "      <td>106.0</td>\n",
       "    </tr>\n",
       "  </tbody>\n",
       "</table>\n",
       "</div>"
      ],
      "text/plain": [
       "    GPU_Gucu\n",
       "0      106.0\n",
       "1      106.0\n",
       "2       55.0\n",
       "3      105.0\n",
       "4      106.0\n",
       "5      106.0\n",
       "6      106.0\n",
       "7      106.0\n",
       "8      106.0\n",
       "9      106.0\n",
       "10     106.0\n",
       "11     106.0\n",
       "12     106.0\n",
       "13     106.0\n",
       "14     106.0\n",
       "15     106.0\n",
       "16     106.0\n",
       "17     106.0\n",
       "18     106.0\n",
       "19     106.0"
      ]
     },
     "execution_count": 56,
     "metadata": {},
     "output_type": "execute_result"
    }
   ],
   "source": [
    "df_fillna[['GPU_Gucu']][:20]"
   ]
  },
  {
   "cell_type": "code",
   "execution_count": 57,
   "metadata": {},
   "outputs": [
    {
     "name": "stdout",
     "output_type": "stream",
     "text": [
      "Eksik değerler (NaN) sayısı: Ekran_Boyutu              0\n",
      "Ekran_Karti               0\n",
      "GPU_Bellek_Tipi           0\n",
      "GPU_Gucu                  0\n",
      "GPU_Hafizasi              0\n",
      "GPU_Tipi                  0\n",
      "Yenileme_Hizi            44\n",
      "HDD_Kapasitesi         1159\n",
      "Max_CPU_Hizi_GHz          0\n",
      "Panel_Tipi                1\n",
      "RAM                       0\n",
      "RAM_Tipi                  0\n",
      "Renk                      0\n",
      "SSD_Kapasitesi            5\n",
      "Islemci_Modeli            0\n",
      "Islemci_Nesli             0\n",
      "Islemci_Tipi              0\n",
      "CPU_Cekirdek_Sayisi       1\n",
      "Isletim_Sistemi           0\n",
      "Fiyat                   414\n",
      "dtype: int64\n"
     ]
    }
   ],
   "source": [
    "# Eksik değerlerin son durumunu kontrol edelim\n",
    "print(\"Eksik değerler (NaN) sayısı:\", df_fillna.isna().sum())"
   ]
  },
  {
   "cell_type": "code",
   "execution_count": 58,
   "metadata": {},
   "outputs": [
    {
     "data": {
      "image/png": "[encoded data removed]",
      "text/plain": [
       "<Figure size 1500x500 with 3 Axes>"
      ]
     },
     "metadata": {},
     "output_type": "display_data"
    }
   ],
   "source": [
    "msno.bar(df = df_fillna,\n",
    "         figsize = (15, 5),\n",
    "         fontsize = 12);"
   ]
  },
  {
   "cell_type": "markdown",
   "metadata": {},
   "source": [
    "## 2.2.5 - \"Ekran Yenileme Hızı\" Sütununda Yapılan İşlemler\n",
    "\n",
    "Aşağıdaki işlemler, \"Ekran Yenileme Hızı\" sütunundaki eksik (NaN) değerleri doldurmak için yapılmıştır:\n",
    "\n",
    "1. **Ekran Yenileme Hızının Ortalama (Mean) Değerinin Hesaplanması**: `mode()` fonksiyonu kullanılarak \"Ekran Yenileme Hızı\" sütununun en çok tekrar eden değeri hesaplanmıştır. Bu tekrar eden değer, eksik (NaN) değerleri doldurmak için kullanılacaktır.\n",
    "\n",
    "2. **Eksik Değerlerin En Çok Tekrar Eden Değerle Doldurulması**: `fillna()` fonksiyonu ile, sütundaki eksik (NaN) değerler hesaplanan ortalama değer ile doldurulmuştur. Bu işlem `inplace=True` parametresi ile doğrudan DataFrame üzerinde gerçekleştirilmiştir, yani yeni bir değişken oluşturulmamıştır.\n",
    "\n",
    "Sonuç olarak, \"Ekran Yenileme Hızı\" sütunundaki eksik değerler ortalama değeriyle doldurulmuş ve veri seti eksiksiz hale getirilmiştir.\n"
   ]
  },
  {
   "cell_type": "code",
   "execution_count": null,
   "metadata": {},
   "outputs": [
    {
     "name": "stdout",
     "output_type": "stream",
     "text": [
      "0    144.0\n",
      "Name: Yenileme_Hizi, dtype: float64\n"
     ]
    },
    {
     "name": "stderr",
     "output_type": "stream",
     "text": [
      "C:\\Users\\yusuf\\AppData\\Local\\Temp\\ipykernel_3384\\2661508062.py:6: FutureWarning: A value is trying to be set on a copy of a DataFrame or Series through chained assignment using an inplace method.\n",
      "The behavior will change in pandas 3.0. This inplace method will never work because the intermediate object on which we are setting values always behaves as a copy.\n",
      "\n",
      "For example, when doing 'df[col].method(value, inplace=True)', try using 'df.method({col: value}, inplace=True)' or df[col] = df[col].method(value) instead, to perform the operation inplace on the original object.\n",
      "\n",
      "\n",
      "  df_fillna['Yenileme_Hizi'].fillna(value=mode_ekran_yenileme, inplace=True)\n"
     ]
    }
   ],
   "source": [
    "# \"Ekran Yenileme Hızı\" sütununun ortalama (mean) değerini hesaplayalım\n",
    "mode_ekran_yenileme = df_fillna['Yenileme_Hizi'].mode()\n",
    "print(mode_ekran_yenileme)\n",
    "\n",
    "# Ekran Yenileme Hızı sütunundaki eksik değerleri ortalama değer ile dolduralım\n",
    "df_fillna['Yenileme_Hizi'].fillna(value=mode_ekran_yenileme, inplace=True)\n",
    "\n",
    "save_to_excel(df = df_fillna)"
   ]
  },
  {
   "cell_type": "code",
   "execution_count": null,
   "metadata": {},
   "outputs": [],
   "source": [
    "# Sonuçları kontrol etmek için\n",
    "print(\"Eksik değerler (NaN) sayısı:\", df_fillna.isna().sum())"
   ]
  },
  {
   "cell_type": "markdown",
   "metadata": {},
   "source": [
    "# Hard Disk Kapasitesi sil\n",
    "Çok az veri olduğu için silinmiştir."
   ]
  },
  {
   "cell_type": "code",
   "execution_count": null,
   "metadata": {},
   "outputs": [],
   "source": [
    "df_fillna.drop(columns=\"HDD_Kapasitesi\", axis=1, inplace=True)\n",
    "save_to_excel(df= df_fillna)"
   ]
  },
  {
   "cell_type": "code",
   "execution_count": null,
   "metadata": {},
   "outputs": [],
   "source": [
    "list(df_fillna.columns)"
   ]
  },
  {
   "cell_type": "markdown",
   "metadata": {},
   "source": [
    "# İşlemci Modeli Belirtilmemişse boş bırak"
   ]
  },
  {
   "cell_type": "code",
   "execution_count": null,
   "metadata": {},
   "outputs": [],
   "source": [
    "# 'Belirtilmemiş' değerlerini boş string (\"\") ile değiştirme\n",
    "df_fillna[\"Islemci_Modeli\"] = df_fillna[\"Islemci_Modeli\"].replace(\"Belirtilmemiş\", \"\")\n",
    "\n",
    "# Boş stringleri NaN ile değiştirelim ki fillna() kullanabilelim\n",
    "df_fillna[\"Islemci_Modeli\"].replace(\"\", pd.NA, inplace=True)\n",
    "\n",
    "# 'İşlemci Modeli' sütunundaki en sık tekrar eden değeri (mode) bulma\n",
    "mode_islemci_değeri = df_fillna[\"Islemci_Modeli\"].mode()[0]\n",
    "\n",
    "# Mode değerini yazdıralım\n",
    "print(f\"En sık tekrar eden değer: {mode_islemci_değeri}\")\n",
    "\n",
    "# Eksik (NaN) değerleri en sık tekrarlanan değerle doldurma\n",
    "df_fillna[\"Islemci_Modeli\"].fillna(value=mode_islemci_değeri, inplace=True)\n",
    "\n",
    "# Dosyayı kaydedelim\n",
    "save_to_excel(df=df_fillna)\n",
    "\n",
    "# İşlemin tamamlandığını belirten mesaj\n",
    "print(\"İşlemci Modeli sütunundaki eksik veriler dolduruldu ve dosya kaydedildi.\")\n"
   ]
  },
  {
   "cell_type": "code",
   "execution_count": null,
   "metadata": {},
   "outputs": [],
   "source": [
    "df_fillna[\"Islemci_Modeli\"].head()"
   ]
  },
  {
   "cell_type": "code",
   "execution_count": null,
   "metadata": {},
   "outputs": [],
   "source": [
    "msno.bar(df = df_fillna,\n",
    "         figsize = (15, 5),\n",
    "         fontsize = 12);"
   ]
  },
  {
   "cell_type": "code",
   "execution_count": null,
   "metadata": {},
   "outputs": [],
   "source": [
    "df = df_fillna.copy()\n",
    "df.info()"
   ]
  },
  {
   "cell_type": "code",
   "execution_count": null,
   "metadata": {},
   "outputs": [],
   "source": [
    "# Spesifik bir veri tipi tutan değişkenleri seçmek için select_dtypes() kullanabiliriz.\n",
    "df_categorical = df.select_dtypes(include = \"object\")\n",
    "df_categorical.head(3)"
   ]
  },
  {
   "cell_type": "code",
   "execution_count": null,
   "metadata": {},
   "outputs": [],
   "source": [
    "# Kategorik değişkenlerdeki benzersiz değerlerin sayısını görebilmek için nunique() kullanabiliriz.\n",
    "for col in df_categorical.columns:\n",
    "    print(f'There are {df_categorical[col].nunique()} unique values in \"{col}\" categorical feature.\\n')"
   ]
  },
  {
   "cell_type": "code",
   "execution_count": null,
   "metadata": {},
   "outputs": [],
   "source": [
    "# Her bir kategorik değişken için toplam gözlem sayısını value_counts() ile buluyoruz.\n",
    "for col in df_categorical.columns:\n",
    "    print(f'{df_categorical[col].value_counts()}\\n', 5*\"*********\")"
   ]
  },
  {
   "cell_type": "code",
   "execution_count": null,
   "metadata": {},
   "outputs": [],
   "source": [
    "# Kategorik bir değişkende bulunan kategorik değerleri bir liste haline getirip sonra kullanabiliriz.\n",
    "comp_categories = df[\"Islemci_Modeli\"].unique().tolist()[::-1]\n",
    "comp_categories"
   ]
  },
  {
   "cell_type": "markdown",
   "metadata": {},
   "source": [
    "DataFrame'indeki her bir sütun için histogramlar çizecek ve her histogramın üzerine bir kernel density estimate (KDE) eğrisi ekleyecek. Bu histogramlar, her sütunun dağılımını görsel olarak gösterecek."
   ]
  },
  {
   "cell_type": "code",
   "execution_count": null,
   "metadata": {},
   "outputs": [],
   "source": [
    "# Get the number of columns in the dataframe\n",
    "num_columns = len(df.columns)\n",
    "\n",
    "# Calculate number of rows and columns needed for subplots\n",
    "ncols = 3  # You can adjust this as needed\n",
    "nrows = int(np.ceil(num_columns / ncols))\n",
    "\n",
    "plt.figure(figsize=(20, 5 * nrows))  # Adjust figure size dynamically based on the number of rows\n",
    "\n",
    "ind = 1\n",
    "for variable in df.columns:\n",
    "    plt.subplot(nrows, ncols, ind)\n",
    "    sns.histplot(x=df[variable], kde=True, color=\"green\")\n",
    "    plt.title(variable)\n",
    "    plt.xlabel('')\n",
    "    ind += 1\n",
    "\n",
    "plt.tight_layout()  # Automatically adjust subplots to prevent overlap\n",
    "plt.show()\n"
   ]
  },
  {
   "cell_type": "markdown",
   "metadata": {},
   "source": [
    "GPU BELLEK TİPİ SÜTUN DÜZENLEMESİ"
   ]
  },
  {
   "cell_type": "code",
   "execution_count": null,
   "metadata": {},
   "outputs": [],
   "source": [
    "# 'Belirtilmemiş' değerlerini boş string (\"\") ile değiştirme\n",
    "df[\"GPU_Bellek_Tipi\"] = df[\"GPU_Bellek_Tipi\"].replace(\"Belirtilmemiş\", \"\")\n",
    "\n",
    "# Boş stringleri NaN ile değiştirelim ki fillna() kullanabilelim\n",
    "df[\"GPU_Bellek_Tipi\"].replace(\"\", pd.NA, inplace=True)\n",
    "\n",
    "mode_gpu_bellek_tipi = df[\"GPU_Bellek_Tipi\"].mode()[0]\n",
    "\n",
    "# Mode değerini yazdıralım\n",
    "print(f\"En sık tekrar eden değer: {mode_gpu_bellek_tipi}\")\n",
    "\n",
    "# Eksik (NaN) değerleri en sık tekrarlanan değerle doldurma\n",
    "df[\"GPU_Bellek_Tipi\"].fillna(value=mode_gpu_bellek_tipi, inplace=True)\n",
    "\n",
    "# Dosyayı kaydedelim\n",
    "save_to_excel(df=df)\n",
    "\n",
    "# İşlemin tamamlandığını belirten mesaj\n",
    "print(\"İşlemci Modeli sütunundaki eksik veriler dolduruldu ve dosya kaydedildi.\")\n"
   ]
  },
  {
   "cell_type": "code",
   "execution_count": null,
   "metadata": {},
   "outputs": [],
   "source": [
    "df[\"GPU_Bellek_Tipi\"].unique()"
   ]
  },
  {
   "cell_type": "code",
   "execution_count": null,
   "metadata": {},
   "outputs": [],
   "source": [
    "df[\"GPU_Hafizasi\"].unique()"
   ]
  },
  {
   "cell_type": "code",
   "execution_count": null,
   "metadata": {},
   "outputs": [],
   "source": [
    "df[\"GPU_Tipi\"].unique()"
   ]
  },
  {
   "cell_type": "code",
   "execution_count": null,
   "metadata": {},
   "outputs": [],
   "source": [
    "df[\"Yenileme_Hizi\"].unique()"
   ]
  },
  {
   "cell_type": "markdown",
   "metadata": {},
   "source": [
    "YENİLEME HIZI SÜTUNUNU DÜZENLİYORUZ"
   ]
  },
  {
   "cell_type": "code",
   "execution_count": null,
   "metadata": {},
   "outputs": [],
   "source": [
    "df['Yenileme_Hizi'] = df['Yenileme_Hizi'].ffill()\n",
    "save_to_excel(df=df)"
   ]
  },
  {
   "cell_type": "code",
   "execution_count": null,
   "metadata": {},
   "outputs": [],
   "source": [
    "df[\"Yenileme_Hizi\"].unique()"
   ]
  },
  {
   "cell_type": "code",
   "execution_count": null,
   "metadata": {},
   "outputs": [],
   "source": [
    "df[\"Panel_Tipi\"].unique()"
   ]
  },
  {
   "cell_type": "code",
   "execution_count": null,
   "metadata": {},
   "outputs": [],
   "source": [
    "# 'Belirtilmemiş' değerlerini boş string (\"\") ile değiştirme\n",
    "df[\"Panel_Tipi\"] = df[\"Panel_Tipi\"].replace(\"Yok\", \"\")\n",
    "\n",
    "# Boş stringleri NaN ile değiştirelim ki fillna() kullanabilelim\n",
    "df[\"Panel_Tipi\"].replace(\"\", pd.NA, inplace=True)\n",
    "\n",
    "mode_panel_tipi = df[\"Panel_Tipi\"].mode()[0]\n",
    "\n",
    "# Mode değerini yazdıralım\n",
    "print(f\"En sık tekrar eden değer: {mode_panel_tipi}\")\n",
    "\n",
    "# Eksik (NaN) değerleri en sık tekrarlanan değerle doldurma\n",
    "df[\"Panel_Tipi\"].fillna(value=mode_panel_tipi, inplace=True)\n",
    "\n",
    "# Dosyayı kaydedelim\n",
    "save_to_excel(df=df)\n",
    "\n",
    "# İşlemin tamamlandığını belirten mesaj\n",
    "print(\"İşlemci Modeli sütunundaki eksik veriler dolduruldu ve dosya kaydedildi.\")\n"
   ]
  },
  {
   "cell_type": "code",
   "execution_count": null,
   "metadata": {},
   "outputs": [],
   "source": [
    "list(df.columns)"
   ]
  },
  {
   "cell_type": "code",
   "execution_count": null,
   "metadata": {},
   "outputs": [],
   "source": [
    "df[\"Renk\"].unique()"
   ]
  },
  {
   "cell_type": "markdown",
   "metadata": {},
   "source": [
    "RAM TİPİ DÜZENLE"
   ]
  },
  {
   "cell_type": "code",
   "execution_count": null,
   "metadata": {},
   "outputs": [],
   "source": [
    "# 'Belirtilmemiş' değerlerini boş string (\"\") ile değiştirme\n",
    "df[\"RAM_Tipi\"] = df[\"RAM_Tipi\"].replace(\"Belirtilmemiş\", \"\")\n",
    "\n",
    "# Boş stringleri NaN ile değiştirelim ki fillna() kullanabilelim\n",
    "df[\"RAM_Tipi\"].replace(\"\", pd.NA, inplace=True)\n",
    "\n",
    "mode_panel_tipi = df[\"RAM_Tipi\"].mode()[0]\n",
    "\n",
    "# Mode değerini yazdıralım\n",
    "print(f\"En sık tekrar eden değer: {mode_panel_tipi}\")\n",
    "\n",
    "# Eksik (NaN) değerleri en sık tekrarlanan değerle doldurma\n",
    "df[\"RAM_Tipi\"].fillna(value=mode_panel_tipi, inplace=True)\n",
    "\n",
    "# Dosyayı kaydedelim\n",
    "save_to_excel(df=df)\n",
    "\n",
    "# İşlemin tamamlandığını belirten mesaj\n",
    "print(\"İşlemci Modeli sütunundaki eksik veriler dolduruldu ve dosya kaydedildi.\")"
   ]
  },
  {
   "cell_type": "markdown",
   "metadata": {},
   "source": [
    "RENK DÜZENLEME "
   ]
  },
  {
   "cell_type": "code",
   "execution_count": null,
   "metadata": {},
   "outputs": [],
   "source": [
    "# Verileri küçük harfe çevirme\n",
    "df['Renk'] = df['Renk'].str.lower()\n",
    "\n",
    "# Renk isimlerini standartlaştırma\n",
    "df['Renk'] = df['Renk'].replace({\n",
    "    'siyah': 'siyah',\n",
    "    'mika gümüş': 'mika gümüş',\n",
    "    'gri': 'gri',\n",
    "    'mavi': 'mavi',\n",
    "    'metalik': 'metalik',\n",
    "    'beyaz': 'beyaz',\n",
    "    'belirtilmemiş': 'belirtilmemiş',\n",
    "    'cloud gri': 'gri',\n",
    "    'black': 'siyah',\n",
    "    'gümüş': 'mika gümüş',\n",
    "    'graphite black': 'siyah',\n",
    "    'lacivert': 'mavi',\n",
    "    'blue': 'mavi',\n",
    "    'gray': 'gri',\n",
    "    'storm grey': 'gri',\n",
    "    'uzay gri': 'gri',\n",
    "    'oniks grisi': 'gri',\n",
    "    'gölge siyahı': 'siyah',\n",
    "    'tutulma siyahı': 'siyah',\n",
    "    'çok renkli': 'çok renkli',\n",
    "    'luna gri': 'gri',\n",
    "    'eclipse gray': 'gri',\n",
    "    'jaeger gray': 'gri',\n",
    "    'grafiti siyah': 'siyah',\n",
    "    'onyx grey': 'gri',\n",
    "    'metalik uzay grisi': 'gri',\n",
    "    'koyu gri': 'gri',\n",
    "    'koyu mavi': 'mavi',\n",
    "    'koyu gri-siyah': 'siyah',\n",
    "    'mavi': 'mavi'\n",
    "})\n",
    "\n",
    "save_to_excel(df=df)\n",
    "# Yeniden düzenlenmiş veriyi kontrol etme\n",
    "print(df['Renk'].unique())"
   ]
  },
  {
   "cell_type": "code",
   "execution_count": null,
   "metadata": {},
   "outputs": [],
   "source": [
    "df['Renk'] = df['Renk'].str.lower()\n",
    "\n",
    "# En sık görülen değeri bulma (mod)\n",
    "most_frequent_color = df['Renk'].mode()[0]  # mode() en çok tekrar eden değeri döndürür\n",
    "\n",
    "# \"Belirtilmemiş\" değerlerini en sık görülen değerle doldurma\n",
    "df['Renk'] = df['Renk'].replace('belirtilmemiş', most_frequent_color)\n",
    "\n",
    "# Düzenlenmiş veriyi bir Excel dosyasına kaydetme\n",
    "save_to_excel(df=df)\n",
    "\n",
    "# Sonuçları kontrol etme\n",
    "print(\"En sık görülen renk:\", most_frequent_color)\n",
    "print(\"Düzenlenmiş Renkler:\\n\", df['Renk'].unique())"
   ]
  },
  {
   "cell_type": "markdown",
   "metadata": {},
   "source": [
    "SSD KAPASİTESİ"
   ]
  },
  {
   "cell_type": "code",
   "execution_count": null,
   "metadata": {},
   "outputs": [],
   "source": [
    "df[\"SSD_Kapasitesi\"].unique()"
   ]
  },
  {
   "cell_type": "code",
   "execution_count": null,
   "metadata": {},
   "outputs": [],
   "source": [
    "median_value = df['SSD_Kapasitesi'].median()  # Medyan değeri hesapla\n",
    "df['SSD_Kapasitesi'] = df['SSD_Kapasitesi'].fillna(median_value)  # NaN değerleri medyan ile doldur\n",
    "save_to_excel(df=df)"
   ]
  },
  {
   "cell_type": "markdown",
   "metadata": {},
   "source": [
    "İŞLEMCİ NESLİ"
   ]
  },
  {
   "cell_type": "code",
   "execution_count": null,
   "metadata": {},
   "outputs": [],
   "source": [
    "df[\"Islemci_Nesli\"].unique()"
   ]
  },
  {
   "cell_type": "code",
   "execution_count": null,
   "metadata": {},
   "outputs": [],
   "source": [
    "# 'Belirtilmemiş' değerlerini boş string (\"\") ile değiştirme\n",
    "df[\"Islemci_Nesli\"] = df[\"Islemci_Nesli\"].replace(\"Belirtilmemiş\", \"\")\n",
    "\n",
    "# Boş stringleri NaN ile değiştirelim ki fillna() kullanabilelim\n",
    "df[\"Islemci_Nesli\"].replace(\"\", pd.NA, inplace=True)\n",
    "\n",
    "df['Islemci_Nesli'] = df['Islemci_Nesli'].fillna(method='ffill')\n",
    "save_to_excel(df=df)"
   ]
  },
  {
   "cell_type": "code",
   "execution_count": null,
   "metadata": {},
   "outputs": [],
   "source": [
    "df[\"Islemci_Nesli\"].unique()"
   ]
  },
  {
   "cell_type": "markdown",
   "metadata": {},
   "source": [
    "CPU_Cekirdek_Sayisi DÜZELT\n"
   ]
  },
  {
   "cell_type": "code",
   "execution_count": null,
   "metadata": {},
   "outputs": [],
   "source": [
    "df[\"CPU_Cekirdek_Sayisi\"].unique()"
   ]
  },
  {
   "cell_type": "code",
   "execution_count": null,
   "metadata": {},
   "outputs": [],
   "source": [
    "# 1. Adım: Verideki sayıların sonundaki noktaları temizleme\n",
    "df['CPU_Cekirdek_Sayisi'] = df['CPU_Cekirdek_Sayisi'].astype(str).str.replace(r'\\.$', '', regex=True).astype(float)\n",
    "\n",
    "# 2. Adım: Eksik (NaN) değerleri ortalama ile doldurma\n",
    "mean_value = df['CPU_Cekirdek_Sayisi'].mean()  # Ortalama değeri hesapla\n",
    "df['CPU_Cekirdek_Sayisi'] = df['CPU_Cekirdek_Sayisi'].fillna(mean_value)  # NaN değerleri ortalama ile doldur\n",
    "\n",
    "# 3. Adım: Sayıları tam sayıya yuvarlamak\n",
    "df['CPU_Cekirdek_Sayisi'] = df['CPU_Cekirdek_Sayisi'].round().astype(int)\n",
    "\n",
    "save_to_excel(df=df)\n"
   ]
  },
  {
   "cell_type": "code",
   "execution_count": null,
   "metadata": {},
   "outputs": [],
   "source": [
    "df[\"CPU_Cekirdek_Sayisi\"].unique()"
   ]
  },
  {
   "cell_type": "code",
   "execution_count": null,
   "metadata": {},
   "outputs": [],
   "source": [
    "df[\"Islemci_Modeli\"]"
   ]
  },
  {
   "cell_type": "code",
   "execution_count": null,
   "metadata": {},
   "outputs": [],
   "source": [
    "df[\"Islemci_Tipi\"]"
   ]
  },
  {
   "cell_type": "code",
   "execution_count": null,
   "metadata": {},
   "outputs": [],
   "source": [
    "# Yeni 'Islemci' sütununu oluşturun\n",
    "df[\"Islemci\"] = df[\"Islemci_Tipi\"] + \" \" + df[\"Islemci_Modeli\"]\n",
    "\n",
    "# 'Islemci_Tipi', 'Islemci_Modeli' ve 'Islemci_Nesli' sütunlarını silin\n",
    "df = df.drop(columns=[\"Islemci_Tipi\", \"Islemci_Modeli\", \"Islemci_Nesli\"])\n",
    "\n",
    "# 'Islemci' sütununu son sütundan bir önceki sütuna taşıma\n",
    "columns = list(df.columns)\n",
    "# Son sütunun indeksini bul\n",
    "last_column_index = len(columns) - 1\n",
    "# 'Islemci' sütununun indeksini bul\n",
    "islemci_index = columns.index(\"Islemci\")\n",
    "\n",
    "# 'Islemci' sütununu bir önceki sütuna taşıma\n",
    "columns.insert(last_column_index - 1, columns.pop(islemci_index))\n",
    "\n",
    "# Sütun sırasını güncelleme\n",
    "df = df[columns]\n",
    "\n",
    "# Excel'e kaydetme\n",
    "save_to_excel(df=df)"
   ]
  },
  {
   "cell_type": "code",
   "execution_count": null,
   "metadata": {},
   "outputs": [],
   "source": [
    "df[\"Islemci\"]"
   ]
  },
  {
   "cell_type": "code",
   "execution_count": null,
   "metadata": {},
   "outputs": [],
   "source": [
    "list(df.columns)"
   ]
  },
  {
   "cell_type": "code",
   "execution_count": null,
   "metadata": {},
   "outputs": [],
   "source": [
    "len(df.columns)"
   ]
  },
  {
   "cell_type": "code",
   "execution_count": null,
   "metadata": {},
   "outputs": [],
   "source": [
    "df[\"Fiyat\"]"
   ]
  },
  {
   "cell_type": "code",
   "execution_count": null,
   "metadata": {},
   "outputs": [],
   "source": [
    "# Her sütun için benzersiz değerlerin sayısını hesaplayın\n",
    "unique_counts = df.nunique()\n",
    "\n",
    "# Bar grafiğini oluşturun\n",
    "plt.figure(figsize=(12, 6))\n",
    "unique_counts.plot(kind='bar', color='skyblue')\n",
    "\n",
    "# Başlık ve etiketler\n",
    "plt.title('Sütunlardaki Benzersiz Değerlerin Sayısı')\n",
    "plt.xlabel('Sütunlar')\n",
    "plt.ylabel('Benzersiz Değer Sayısı')\n",
    "\n",
    "# Grafiği göster\n",
    "plt.xticks(rotation=90)  # X eksenindeki etiketleri döndür\n",
    "plt.tight_layout()  # Etiketlerin kesilmemesi için düzenleme\n",
    "plt.show()"
   ]
  },
  {
   "cell_type": "code",
   "execution_count": null,
   "metadata": {},
   "outputs": [],
   "source": [
    "# Her sütundaki boş olmayan (NaN olmayan) değerlerin sayısını hesaplayın\n",
    "non_na_counts = df.notna().sum()\n",
    "\n",
    "# Bar grafiğini oluşturun\n",
    "plt.figure(figsize=(12, 6))\n",
    "non_na_counts.plot(kind='bar', color='lightcoral')\n",
    "\n",
    "# Başlık ve etiketler\n",
    "plt.title('Her Sütundaki Boş Olmayan Değerlerin Sayısı')\n",
    "plt.xlabel('Sütunlar')\n",
    "plt.ylabel('Boş Olmayan Değer Sayısı')\n",
    "\n",
    "# Grafiği göster\n",
    "plt.xticks(rotation=90)  # X eksenindeki etiketleri döndür\n",
    "plt.tight_layout()  # Etiketlerin kesilmemesi için düzenleme\n",
    "plt.show()"
   ]
  },
  {
   "cell_type": "code",
   "execution_count": null,
   "metadata": {},
   "outputs": [],
   "source": [
    "df[\"Ekran_Boyutu\"].unique()"
   ]
  },
  {
   "cell_type": "code",
   "execution_count": null,
   "metadata": {},
   "outputs": [],
   "source": [
    "df['Fiyat'] = df['Fiyat'].fillna(method='ffill')\n",
    "save_to_excel(df=df)"
   ]
  },
  {
   "cell_type": "code",
   "execution_count": null,
   "metadata": {},
   "outputs": [],
   "source": [
    "df[\"Fiyat\"].unique()"
   ]
  },
  {
   "cell_type": "code",
   "execution_count": null,
   "metadata": {},
   "outputs": [],
   "source": [
    "# Fiyat sütunundaki her hücreyi string'e çevir ve virgül yerine nokta koy\n",
    "df['Fiyat'] = df['Fiyat'].astype(str).apply(lambda x: x.replace(',', '.'))\n",
    "\n",
    "# Fiyat sütunundaki 5 karakter uzunluğundaki değerlerin sonuna '0' ekle\n",
    "df['Fiyat'] = df['Fiyat'].apply(lambda x: x + '0' if len(x.replace('.', '')) == 5 else x)\n",
    "\n",
    "# Fiyatları numerik (float) formata dönüştür\n",
    "df['Fiyat'] = pd.to_numeric(df['Fiyat'])\n",
    "save_to_excel(df=df)"
   ]
  },
  {
   "cell_type": "code",
   "execution_count": null,
   "metadata": {},
   "outputs": [],
   "source": [
    "df[\"Fiyat\"].head(n=20)"
   ]
  },
  {
   "cell_type": "code",
   "execution_count": null,
   "metadata": {},
   "outputs": [],
   "source": [
    "# Dosyaları oku\n",
    "notebook = pd.read_excel('notebook.xlsx')\n",
    "\n",
    "\n",
    "# \"price\" sütununu \"fiyat\" sütununa aktar \n",
    "# veriler bozulduğu için değiştirdik.\n",
    "df['Fiyat'] = notebook['Price']\n",
    "\n",
    "# Yeni veriyi kaydet\n",
    "save_to_excel(df=df)"
   ]
  },
  {
   "cell_type": "code",
   "execution_count": null,
   "metadata": {},
   "outputs": [],
   "source": [
    "# \"fiyat\" sütunundaki eksik verileri bir üstteki değer ile doldur\n",
    "df['Fiyat'] = df['Fiyat'].ffill()\n",
    "save_to_excel(df=df)"
   ]
  },
  {
   "cell_type": "code",
   "execution_count": null,
   "metadata": {},
   "outputs": [],
   "source": [
    "# Fazladan boşlukları kaldır\n",
    "df[\"Ekran_Boyutu\"] = df[\"Ekran_Boyutu\"].str.strip()\n",
    "\n",
    "# Değiştirme işlemleri için mapping sözlüğü\n",
    "mapping = {\n",
    "    '15,4': '15,6',\n",
    "    '18': '17,3',\n",
    "    '7,0': '17,3',\n",
    "    '17': '17,3',\n",
    "    '16,3': '16,1',\n",
    "    '16': '16,1'\n",
    "}\n",
    "\n",
    "# Değiştirme işlemi\n",
    "df[\"Ekran_Boyutu\"] = df[\"Ekran_Boyutu\"].replace(mapping)\n",
    "\n",
    "# Eşsiz değerleri kontrol et\n",
    "print(df[\"Ekran_Boyutu\"].unique())\n",
    "\n",
    "# Excel'e kaydetme işlemi\n",
    "save_to_excel(df=df)"
   ]
  },
  {
   "cell_type": "code",
   "execution_count": null,
   "metadata": {},
   "outputs": [],
   "source": [
    "df[\"Ekran_Boyutu\"].unique()"
   ]
  }
 ],
 "metadata": {
  "kernelspec": {
   "display_name": "general",
   "language": "python",
   "name": "python3"
  },
  "language_info": {
   "codemirror_mode": {
    "name": "ipython",
    "version": 3
   },
   "file_extension": ".py",
   "mimetype": "text/x-python",
   "name": "python",
   "nbconvert_exporter": "python",
   "pygments_lexer": "ipython3",
   "version": "3.10.15"
  }
 },
 "nbformat": 4,
 "nbformat_minor": 2
}
