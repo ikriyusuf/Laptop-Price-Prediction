{
 "cells": [
  {
   "cell_type": "markdown",
   "metadata": {},
   "source": [
    "# VERİ SETİ HAZIRLANMASI\n"
   ]
  },
  {
   "cell_type": "code",
   "execution_count": 25,
   "metadata": {},
   "outputs": [],
   "source": [
    "import pandas as pd\n",
    "import numpy as np\n"
   ]
  },
  {
   "cell_type": "code",
   "execution_count": 26,
   "metadata": {},
   "outputs": [],
   "source": [
    "import matplotlib.pyplot as plt\n",
    "import seaborn as sns"
   ]
  },
  {
   "cell_type": "code",
   "execution_count": null,
   "metadata": {},
   "outputs": [
    {
     "data": {
      "text/html": [
       "<div>\n",
       "<style scoped>\n",
       "    .dataframe tbody tr th:only-of-type {\n",
       "        vertical-align: middle;\n",
       "    }\n",
       "\n",
       "    .dataframe tbody tr th {\n",
       "        vertical-align: top;\n",
       "    }\n",
       "\n",
       "    .dataframe thead th {\n",
       "        text-align: right;\n",
       "    }\n",
       "</style>\n",
       "<table border=\"1\" class=\"dataframe\">\n",
       "  <thead>\n",
       "    <tr style=\"text-align: right;\">\n",
       "      <th></th>\n",
       "      <th>Arttırılabilir Azami Bellek</th>\n",
       "      <th>Bağlantılar</th>\n",
       "      <th>Cihaz Ağırlığı</th>\n",
       "      <th>Dokunmatik Ekran</th>\n",
       "      <th>Ekran Boyutu</th>\n",
       "      <th>Ekran Kartı</th>\n",
       "      <th>Ekran Kartı Bellek Tipi</th>\n",
       "      <th>Ekran Kartı Gücü</th>\n",
       "      <th>Ekran Kartı Hafızası</th>\n",
       "      <th>Ekran Kartı Tipi</th>\n",
       "      <th>...</th>\n",
       "      <th>Temel İşlemci Hızı (GHz)</th>\n",
       "      <th>Title</th>\n",
       "      <th>Çözünürlük</th>\n",
       "      <th>Çözünürlük Standartı</th>\n",
       "      <th>İşlemci Modeli</th>\n",
       "      <th>İşlemci Nesli</th>\n",
       "      <th>İşlemci Tipi</th>\n",
       "      <th>İşlemci Çekirdek Sayısı</th>\n",
       "      <th>İşletim Sistemi</th>\n",
       "      <th>Şarjlı Kullanım Süresi</th>\n",
       "    </tr>\n",
       "  </thead>\n",
       "  <tbody>\n",
       "    <tr>\n",
       "      <th>0</th>\n",
       "      <td>16 GB</td>\n",
       "      <td>USB - Bluetooth - HDMI</td>\n",
       "      <td>2 - 4 kg</td>\n",
       "      <td>Yok</td>\n",
       "      <td>15,6 inç</td>\n",
       "      <td>Nvidia GeForce RTX 4060</td>\n",
       "      <td>GDDR6</td>\n",
       "      <td>NaN</td>\n",
       "      <td>8 GB</td>\n",
       "      <td>Harici</td>\n",
       "      <td>...</td>\n",
       "      <td>NaN</td>\n",
       "      <td>LOQ 15IAX9 83GS007XTR i5-12450HX 8GB 512 GB SS...</td>\n",
       "      <td>1920 x 1080</td>\n",
       "      <td>Full HD (FHD)</td>\n",
       "      <td>Belirtilmemiş</td>\n",
       "      <td>12. Nesil</td>\n",
       "      <td>Intel Core i5</td>\n",
       "      <td>8.0</td>\n",
       "      <td>Free Dos</td>\n",
       "      <td>NaN</td>\n",
       "    </tr>\n",
       "    <tr>\n",
       "      <th>1</th>\n",
       "      <td>16 GB</td>\n",
       "      <td>USB - Bluetooth - HDMI</td>\n",
       "      <td>2 - 4 kg</td>\n",
       "      <td>Yok</td>\n",
       "      <td>15,6 inç</td>\n",
       "      <td>Nvidia GeForce RTX 3050</td>\n",
       "      <td>GDDR6</td>\n",
       "      <td>NaN</td>\n",
       "      <td>6 GB</td>\n",
       "      <td>Harici</td>\n",
       "      <td>...</td>\n",
       "      <td>NaN</td>\n",
       "      <td>G15-5530 Intel Core i7-13650HX 16GB 512GB SSD ...</td>\n",
       "      <td>1920 x 1080</td>\n",
       "      <td>Full HD (FHD)</td>\n",
       "      <td>13650HX</td>\n",
       "      <td>13. Nesil</td>\n",
       "      <td>Intel Core i7</td>\n",
       "      <td>24.0</td>\n",
       "      <td>Free Dos</td>\n",
       "      <td>NaN</td>\n",
       "    </tr>\n",
       "    <tr>\n",
       "      <th>2</th>\n",
       "      <td>16 GB</td>\n",
       "      <td>USB - Bluetooth - HDMI</td>\n",
       "      <td>2 kg ve altı</td>\n",
       "      <td>Yok</td>\n",
       "      <td>15,6 inç</td>\n",
       "      <td>Nvidia GeForce RTX 2050</td>\n",
       "      <td>GDDR6</td>\n",
       "      <td>55W</td>\n",
       "      <td>4 GB ve altı</td>\n",
       "      <td>Harici</td>\n",
       "      <td>...</td>\n",
       "      <td>2.3</td>\n",
       "      <td>Abra A5 V21.3 Intel Core i7 12700H 16 GB RAM 5...</td>\n",
       "      <td>1920 x 1080</td>\n",
       "      <td>Full HD (FHD)</td>\n",
       "      <td>12700H</td>\n",
       "      <td>12. Nesil</td>\n",
       "      <td>Intel Core i7</td>\n",
       "      <td>14.0</td>\n",
       "      <td>Free Dos</td>\n",
       "      <td>4-6 Saat</td>\n",
       "    </tr>\n",
       "    <tr>\n",
       "      <th>3</th>\n",
       "      <td>32 GB</td>\n",
       "      <td>USB - Bluetooth - HDMI</td>\n",
       "      <td>2 - 4 kg</td>\n",
       "      <td>Yok</td>\n",
       "      <td>15,6 inç</td>\n",
       "      <td>Nvidia GeForce RTX 4050</td>\n",
       "      <td>GDDR6</td>\n",
       "      <td>105W</td>\n",
       "      <td>6 GB</td>\n",
       "      <td>Harici</td>\n",
       "      <td>...</td>\n",
       "      <td>3.1</td>\n",
       "      <td>LOQ Intel Core i5-12450HX 16GB 512GB SSD 6GB R...</td>\n",
       "      <td>1920 x 1080</td>\n",
       "      <td>Full HD (FHD)</td>\n",
       "      <td>12450H</td>\n",
       "      <td>12. Nesil</td>\n",
       "      <td>Intel Core i5</td>\n",
       "      <td>8.0</td>\n",
       "      <td>Free Dos</td>\n",
       "      <td>6 Saat ve Üstü</td>\n",
       "    </tr>\n",
       "  </tbody>\n",
       "</table>\n",
       "<p>4 rows × 35 columns</p>\n",
       "</div>"
      ],
      "text/plain": [
       "  Arttırılabilir Azami Bellek             Bağlantılar Cihaz Ağırlığı  \\\n",
       "0                       16 GB  USB - Bluetooth - HDMI       2 - 4 kg   \n",
       "1                       16 GB  USB - Bluetooth - HDMI       2 - 4 kg   \n",
       "2                       16 GB  USB - Bluetooth - HDMI   2 kg ve altı   \n",
       "3                       32 GB  USB - Bluetooth - HDMI       2 - 4 kg   \n",
       "\n",
       "  Dokunmatik Ekran Ekran Boyutu              Ekran Kartı  \\\n",
       "0              Yok     15,6 inç  Nvidia GeForce RTX 4060   \n",
       "1              Yok     15,6 inç  Nvidia GeForce RTX 3050   \n",
       "2              Yok     15,6 inç  Nvidia GeForce RTX 2050   \n",
       "3              Yok     15,6 inç  Nvidia GeForce RTX 4050   \n",
       "\n",
       "  Ekran Kartı Bellek Tipi Ekran Kartı Gücü Ekran Kartı Hafızası  \\\n",
       "0                   GDDR6              NaN                 8 GB   \n",
       "1                   GDDR6              NaN                 6 GB   \n",
       "2                   GDDR6              55W         4 GB ve altı   \n",
       "3                   GDDR6             105W                 6 GB   \n",
       "\n",
       "  Ekran Kartı Tipi  ... Temel İşlemci Hızı (GHz)  \\\n",
       "0           Harici  ...                      NaN   \n",
       "1           Harici  ...                      NaN   \n",
       "2           Harici  ...                      2.3   \n",
       "3           Harici  ...                      3.1   \n",
       "\n",
       "                                               Title   Çözünürlük  \\\n",
       "0  LOQ 15IAX9 83GS007XTR i5-12450HX 8GB 512 GB SS...  1920 x 1080   \n",
       "1  G15-5530 Intel Core i7-13650HX 16GB 512GB SSD ...  1920 x 1080   \n",
       "2  Abra A5 V21.3 Intel Core i7 12700H 16 GB RAM 5...  1920 x 1080   \n",
       "3  LOQ Intel Core i5-12450HX 16GB 512GB SSD 6GB R...  1920 x 1080   \n",
       "\n",
       "  Çözünürlük Standartı İşlemci Modeli İşlemci Nesli   İşlemci Tipi  \\\n",
       "0        Full HD (FHD)  Belirtilmemiş     12. Nesil  Intel Core i5   \n",
       "1        Full HD (FHD)        13650HX     13. Nesil  Intel Core i7   \n",
       "2        Full HD (FHD)         12700H     12. Nesil  Intel Core i7   \n",
       "3        Full HD (FHD)         12450H     12. Nesil  Intel Core i5   \n",
       "\n",
       "   İşlemci Çekirdek Sayısı İşletim Sistemi Şarjlı Kullanım Süresi  \n",
       "0                      8.0        Free Dos                    NaN  \n",
       "1                     24.0        Free Dos                    NaN  \n",
       "2                     14.0        Free Dos               4-6 Saat  \n",
       "3                      8.0        Free Dos         6 Saat ve Üstü  \n",
       "\n",
       "[4 rows x 35 columns]"
      ]
     },
     "execution_count": 27,
     "metadata": {},
     "output_type": "execute_result"
    }
   ],
   "source": [
    "# Excel dosyasının yolu\n",
    "dosya_yolu = r\"C:\\Users\\yusuf\\OneDrive\\Masaüstü\\data_science\\notebook.xlsx\"\n",
    "\n",
    "# Excel dosyasını oku ve DataFrame'e aktar\n",
    "df_ = pd.read_excel(dosya_yolu)\n",
    "\n",
    "# Kopyalama yaptık\n",
    "df = df_.copy()"
   ]
  },
  {
   "cell_type": "markdown",
   "metadata": {},
   "source": [
    "# 1- VERİYE İLK BAKIŞ"
   ]
  },
  {
   "cell_type": "code",
   "execution_count": null,
   "metadata": {},
   "outputs": [],
   "source": [
    "# DataFrame'i görüntüle\n",
    "df.head(n=4)"
   ]
  },
  {
   "cell_type": "code",
   "execution_count": 28,
   "metadata": {},
   "outputs": [
    {
     "data": {
      "text/plain": [
       "(1200, 35)"
      ]
     },
     "execution_count": 28,
     "metadata": {},
     "output_type": "execute_result"
    }
   ],
   "source": [
    "df.shape # (satır x sütun)"
   ]
  },
  {
   "cell_type": "code",
   "execution_count": 29,
   "metadata": {},
   "outputs": [
    {
     "name": "stdout",
     "output_type": "stream",
     "text": [
      "2\n"
     ]
    }
   ],
   "source": [
    "print(df.ndim) # Verinin kaç boyutlu olduğunu gösterir"
   ]
  },
  {
   "cell_type": "code",
   "execution_count": null,
   "metadata": {},
   "outputs": [
    {
     "name": "stdout",
     "output_type": "stream",
     "text": [
      "['Arttırılabilir Azami Bellek', 'Bağlantılar', 'Cihaz Ağırlığı', 'Dokunmatik Ekran', 'Ekran Boyutu', 'Ekran Kartı', 'Ekran Kartı Bellek Tipi', 'Ekran Kartı Gücü', 'Ekran Kartı Hafızası', 'Ekran Kartı Tipi', 'Ekran Yenileme Hızı', 'Garanti Süresi', 'Garanti Tipi', 'Hard Disk Kapasitesi', 'Kapasite', 'Klavye', 'Kullanım Amacı', 'Maksimum İşlemci Hızı (GHz)', 'Menşei', 'Panel Tipi', 'Price', 'Ram (Sistem Belleği)', 'Ram (Sistem Belleği) Tipi', 'Renk', 'SSD Kapasitesi', 'Temel İşlemci Hızı (GHz)', 'Title', 'Çözünürlük', 'Çözünürlük Standartı', 'İşlemci Modeli', 'İşlemci Nesli', 'İşlemci Tipi', 'İşlemci Çekirdek Sayısı', 'İşletim Sistemi', 'Şarjlı Kullanım Süresi'] \n",
      "\n",
      "Veri seti içerisinde toplam 35 kolon vardır.\n",
      "df.columns döndüğü veri tipi <class 'pandas.core.indexes.base.Index'> dir. \n"
     ]
    }
   ],
   "source": [
    "# Veri setindeki kolonları yazdırır.\n",
    "print(list(df.columns), '\\n')\n",
    "\n",
    "# len() fonksiyonu ile toplam kolon sayısına erişiyoruz.\n",
    "print(f\"Veri seti içerisinde toplam {len(df.columns)} kolon vardır.\\n\")\n",
    "\n",
    "# Çoğu zaman kullandığımız attribute ve fonksiyonların sonuçlarının hangi tipte veri döndürdüğünü gözlemlemek kod üzerinde hakimiyet kurmak için önemlidir.\n",
    "print(f\"df.columns'un döndüğü veri tipi: {type(df.columns)}\\n\")"
   ]
  },
  {
   "cell_type": "code",
   "execution_count": 31,
   "metadata": {},
   "outputs": [
    {
     "name": "stdout",
     "output_type": "stream",
     "text": [
      "<class 'pandas.core.frame.DataFrame'>\n",
      "RangeIndex: 1200 entries, 0 to 1199\n",
      "Data columns (total 35 columns):\n",
      " #   Column                       Non-Null Count  Dtype  \n",
      "---  ------                       --------------  -----  \n",
      " 0   Arttırılabilir Azami Bellek  810 non-null    object \n",
      " 1   Bağlantılar                  1197 non-null   object \n",
      " 2   Cihaz Ağırlığı               1200 non-null   object \n",
      " 3   Dokunmatik Ekran             1200 non-null   object \n",
      " 4   Ekran Boyutu                 1200 non-null   object \n",
      " 5   Ekran Kartı                  1200 non-null   object \n",
      " 6   Ekran Kartı Bellek Tipi      1200 non-null   object \n",
      " 7   Ekran Kartı Gücü             260 non-null    object \n",
      " 8   Ekran Kartı Hafızası         1200 non-null   object \n",
      " 9   Ekran Kartı Tipi             1200 non-null   object \n",
      " 10  Ekran Yenileme Hızı          1200 non-null   object \n",
      " 11  Garanti Süresi               1200 non-null   object \n",
      " 12  Garanti Tipi                 1200 non-null   object \n",
      " 13  Hard Disk Kapasitesi         1200 non-null   object \n",
      " 14  Kapasite                     1 non-null      object \n",
      " 15  Klavye                       1200 non-null   object \n",
      " 16  Kullanım Amacı               1200 non-null   object \n",
      " 17  Maksimum İşlemci Hızı (GHz)  742 non-null    float64\n",
      " 18  Menşei                       10 non-null     object \n",
      " 19  Panel Tipi                   1199 non-null   object \n",
      " 20  Price                        893 non-null    object \n",
      " 21  Ram (Sistem Belleği)         1200 non-null   object \n",
      " 22  Ram (Sistem Belleği) Tipi    1200 non-null   object \n",
      " 23  Renk                         1200 non-null   object \n",
      " 24  SSD Kapasitesi               1200 non-null   object \n",
      " 25  Temel İşlemci Hızı (GHz)     433 non-null    object \n",
      " 26  Title                        1200 non-null   object \n",
      " 27  Çözünürlük                   1200 non-null   object \n",
      " 28  Çözünürlük Standartı         1200 non-null   object \n",
      " 29  İşlemci Modeli               1200 non-null   object \n",
      " 30  İşlemci Nesli                1200 non-null   object \n",
      " 31  İşlemci Tipi                 1200 non-null   object \n",
      " 32  İşlemci Çekirdek Sayısı      1199 non-null   float64\n",
      " 33  İşletim Sistemi              1200 non-null   object \n",
      " 34  Şarjlı Kullanım Süresi       315 non-null    object \n",
      "dtypes: float64(2), object(33)\n",
      "memory usage: 328.2+ KB\n"
     ]
    }
   ],
   "source": [
    "# Veri hakkında bilgi veriyor.\n",
    "df.info() "
   ]
  },
  {
   "cell_type": "code",
   "execution_count": 32,
   "metadata": {},
   "outputs": [
    {
     "data": {
      "text/plain": [
       "Arttırılabilir Azami Bellek     object\n",
       "Bağlantılar                     object\n",
       "Cihaz Ağırlığı                  object\n",
       "Dokunmatik Ekran                object\n",
       "Ekran Boyutu                    object\n",
       "Ekran Kartı                     object\n",
       "Ekran Kartı Bellek Tipi         object\n",
       "Ekran Kartı Gücü                object\n",
       "Ekran Kartı Hafızası            object\n",
       "Ekran Kartı Tipi                object\n",
       "Ekran Yenileme Hızı             object\n",
       "Garanti Süresi                  object\n",
       "Garanti Tipi                    object\n",
       "Hard Disk Kapasitesi            object\n",
       "Kapasite                        object\n",
       "Klavye                          object\n",
       "Kullanım Amacı                  object\n",
       "Maksimum İşlemci Hızı (GHz)    float64\n",
       "Menşei                          object\n",
       "Panel Tipi                      object\n",
       "Price                           object\n",
       "Ram (Sistem Belleği)            object\n",
       "Ram (Sistem Belleği) Tipi       object\n",
       "Renk                            object\n",
       "SSD Kapasitesi                  object\n",
       "Temel İşlemci Hızı (GHz)        object\n",
       "Title                           object\n",
       "Çözünürlük                      object\n",
       "Çözünürlük Standartı            object\n",
       "İşlemci Modeli                  object\n",
       "İşlemci Nesli                   object\n",
       "İşlemci Tipi                    object\n",
       "İşlemci Çekirdek Sayısı        float64\n",
       "İşletim Sistemi                 object\n",
       "Şarjlı Kullanım Süresi          object\n",
       "dtype: object"
      ]
     },
     "execution_count": 32,
     "metadata": {},
     "output_type": "execute_result"
    }
   ],
   "source": [
    "# Sütunların hangi tipte olduğunu söylüyor.\n",
    "df.dtypes"
   ]
  },
  {
   "cell_type": "markdown",
   "metadata": {},
   "source": [
    "Elimizdeki veri setinde kategorik ve numerik özellikler birlikte bulunmakta. Bu özellikleri ayırmak ve farklı değişken listelerinde kullanmak bizim için faydalı olabilir, özellikle kolon bazlı işlemler yapmak istersek bu listeleri bir filtre olarak kullanabiliriz.\n",
    "\n",
    "UYARI !: Veri setinin ham halinde, kolonların veri tipleri her zaman olması gerektiği haliyle olmayabilir. Kategorik ve numerik kolonları ayırırken öncelikle her değişkenin doğru veri tipinde olduğundan emin olmalısınız."
   ]
  },
  {
   "cell_type": "code",
   "execution_count": 33,
   "metadata": {},
   "outputs": [],
   "source": [
    "categorical_features = []\n",
    "numerical_features = []\n",
    "\n",
    "for col in df.columns:\n",
    "    if (df[col].dtype == \"object\") or (df[col].dtype == \"categorical\"):\n",
    "        categorical_features.append(col)\n",
    "    else:\n",
    "        numerical_features.append(col)\n",
    "\n",
    "# ALIŞTIRMA: List comprehension nasıl kullanılır öğrenin ve yukarıdaki listeleri bu yapıyı kullanarak oluşturmaya çalışın."
   ]
  },
  {
   "cell_type": "code",
   "execution_count": 34,
   "metadata": {},
   "outputs": [
    {
     "data": {
      "text/plain": [
       "(['Arttırılabilir Azami Bellek',\n",
       "  'Bağlantılar',\n",
       "  'Cihaz Ağırlığı',\n",
       "  'Dokunmatik Ekran',\n",
       "  'Ekran Boyutu',\n",
       "  'Ekran Kartı',\n",
       "  'Ekran Kartı Bellek Tipi',\n",
       "  'Ekran Kartı Gücü',\n",
       "  'Ekran Kartı Hafızası',\n",
       "  'Ekran Kartı Tipi',\n",
       "  'Ekran Yenileme Hızı',\n",
       "  'Garanti Süresi',\n",
       "  'Garanti Tipi',\n",
       "  'Hard Disk Kapasitesi',\n",
       "  'Kapasite',\n",
       "  'Klavye',\n",
       "  'Kullanım Amacı',\n",
       "  'Menşei',\n",
       "  'Panel Tipi',\n",
       "  'Price',\n",
       "  'Ram (Sistem Belleği)',\n",
       "  'Ram (Sistem Belleği) Tipi',\n",
       "  'Renk',\n",
       "  'SSD Kapasitesi',\n",
       "  'Temel İşlemci Hızı (GHz)',\n",
       "  'Title',\n",
       "  'Çözünürlük',\n",
       "  'Çözünürlük Standartı',\n",
       "  'İşlemci Modeli',\n",
       "  'İşlemci Nesli',\n",
       "  'İşlemci Tipi',\n",
       "  'İşletim Sistemi',\n",
       "  'Şarjlı Kullanım Süresi'],\n",
       " ['Maksimum İşlemci Hızı (GHz)', 'İşlemci Çekirdek Sayısı'])"
      ]
     },
     "execution_count": 34,
     "metadata": {},
     "output_type": "execute_result"
    }
   ],
   "source": [
    "categorical_features, numerical_features"
   ]
  },
  {
   "cell_type": "markdown",
   "metadata": {},
   "source": [
    "Örneğin, veri tipi Object olan kategorik değişkenlerin veri tipini Categorical olarak değiştirmek istersek, basitçe kolon isimleri üzerinde bir döngü kurarak filtreleme yapabiliriz.\n",
    "\n",
    "Döngü içerisinde, mevcut kolon ismi categorical_features içerisinde bulunuyorsa, o zaman o kolonun tipini Categorical olarak değiştirelim, bulunmuyorsa bir işlem yapmayalım."
   ]
  },
  {
   "cell_type": "code",
   "execution_count": 35,
   "metadata": {},
   "outputs": [],
   "source": [
    "for col in df.columns:\n",
    "    if col in categorical_features:\n",
    "        df[col] = pd.Categorical(df[col])"
   ]
  },
  {
   "cell_type": "code",
   "execution_count": 36,
   "metadata": {},
   "outputs": [
    {
     "name": "stdout",
     "output_type": "stream",
     "text": [
      "<class 'pandas.core.frame.DataFrame'>\n",
      "RangeIndex: 1200 entries, 0 to 1199\n",
      "Data columns (total 35 columns):\n",
      " #   Column                       Non-Null Count  Dtype   \n",
      "---  ------                       --------------  -----   \n",
      " 0   Arttırılabilir Azami Bellek  810 non-null    category\n",
      " 1   Bağlantılar                  1197 non-null   category\n",
      " 2   Cihaz Ağırlığı               1200 non-null   category\n",
      " 3   Dokunmatik Ekran             1200 non-null   category\n",
      " 4   Ekran Boyutu                 1200 non-null   category\n",
      " 5   Ekran Kartı                  1200 non-null   category\n",
      " 6   Ekran Kartı Bellek Tipi      1200 non-null   category\n",
      " 7   Ekran Kartı Gücü             260 non-null    category\n",
      " 8   Ekran Kartı Hafızası         1200 non-null   category\n",
      " 9   Ekran Kartı Tipi             1200 non-null   category\n",
      " 10  Ekran Yenileme Hızı          1200 non-null   category\n",
      " 11  Garanti Süresi               1200 non-null   category\n",
      " 12  Garanti Tipi                 1200 non-null   category\n",
      " 13  Hard Disk Kapasitesi         1200 non-null   category\n",
      " 14  Kapasite                     1 non-null      category\n",
      " 15  Klavye                       1200 non-null   category\n",
      " 16  Kullanım Amacı               1200 non-null   category\n",
      " 17  Maksimum İşlemci Hızı (GHz)  742 non-null    float64 \n",
      " 18  Menşei                       10 non-null     category\n",
      " 19  Panel Tipi                   1199 non-null   category\n",
      " 20  Price                        893 non-null    category\n",
      " 21  Ram (Sistem Belleği)         1200 non-null   category\n",
      " 22  Ram (Sistem Belleği) Tipi    1200 non-null   category\n",
      " 23  Renk                         1200 non-null   category\n",
      " 24  SSD Kapasitesi               1200 non-null   category\n",
      " 25  Temel İşlemci Hızı (GHz)     433 non-null    category\n",
      " 26  Title                        1200 non-null   category\n",
      " 27  Çözünürlük                   1200 non-null   category\n",
      " 28  Çözünürlük Standartı         1200 non-null   category\n",
      " 29  İşlemci Modeli               1200 non-null   category\n",
      " 30  İşlemci Nesli                1200 non-null   category\n",
      " 31  İşlemci Tipi                 1200 non-null   category\n",
      " 32  İşlemci Çekirdek Sayısı      1199 non-null   float64 \n",
      " 33  İşletim Sistemi              1200 non-null   category\n",
      " 34  Şarjlı Kullanım Süresi       315 non-null    category\n",
      "dtypes: category(33), float64(2)\n",
      "memory usage: 135.8 KB\n"
     ]
    }
   ],
   "source": [
    "df.info()"
   ]
  },
  {
   "cell_type": "code",
   "execution_count": 38,
   "metadata": {},
   "outputs": [
    {
     "data": {
      "text/plain": [
       "0    Nvidia GeForce RTX 4060\n",
       "1    Nvidia GeForce RTX 3050\n",
       "2    Nvidia GeForce RTX 2050\n",
       "Name: Ekran Kartı, dtype: category\n",
       "Categories (25, object): ['AMD Radeon Graphics', 'AMD Radeon RX 6550M', 'AMD Radeon RX6500M', 'AMD Radeon RX7600S', ..., 'Nvidia GeForce RTX 4090', 'Nvidia GeForce RTX3060', 'Nvidia Quadro T2000', 'RTX 2070 SUPER Max-q']"
      ]
     },
     "execution_count": 38,
     "metadata": {},
     "output_type": "execute_result"
    }
   ],
   "source": [
    "df['Ekran Kartı'][:3]"
   ]
  },
  {
   "cell_type": "markdown",
   "metadata": {},
   "source": [
    "Veri setimizin betimsel istatistiklerine ulaşmak için describe() fonksiyonunu kullanıyoruz.\n",
    "\n",
    "Bu fonksiyon eksik verileri göz ardı eder ve default olarak yalnızca numerik değişkenlere bakar."
   ]
  },
  {
   "cell_type": "code",
   "execution_count": 39,
   "metadata": {},
   "outputs": [
    {
     "data": {
      "text/html": [
       "<div>\n",
       "<style scoped>\n",
       "    .dataframe tbody tr th:only-of-type {\n",
       "        vertical-align: middle;\n",
       "    }\n",
       "\n",
       "    .dataframe tbody tr th {\n",
       "        vertical-align: top;\n",
       "    }\n",
       "\n",
       "    .dataframe thead th {\n",
       "        text-align: right;\n",
       "    }\n",
       "</style>\n",
       "<table border=\"1\" class=\"dataframe\">\n",
       "  <thead>\n",
       "    <tr style=\"text-align: right;\">\n",
       "      <th></th>\n",
       "      <th>count</th>\n",
       "      <th>mean</th>\n",
       "      <th>std</th>\n",
       "      <th>min</th>\n",
       "      <th>25%</th>\n",
       "      <th>50%</th>\n",
       "      <th>75%</th>\n",
       "      <th>max</th>\n",
       "    </tr>\n",
       "  </thead>\n",
       "  <tbody>\n",
       "    <tr>\n",
       "      <th>Maksimum İşlemci Hızı (GHz)</th>\n",
       "      <td>742.0</td>\n",
       "      <td>4.739218</td>\n",
       "      <td>0.264521</td>\n",
       "      <td>4.2</td>\n",
       "      <td>4.5</td>\n",
       "      <td>4.7</td>\n",
       "      <td>5.0</td>\n",
       "      <td>5.0</td>\n",
       "    </tr>\n",
       "    <tr>\n",
       "      <th>İşlemci Çekirdek Sayısı</th>\n",
       "      <td>1199.0</td>\n",
       "      <td>12.558799</td>\n",
       "      <td>6.013869</td>\n",
       "      <td>1.0</td>\n",
       "      <td>8.0</td>\n",
       "      <td>12.0</td>\n",
       "      <td>16.0</td>\n",
       "      <td>24.0</td>\n",
       "    </tr>\n",
       "  </tbody>\n",
       "</table>\n",
       "</div>"
      ],
      "text/plain": [
       "                              count       mean       std  min  25%   50%  \\\n",
       "Maksimum İşlemci Hızı (GHz)   742.0   4.739218  0.264521  4.2  4.5   4.7   \n",
       "İşlemci Çekirdek Sayısı      1199.0  12.558799  6.013869  1.0  8.0  12.0   \n",
       "\n",
       "                              75%   max  \n",
       "Maksimum İşlemci Hızı (GHz)   5.0   5.0  \n",
       "İşlemci Çekirdek Sayısı      16.0  24.0  "
      ]
     },
     "execution_count": 39,
     "metadata": {},
     "output_type": "execute_result"
    }
   ],
   "source": [
    "df.describe().T # -> .T eklentisi elde edeceğimiz çıktıyı transpose eder.\n",
    "\n",
    "# df.describe(include = \"all\") -> Veri setindeki tüm değişkenleri dahil etmek için include parametresine \"all\" değerini verebilirsiniz."
   ]
  }
 ],
 "metadata": {
  "kernelspec": {
   "display_name": "general",
   "language": "python",
   "name": "python3"
  },
  "language_info": {
   "codemirror_mode": {
    "name": "ipython",
    "version": 3
   },
   "file_extension": ".py",
   "mimetype": "text/x-python",
   "name": "python",
   "nbconvert_exporter": "python",
   "pygments_lexer": "ipython3",
   "version": "3.10.15"
  }
 },
 "nbformat": 4,
 "nbformat_minor": 2
}
