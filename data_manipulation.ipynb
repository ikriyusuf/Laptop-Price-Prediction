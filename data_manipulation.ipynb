{
 "cells": [
  {
   "cell_type": "markdown",
   "metadata": {},
   "source": [
    "# 0 - VERİ SETİ HAZIRLANMASI\n"
   ]
  },
  {
   "cell_type": "code",
   "execution_count": 102,
   "metadata": {},
   "outputs": [],
   "source": [
    "# Veri işlemesi ve analizi kütüphaneleri\n",
    "import pandas as pd\n",
    "import numpy as np\n",
    "# Veri görselleştirme kütüphanleri\n",
    "import matplotlib.pyplot as plt\n",
    "import seaborn as sns"
   ]
  },
  {
   "cell_type": "code",
   "execution_count": 103,
   "metadata": {},
   "outputs": [],
   "source": [
    "# Excel dosyasının yolu\n",
    "dosya_yolu = r\"C:\\Users\\yusuf\\OneDrive\\Masaüstü\\Laptop_Price_Prediction\\notebook.xlsx\"\n",
    "\n",
    "# Excel dosyasını oku ve DataFrame'e aktar\n",
    "df_ = pd.read_excel(dosya_yolu)\n",
    "\n",
    "# Kopyalama yaptık\n",
    "df = df_.copy()"
   ]
  },
  {
   "cell_type": "markdown",
   "metadata": {},
   "source": [
    "# 1 - VERİYE İLK BAKIŞ"
   ]
  },
  {
   "cell_type": "code",
   "execution_count": 104,
   "metadata": {},
   "outputs": [
    {
     "data": {
      "text/html": [
       "<div>\n",
       "<style scoped>\n",
       "    .dataframe tbody tr th:only-of-type {\n",
       "        vertical-align: middle;\n",
       "    }\n",
       "\n",
       "    .dataframe tbody tr th {\n",
       "        vertical-align: top;\n",
       "    }\n",
       "\n",
       "    .dataframe thead th {\n",
       "        text-align: right;\n",
       "    }\n",
       "</style>\n",
       "<table border=\"1\" class=\"dataframe\">\n",
       "  <thead>\n",
       "    <tr style=\"text-align: right;\">\n",
       "      <th></th>\n",
       "      <th>Arttırılabilir Azami Bellek</th>\n",
       "      <th>Bağlantılar</th>\n",
       "      <th>Cihaz Ağırlığı</th>\n",
       "      <th>Dokunmatik Ekran</th>\n",
       "      <th>Ekran Boyutu</th>\n",
       "      <th>Ekran Kartı</th>\n",
       "      <th>Ekran Kartı Bellek Tipi</th>\n",
       "      <th>Ekran Kartı Gücü</th>\n",
       "      <th>Ekran Kartı Hafızası</th>\n",
       "      <th>Ekran Kartı Tipi</th>\n",
       "      <th>...</th>\n",
       "      <th>Temel İşlemci Hızı (GHz)</th>\n",
       "      <th>Title</th>\n",
       "      <th>Çözünürlük</th>\n",
       "      <th>Çözünürlük Standartı</th>\n",
       "      <th>İşlemci Modeli</th>\n",
       "      <th>İşlemci Nesli</th>\n",
       "      <th>İşlemci Tipi</th>\n",
       "      <th>İşlemci Çekirdek Sayısı</th>\n",
       "      <th>İşletim Sistemi</th>\n",
       "      <th>Şarjlı Kullanım Süresi</th>\n",
       "    </tr>\n",
       "  </thead>\n",
       "  <tbody>\n",
       "    <tr>\n",
       "      <th>0</th>\n",
       "      <td>16 GB</td>\n",
       "      <td>USB - Bluetooth - HDMI</td>\n",
       "      <td>2 - 4 kg</td>\n",
       "      <td>Yok</td>\n",
       "      <td>15,6 inç</td>\n",
       "      <td>Nvidia GeForce RTX 4060</td>\n",
       "      <td>GDDR6</td>\n",
       "      <td>NaN</td>\n",
       "      <td>8 GB</td>\n",
       "      <td>Harici</td>\n",
       "      <td>...</td>\n",
       "      <td>NaN</td>\n",
       "      <td>LOQ 15IAX9 83GS007XTR i5-12450HX 8GB 512 GB SS...</td>\n",
       "      <td>1920 x 1080</td>\n",
       "      <td>Full HD (FHD)</td>\n",
       "      <td>Belirtilmemiş</td>\n",
       "      <td>12. Nesil</td>\n",
       "      <td>Intel Core i5</td>\n",
       "      <td>8.0</td>\n",
       "      <td>Free Dos</td>\n",
       "      <td>NaN</td>\n",
       "    </tr>\n",
       "    <tr>\n",
       "      <th>1</th>\n",
       "      <td>16 GB</td>\n",
       "      <td>USB - Bluetooth - HDMI</td>\n",
       "      <td>2 - 4 kg</td>\n",
       "      <td>Yok</td>\n",
       "      <td>15,6 inç</td>\n",
       "      <td>Nvidia GeForce RTX 3050</td>\n",
       "      <td>GDDR6</td>\n",
       "      <td>NaN</td>\n",
       "      <td>6 GB</td>\n",
       "      <td>Harici</td>\n",
       "      <td>...</td>\n",
       "      <td>NaN</td>\n",
       "      <td>G15-5530 Intel Core i7-13650HX 16GB 512GB SSD ...</td>\n",
       "      <td>1920 x 1080</td>\n",
       "      <td>Full HD (FHD)</td>\n",
       "      <td>13650HX</td>\n",
       "      <td>13. Nesil</td>\n",
       "      <td>Intel Core i7</td>\n",
       "      <td>24.0</td>\n",
       "      <td>Free Dos</td>\n",
       "      <td>NaN</td>\n",
       "    </tr>\n",
       "    <tr>\n",
       "      <th>2</th>\n",
       "      <td>16 GB</td>\n",
       "      <td>USB - Bluetooth - HDMI</td>\n",
       "      <td>2 kg ve altı</td>\n",
       "      <td>Yok</td>\n",
       "      <td>15,6 inç</td>\n",
       "      <td>Nvidia GeForce RTX 2050</td>\n",
       "      <td>GDDR6</td>\n",
       "      <td>55W</td>\n",
       "      <td>4 GB ve altı</td>\n",
       "      <td>Harici</td>\n",
       "      <td>...</td>\n",
       "      <td>2.3</td>\n",
       "      <td>Abra A5 V21.3 Intel Core i7 12700H 16 GB RAM 5...</td>\n",
       "      <td>1920 x 1080</td>\n",
       "      <td>Full HD (FHD)</td>\n",
       "      <td>12700H</td>\n",
       "      <td>12. Nesil</td>\n",
       "      <td>Intel Core i7</td>\n",
       "      <td>14.0</td>\n",
       "      <td>Free Dos</td>\n",
       "      <td>4-6 Saat</td>\n",
       "    </tr>\n",
       "    <tr>\n",
       "      <th>3</th>\n",
       "      <td>32 GB</td>\n",
       "      <td>USB - Bluetooth - HDMI</td>\n",
       "      <td>2 - 4 kg</td>\n",
       "      <td>Yok</td>\n",
       "      <td>15,6 inç</td>\n",
       "      <td>Nvidia GeForce RTX 4050</td>\n",
       "      <td>GDDR6</td>\n",
       "      <td>105W</td>\n",
       "      <td>6 GB</td>\n",
       "      <td>Harici</td>\n",
       "      <td>...</td>\n",
       "      <td>3.1</td>\n",
       "      <td>LOQ Intel Core i5-12450HX 16GB 512GB SSD 6GB R...</td>\n",
       "      <td>1920 x 1080</td>\n",
       "      <td>Full HD (FHD)</td>\n",
       "      <td>12450H</td>\n",
       "      <td>12. Nesil</td>\n",
       "      <td>Intel Core i5</td>\n",
       "      <td>8.0</td>\n",
       "      <td>Free Dos</td>\n",
       "      <td>6 Saat ve Üstü</td>\n",
       "    </tr>\n",
       "  </tbody>\n",
       "</table>\n",
       "<p>4 rows × 35 columns</p>\n",
       "</div>"
      ],
      "text/plain": [
       "  Arttırılabilir Azami Bellek             Bağlantılar Cihaz Ağırlığı  \\\n",
       "0                       16 GB  USB - Bluetooth - HDMI       2 - 4 kg   \n",
       "1                       16 GB  USB - Bluetooth - HDMI       2 - 4 kg   \n",
       "2                       16 GB  USB - Bluetooth - HDMI   2 kg ve altı   \n",
       "3                       32 GB  USB - Bluetooth - HDMI       2 - 4 kg   \n",
       "\n",
       "  Dokunmatik Ekran Ekran Boyutu              Ekran Kartı  \\\n",
       "0              Yok     15,6 inç  Nvidia GeForce RTX 4060   \n",
       "1              Yok     15,6 inç  Nvidia GeForce RTX 3050   \n",
       "2              Yok     15,6 inç  Nvidia GeForce RTX 2050   \n",
       "3              Yok     15,6 inç  Nvidia GeForce RTX 4050   \n",
       "\n",
       "  Ekran Kartı Bellek Tipi Ekran Kartı Gücü Ekran Kartı Hafızası  \\\n",
       "0                   GDDR6              NaN                 8 GB   \n",
       "1                   GDDR6              NaN                 6 GB   \n",
       "2                   GDDR6              55W         4 GB ve altı   \n",
       "3                   GDDR6             105W                 6 GB   \n",
       "\n",
       "  Ekran Kartı Tipi  ... Temel İşlemci Hızı (GHz)  \\\n",
       "0           Harici  ...                      NaN   \n",
       "1           Harici  ...                      NaN   \n",
       "2           Harici  ...                      2.3   \n",
       "3           Harici  ...                      3.1   \n",
       "\n",
       "                                               Title   Çözünürlük  \\\n",
       "0  LOQ 15IAX9 83GS007XTR i5-12450HX 8GB 512 GB SS...  1920 x 1080   \n",
       "1  G15-5530 Intel Core i7-13650HX 16GB 512GB SSD ...  1920 x 1080   \n",
       "2  Abra A5 V21.3 Intel Core i7 12700H 16 GB RAM 5...  1920 x 1080   \n",
       "3  LOQ Intel Core i5-12450HX 16GB 512GB SSD 6GB R...  1920 x 1080   \n",
       "\n",
       "  Çözünürlük Standartı İşlemci Modeli İşlemci Nesli   İşlemci Tipi  \\\n",
       "0        Full HD (FHD)  Belirtilmemiş     12. Nesil  Intel Core i5   \n",
       "1        Full HD (FHD)        13650HX     13. Nesil  Intel Core i7   \n",
       "2        Full HD (FHD)         12700H     12. Nesil  Intel Core i7   \n",
       "3        Full HD (FHD)         12450H     12. Nesil  Intel Core i5   \n",
       "\n",
       "   İşlemci Çekirdek Sayısı İşletim Sistemi Şarjlı Kullanım Süresi  \n",
       "0                      8.0        Free Dos                    NaN  \n",
       "1                     24.0        Free Dos                    NaN  \n",
       "2                     14.0        Free Dos               4-6 Saat  \n",
       "3                      8.0        Free Dos         6 Saat ve Üstü  \n",
       "\n",
       "[4 rows x 35 columns]"
      ]
     },
     "execution_count": 104,
     "metadata": {},
     "output_type": "execute_result"
    }
   ],
   "source": [
    "# DataFrame'i görüntüle\n",
    "df.head(n=4)\n",
    "# default olarak verseydik 5 tane sonuç döndürür. -> df.head()\n",
    "# eğer sondan kayıtları listelemek isteseydik -> df.tail()"
   ]
  },
  {
   "cell_type": "code",
   "execution_count": 105,
   "metadata": {},
   "outputs": [
    {
     "data": {
      "text/plain": [
       "(1200, 35)"
      ]
     },
     "execution_count": 105,
     "metadata": {},
     "output_type": "execute_result"
    }
   ],
   "source": [
    "df.shape # (satır x sütun)"
   ]
  },
  {
   "cell_type": "code",
   "execution_count": 106,
   "metadata": {},
   "outputs": [
    {
     "name": "stdout",
     "output_type": "stream",
     "text": [
      "2\n"
     ]
    }
   ],
   "source": [
    "print(df.ndim) # Verinin kaç boyutlu olduğunu gösterir."
   ]
  },
  {
   "cell_type": "code",
   "execution_count": 107,
   "metadata": {},
   "outputs": [
    {
     "name": "stdout",
     "output_type": "stream",
     "text": [
      "['Arttırılabilir Azami Bellek', 'Bağlantılar', 'Cihaz Ağırlığı', 'Dokunmatik Ekran', 'Ekran Boyutu', 'Ekran Kartı', 'Ekran Kartı Bellek Tipi', 'Ekran Kartı Gücü', 'Ekran Kartı Hafızası', 'Ekran Kartı Tipi', 'Ekran Yenileme Hızı', 'Garanti Süresi', 'Garanti Tipi', 'Hard Disk Kapasitesi', 'Kapasite', 'Klavye', 'Kullanım Amacı', 'Maksimum İşlemci Hızı (GHz)', 'Menşei', 'Panel Tipi', 'Price', 'Ram (Sistem Belleği)', 'Ram (Sistem Belleği) Tipi', 'Renk', 'SSD Kapasitesi', 'Temel İşlemci Hızı (GHz)', 'Title', 'Çözünürlük', 'Çözünürlük Standartı', 'İşlemci Modeli', 'İşlemci Nesli', 'İşlemci Tipi', 'İşlemci Çekirdek Sayısı', 'İşletim Sistemi', 'Şarjlı Kullanım Süresi'] \n",
      "\n",
      "Veri seti içerisinde toplam 35 kolon vardır.\n",
      "\n",
      "df.columns'un döndüğü veri tipi: <class 'pandas.core.indexes.base.Index'>\n",
      "\n"
     ]
    }
   ],
   "source": [
    "# Veri setindeki kolonları yazdırır.\n",
    "print(list(df.columns), '\\n')\n",
    "\n",
    "# len() fonksiyonu ile toplam kolon sayısına erişiyoruz.\n",
    "print(f\"Veri seti içerisinde toplam {len(df.columns)} kolon vardır.\\n\")\n",
    "\n",
    "# Çoğu zaman kullandığımız attribute ve fonksiyonların sonuçlarının hangi tipte veri döndürdüğünü gözlemlemek kod üzerinde hakimiyet kurmak için önemlidir.\n",
    "print(f\"df.columns'un döndüğü veri tipi: {type(df.columns)}\\n\")"
   ]
  },
  {
   "cell_type": "code",
   "execution_count": 108,
   "metadata": {},
   "outputs": [
    {
     "name": "stdout",
     "output_type": "stream",
     "text": [
      "<class 'pandas.core.frame.DataFrame'>\n",
      "RangeIndex: 1200 entries, 0 to 1199\n",
      "Data columns (total 35 columns):\n",
      " #   Column                       Non-Null Count  Dtype  \n",
      "---  ------                       --------------  -----  \n",
      " 0   Arttırılabilir Azami Bellek  810 non-null    object \n",
      " 1   Bağlantılar                  1197 non-null   object \n",
      " 2   Cihaz Ağırlığı               1200 non-null   object \n",
      " 3   Dokunmatik Ekran             1200 non-null   object \n",
      " 4   Ekran Boyutu                 1200 non-null   object \n",
      " 5   Ekran Kartı                  1200 non-null   object \n",
      " 6   Ekran Kartı Bellek Tipi      1200 non-null   object \n",
      " 7   Ekran Kartı Gücü             260 non-null    object \n",
      " 8   Ekran Kartı Hafızası         1200 non-null   object \n",
      " 9   Ekran Kartı Tipi             1200 non-null   object \n",
      " 10  Ekran Yenileme Hızı          1200 non-null   object \n",
      " 11  Garanti Süresi               1200 non-null   object \n",
      " 12  Garanti Tipi                 1200 non-null   object \n",
      " 13  Hard Disk Kapasitesi         1200 non-null   object \n",
      " 14  Kapasite                     1 non-null      object \n",
      " 15  Klavye                       1200 non-null   object \n",
      " 16  Kullanım Amacı               1200 non-null   object \n",
      " 17  Maksimum İşlemci Hızı (GHz)  742 non-null    float64\n",
      " 18  Menşei                       10 non-null     object \n",
      " 19  Panel Tipi                   1199 non-null   object \n",
      " 20  Price                        893 non-null    object \n",
      " 21  Ram (Sistem Belleği)         1200 non-null   object \n",
      " 22  Ram (Sistem Belleği) Tipi    1200 non-null   object \n",
      " 23  Renk                         1200 non-null   object \n",
      " 24  SSD Kapasitesi               1200 non-null   object \n",
      " 25  Temel İşlemci Hızı (GHz)     433 non-null    object \n",
      " 26  Title                        1200 non-null   object \n",
      " 27  Çözünürlük                   1200 non-null   object \n",
      " 28  Çözünürlük Standartı         1200 non-null   object \n",
      " 29  İşlemci Modeli               1200 non-null   object \n",
      " 30  İşlemci Nesli                1200 non-null   object \n",
      " 31  İşlemci Tipi                 1200 non-null   object \n",
      " 32  İşlemci Çekirdek Sayısı      1199 non-null   float64\n",
      " 33  İşletim Sistemi              1200 non-null   object \n",
      " 34  Şarjlı Kullanım Süresi       315 non-null    object \n",
      "dtypes: float64(2), object(33)\n",
      "memory usage: 328.2+ KB\n"
     ]
    }
   ],
   "source": [
    "# Veri hakkında bilgi verir.\n",
    "df.info() "
   ]
  },
  {
   "cell_type": "code",
   "execution_count": 109,
   "metadata": {},
   "outputs": [
    {
     "data": {
      "text/plain": [
       "Arttırılabilir Azami Bellek     object\n",
       "Bağlantılar                     object\n",
       "Cihaz Ağırlığı                  object\n",
       "Dokunmatik Ekran                object\n",
       "Ekran Boyutu                    object\n",
       "Ekran Kartı                     object\n",
       "Ekran Kartı Bellek Tipi         object\n",
       "Ekran Kartı Gücü                object\n",
       "Ekran Kartı Hafızası            object\n",
       "Ekran Kartı Tipi                object\n",
       "Ekran Yenileme Hızı             object\n",
       "Garanti Süresi                  object\n",
       "Garanti Tipi                    object\n",
       "Hard Disk Kapasitesi            object\n",
       "Kapasite                        object\n",
       "Klavye                          object\n",
       "Kullanım Amacı                  object\n",
       "Maksimum İşlemci Hızı (GHz)    float64\n",
       "Menşei                          object\n",
       "Panel Tipi                      object\n",
       "Price                           object\n",
       "Ram (Sistem Belleği)            object\n",
       "Ram (Sistem Belleği) Tipi       object\n",
       "Renk                            object\n",
       "SSD Kapasitesi                  object\n",
       "Temel İşlemci Hızı (GHz)        object\n",
       "Title                           object\n",
       "Çözünürlük                      object\n",
       "Çözünürlük Standartı            object\n",
       "İşlemci Modeli                  object\n",
       "İşlemci Nesli                   object\n",
       "İşlemci Tipi                    object\n",
       "İşlemci Çekirdek Sayısı        float64\n",
       "İşletim Sistemi                 object\n",
       "Şarjlı Kullanım Süresi          object\n",
       "dtype: object"
      ]
     },
     "execution_count": 109,
     "metadata": {},
     "output_type": "execute_result"
    }
   ],
   "source": [
    "# Sütunların hangi tipte olduğunu söyler.\n",
    "df.dtypes"
   ]
  },
  {
   "cell_type": "code",
   "execution_count": 110,
   "metadata": {},
   "outputs": [
    {
     "name": "stdout",
     "output_type": "stream",
     "text": [
      "Ekran Boyutu                    float64\n",
      "Ekran Kartı                    category\n",
      "Ekran Kartı Bellek Tipi        category\n",
      "Ekran Kartı Gücü                float64\n",
      "Ekran Kartı Hafızası           category\n",
      "Ekran Kartı Tipi               category\n",
      "Ekran Yenileme Hızı            category\n",
      "Hard Disk Kapasitesi            float64\n",
      "Maksimum İşlemci Hızı (GHz)     float64\n",
      "Panel Tipi                     category\n",
      "Ram (Sistem Belleği)            float64\n",
      "Ram (Sistem Belleği) Tipi      category\n",
      "Renk                           category\n",
      "SSD Kapasitesi                  float64\n",
      "İşlemci Modeli                 category\n",
      "İşlemci Nesli                  category\n",
      "İşlemci Tipi                   category\n",
      "İşlemci Çekirdek Sayısı         float64\n",
      "İşletim Sistemi                category\n",
      "Price                           float64\n",
      "dtype: object\n"
     ]
    }
   ],
   "source": [
    "# Sayısal verilere dönüştürülmesi gereken sütunları manuel olarak tanımlayalım\n",
    "sayisal_sutunlar = [\n",
    "    'Ekran Boyutu', 'Ekran Kartı Gücü', 'Hard Disk Kapasitesi', 'Maksimum İşlemci Hızı (GHz)', \n",
    "    'Ram (Sistem Belleği)', 'SSD Kapasitesi', 'İşlemci Çekirdek Sayısı', 'Price'\n",
    "]\n",
    "\n",
    "# Sayısal sütunları float türüne dönüştürme işlemi\n",
    "for col in sayisal_sutunlar:\n",
    "    df_fillna[col] = pd.to_numeric(df_fillna[col], errors='coerce')  # Hatalı dönüşümde NaN yapar\n",
    "\n",
    "# Veri türlerini kontrol edelim\n",
    "print(df_fillna.dtypes)"
   ]
  },
  {
   "cell_type": "markdown",
   "metadata": {},
   "source": [
    "Elimizdeki veri setinde kategorik ve numerik özellikler birlikte bulunmakta. Bu özellikleri ayırmak ve farklı değişken listelerinde kullanmak bizim için faydalı olabilir, özellikle kolon bazlı işlemler yapmak istersek bu listeleri bir filtre olarak kullanabiliriz.\n",
    "\n",
    "UYARI !: Veri setinin ham halinde, kolonların veri tipleri her zaman olması gerektiği haliyle olmayabilir. Kategorik ve numerik kolonları ayırırken öncelikle her değişkenin doğru veri tipinde olduğundan emin olmalısınız."
   ]
  },
  {
   "cell_type": "markdown",
   "metadata": {},
   "source": [
    "Örneğin, veri tipi Object olan kategorik değişkenlerin veri tipini Categorical olarak değiştirmek istersek, basitçe kolon isimleri üzerinde bir döngü kurarak filtreleme yapabiliriz.\n",
    "\n",
    "Döngü içerisinde, mevcut kolon ismi categorical_features içerisinde bulunuyorsa, o zaman o kolonun tipini Categorical olarak değiştirelim, bulunmuyorsa bir işlem yapmayalım."
   ]
  },
  {
   "cell_type": "code",
   "execution_count": null,
   "metadata": {},
   "outputs": [],
   "source": [
    "df['Ekran Kartı'][:3]"
   ]
  },
  {
   "cell_type": "markdown",
   "metadata": {},
   "source": [
    "Veri setimizin betimsel istatistiklerine ulaşmak için describe() fonksiyonunu kullanıyoruz.\n",
    "\n",
    "Bu fonksiyon eksik verileri göz ardı eder ve default olarak yalnızca numerik değişkenlere bakar."
   ]
  },
  {
   "cell_type": "code",
   "execution_count": null,
   "metadata": {},
   "outputs": [],
   "source": [
    "df.describe().T # -> .T eklentisi elde edeceğimiz çıktıyı transpose eder.\n",
    "\n",
    "# df.describe(include = \"all\") -> Veri setindeki tüm değişkenleri dahil etmek için include parametresine \"all\" değerini verebilirsiniz."
   ]
  },
  {
   "cell_type": "markdown",
   "metadata": {},
   "source": [
    "# 2- EKSİK VERİ ANALİZİ"
   ]
  },
  {
   "cell_type": "markdown",
   "metadata": {},
   "source": [
    "Eksik Veri Analizi ile, veri setimizdeki eksik verileri tespit edip bu durumu uygun bir şekilde düzeltmeyi hedefleriz.\n",
    "\n",
    "Veri seti içerisinde eksik değerler bulunması yapısal bir bozukluğa işaret eder ve mutlaka uygun yöntemlerle ele alınmalıdır.\n",
    "\n",
    "Eksik veriler, duruma bağlı olarak veri setinden silinebilir veya uygun veriler ile doldurulabilir. Ancak eksik verilerin silinmesi, silinen satır veya sütunlar içerisinde yer alan diğer verilerin kaybedilmesi anlamına gelir. Eksik verilerin doldurulması işleminde ise, veri setine sentetik bir girdi yapacağımızdan dolayı, doldurma işlemleri veri setindeki dağılımları manipüle edebilir (veri setinde yanlılık oluşturabilir).\n",
    "\n",
    "Eksik verilerin ne sebeple ortaya çıktığı hassas bir şekilde değerlendirilmeli, nasıl ele alınacağı da bu değerlendirme sonucunda uygun şekilde karar verilmelidir."
   ]
  },
  {
   "cell_type": "markdown",
   "metadata": {},
   "source": [
    "1. isna() metodu:\n",
    "Pandas'taki DataFrame veya Series içinde eksik (NaN) değerleri kontrol etmek için kullanılır.\n",
    "Eğer bir hücrede eksik veri (NaN) varsa, bu hücre için True döner, yoksa False döner.\n",
    "Boşu true dönderir."
   ]
  },
  {
   "cell_type": "markdown",
   "metadata": {},
   "source": [
    "2. isnull() metodu:\n",
    "isna() metodu ile aynı işlevi görür. Yani, eksik (NaN) değerleri kontrol eder ve her bir hücre için True veya False döner.\n",
    "Pandas'ta isna() ve isnull() birbirinin yerine kullanılabilir. Aralarındaki fark sadece metod adıdır. Yani, biri diğerine eşdeğerdir."
   ]
  },
  {
   "cell_type": "code",
   "execution_count": null,
   "metadata": {},
   "outputs": [],
   "source": [
    "df.isna().sum() # -> isna() methodu yerine isnull() methodu da kullanılabilir.\n",
    "\n",
    "# ALIŞTIRMA: Her bir değişken için, o değişkendeki eksik değer sayısının toplam kayıt sayısının % kaçı olduğunu bulunuz."
   ]
  },
  {
   "cell_type": "markdown",
   "metadata": {},
   "source": [
    "Veri setindeki toplam eksik değer sayısını görmek için tekrar sum() fonksiyonu ekleyebiliriz."
   ]
  },
  {
   "cell_type": "code",
   "execution_count": null,
   "metadata": {},
   "outputs": [],
   "source": [
    "df.isna().sum().sum() "
   ]
  },
  {
   "cell_type": "code",
   "execution_count": null,
   "metadata": {},
   "outputs": [],
   "source": [
    "# Eksik olmayan değerlerin sayısı\n",
    "df.notnull().sum()"
   ]
  },
  {
   "cell_type": "markdown",
   "metadata": {},
   "source": [
    "None ve NaN değerler arasındaki fark nedir?\n",
    "\n",
    "None (null) değerler ile NaN değerler arasındaki farkın ne olduğunu görmek için güzel bir kaynak: https://medium.com/@allenhuang1996/whats-the-difference-between-null-and-nan-in-python-a1af20d523ce"
   ]
  },
  {
   "cell_type": "code",
   "execution_count": null,
   "metadata": {},
   "outputs": [],
   "source": [
    "# Veri setinde toplam kaç adet eksik gözlem var, kaç adet eksik olmayan gözlem var görelim.\n",
    "print(f\"Veri seti içerisinde toplam {df.notnull().sum().sum()} adet eksik olmayan, {df.isnull().sum().sum()} eksik gözlem var.\")"
   ]
  },
  {
   "cell_type": "code",
   "execution_count": null,
   "metadata": {},
   "outputs": [],
   "source": [
    "# Veri setinde en az bir gözlemi eksik olan kayıtlara da ulaşabiliriz.\n",
    "df[df.isnull().any(axis = 1)]"
   ]
  },
  {
   "cell_type": "code",
   "execution_count": null,
   "metadata": {},
   "outputs": [],
   "source": [
    "# Hiç eksik gözlemi bulunmayan kayıtları getirelim.\n",
    "df[df.notnull().all(axis = 1)][:5]"
   ]
  },
  {
   "cell_type": "code",
   "execution_count": null,
   "metadata": {},
   "outputs": [],
   "source": [
    "#!pip install missingno -> missingno kütüphanesini kullanabilmek için öncelikle yüklemeniz lazım.\n",
    "import missingno as msno\n",
    "\n",
    "msno.bar(df = df,\n",
    "         figsize = (15, 5),\n",
    "         fontsize = 12);"
   ]
  },
  {
   "cell_type": "code",
   "execution_count": null,
   "metadata": {},
   "outputs": [],
   "source": [
    "# Yukarıda görülen grafiğe bakarak kapasite ve menşei'nin bizim yapacağımız modele bir faydası olmadığından ve verileri eksik olduğundan siliyoruz.\n",
    "df.drop(columns=\"Arttırılabilir Azami Bellek\",axis=1,inplace=True)\n",
    "df.drop(columns=\"Bağlantılar\",axis=1,inplace=True)\n",
    "df.drop(columns=\"Cihaz Ağırlığı\",axis=1,inplace=True)\n",
    "df.drop(columns=\"Dokunmatik Ekran\",axis=1,inplace=True)\n",
    "df.drop(columns=\"Garanti Süresi\",axis=1,inplace=True)\n",
    "df.drop(columns=\"Garanti Tipi\",axis=1,inplace=True)\n",
    "df.drop(columns=\"Kapasite\", axis=1, inplace=True)\n",
    "df.drop(columns=\"Klavye\",axis=1,inplace=True)\n",
    "df.drop(columns=\"Kullanım Amacı\",axis=1,inplace=True)\n",
    "df.drop(columns=\"Menşei\", axis=1, inplace=True)\n",
    "df.drop(columns=\"Temel İşlemci Hızı (GHz)\", axis=1, inplace=True)\n",
    "df.drop(columns=\"Title\", axis=1, inplace=True)\n",
    "df.drop(columns=\"Çözünürlük\", axis=1, inplace=True)\n",
    "df.drop(columns=\"Çözünürlük Standartı\", axis=1, inplace=True)\n",
    "df.drop(columns=\"Şarjlı Kullanım Süresi\", axis=1, inplace=True)\n",
    "\n",
    "# 'Price' sütununu en sona taşımak\n",
    "columns = [col for col in df.columns if col != 'Price']  # 'Price' dışındaki sütunları al\n",
    "columns.append('Price')  # 'Price' sütununu sona ekle\n",
    "\n",
    "# Yeni sütun sırasına göre DataFrame'i yeniden düzenle\n",
    "df = df[columns]\n",
    "\n",
    "df.to_excel('yeni_dosya.xlsx', index=False)"
   ]
  },
  {
   "cell_type": "code",
   "execution_count": null,
   "metadata": {},
   "outputs": [],
   "source": [
    "print(list(df.columns))"
   ]
  },
  {
   "cell_type": "code",
   "execution_count": null,
   "metadata": {},
   "outputs": [],
   "source": [
    "len(df.columns)"
   ]
  },
  {
   "cell_type": "code",
   "execution_count": null,
   "metadata": {},
   "outputs": [],
   "source": [
    "'Kapasite' in df.columns"
   ]
  },
  {
   "cell_type": "code",
   "execution_count": null,
   "metadata": {},
   "outputs": [],
   "source": [
    "import missingno as msno\n",
    "\n",
    "msno.bar(df = df,\n",
    "         figsize = (15, 5),\n",
    "         fontsize = 12);"
   ]
  },
  {
   "cell_type": "code",
   "execution_count": null,
   "metadata": {},
   "outputs": [],
   "source": [
    "# Nullity Correlation (Heatmap)\n",
    "# 1'e ne kadar yakınsa, ilişki ihtimali o kadar yüksek.\n",
    "# 0 ise, birbirlerini etkileyen bir durum yoktur.\n",
    "msno.heatmap(df = df,\n",
    "             figsize = (10, 6),\n",
    "             fontsize = 10);"
   ]
  },
  {
   "cell_type": "markdown",
   "metadata": {},
   "source": [
    "# 2.2 Yöntem 1: Eksik Verilerin Silinmesi"
   ]
  },
  {
   "cell_type": "markdown",
   "metadata": {},
   "source": [
    "Veri setinde bulunan eksik verilere müdahale yöntemlerinden birisi, eksik verilerin silinmesidir. Uygulaması oldukça kolay bir yöntem olsa da eksik verileri silmeden önce dikkat edilmesi gereken önemli hususlar vardır.\n",
    "\n",
    "Eksik bir verinin bulunduğu gözlemi silmeya karar verebilmek için, bu eksikliğin doğal olmayan bir şekilde ortaya çıktığından emin olmamız gerekir. Örneğin elimizdeki bir araç veri setinde elektrikli araçlar için motor hacmi kolonunda Na değer bulunması doğal bir eksikliğe işaret eder. Bu durumda silme işlemi yerine uygun bir şekilde doldurmak tercih edilebilir.\n",
    "\n",
    "Eksik veriler veri setinde kayda değer bir yüzdeyi oluşturuyorsa, eksik verilerin silinmesi durumunda veri setindeki birçok gözlemi kaybedeceğimiz unutulmamalıdır. Bu durumda veri seti içerisinde bize bilgi sağlayabilecek birçok veriyi de kaybetmiş olacağız. Verinin olabildiğince fazla olması, hem analitik yöntemler hem de makine öğrenmesi yöntemleri için oldukça önemli olduğuna göre, veri setinden olabildiğince az kayıp verecek yöntemler denemeliyiz."
   ]
  },
  {
   "cell_type": "code",
   "execution_count": null,
   "metadata": {},
   "outputs": [],
   "source": [
    "# Eksik verilerin dropna ile silinmesi.\n",
    "# Kalıcı bir değişiklik yapmaz, bunu yapmak için inplace argümanı kullanılmalı veya atama yapılmalıdır.\n",
    "\n",
    "df.dropna(inplace = False)[:10]\n",
    "#df = df.dropna()"
   ]
  },
  {
   "cell_type": "code",
   "execution_count": null,
   "metadata": {},
   "outputs": [],
   "source": [
    "# Sadece bütün değerleri eksik olan bir gözlemi silmek istersek;\n",
    "df.dropna(how = 'all')[:5]"
   ]
  },
  {
   "cell_type": "markdown",
   "metadata": {},
   "source": [
    "# 2.3 Yöntem 2: Eksik Verilerin Doldurulması"
   ]
  },
  {
   "cell_type": "markdown",
   "metadata": {},
   "source": [
    "Eksik verilerin doldurulması kararı, silinmesi işleminde olduğu gibi hassas ve bilinçli bir şekilde değerlendirilmesi gereken bir karardır. Zira doldurma işlemi veride gürültü (noise) oluşturabilir ve verinin istatistiksel olarak güvenilirliğini zedeleyebilir. Analitik durumlar içinse yanlış bilgi çıkarımlarına sebebiyet verebilir. Bu nedenle en sağlıklı doldurma kararının alındığı durumlarda dahi bu yanlılık durumu mutlaka göz önünde bulundurulmalıdır."
   ]
  },
  {
   "cell_type": "code",
   "execution_count": null,
   "metadata": {},
   "outputs": [],
   "source": [
    "# Doldurma işlemlerini gerçekleştirmek için veri setimin bir kopyasını oluşturuyorum.\n",
    "df_fillna = df.copy()\n",
    "\n",
    "df_fillna.head(3)"
   ]
  },
  {
   "cell_type": "code",
   "execution_count": null,
   "metadata": {},
   "outputs": [],
   "source": [
    "\"Kapasite\" in df_fillna"
   ]
  },
  {
   "cell_type": "code",
   "execution_count": null,
   "metadata": {},
   "outputs": [],
   "source": [
    "df_fillna.isna().sum()"
   ]
  },
  {
   "cell_type": "code",
   "execution_count": null,
   "metadata": {},
   "outputs": [],
   "source": [
    "print(len(df_fillna.columns))"
   ]
  },
  {
   "cell_type": "markdown",
   "metadata": {},
   "source": [
    "2.3.1 Sayısal Değişkenlerin Doldurulması"
   ]
  },
  {
   "cell_type": "code",
   "execution_count": null,
   "metadata": {},
   "outputs": [],
   "source": [
    "# Numerik bir değişkenin mean değeriyle doldurulması\n",
    "mean_islemci = df_fillna['Maksimum İşlemci Hızı (GHz)'].mean()\n",
    "print(mean_islemci)\n",
    "\n",
    "df_fillna['Maksimum İşlemci Hızı (GHz)'].fillna(value = mean_islemci, inplace = True)\n",
    "\n",
    "df_fillna.isna().sum()\n",
    "\n",
    "# Maksimum İşlemci Hızı (GHz)'nın 742 tane kaydı vardı. kaydı olanların ortalamasını alarak boş olan satırlara ekledik."
   ]
  },
  {
   "cell_type": "code",
   "execution_count": null,
   "metadata": {},
   "outputs": [],
   "source": [
    "df_fillna['Maksimum İşlemci Hızı (GHz)']"
   ]
  },
  {
   "cell_type": "code",
   "execution_count": null,
   "metadata": {},
   "outputs": [],
   "source": [
    "import missingno as msno\n",
    "\n",
    "msno.bar(df = df_fillna,\n",
    "         figsize = (15, 5),\n",
    "         fontsize = 12);"
   ]
  },
  {
   "cell_type": "code",
   "execution_count": null,
   "metadata": {},
   "outputs": [],
   "source": [
    "df.describe().T"
   ]
  },
  {
   "cell_type": "markdown",
   "metadata": {},
   "source": [
    "Doldurma işlemini mean yerine median değer ile de gerçekleştirebiliriz, ancak bunu kuyruklu (skewed) dağılımlarda yapmayı tercih ediyoruz."
   ]
  },
  {
   "cell_type": "code",
   "execution_count": null,
   "metadata": {},
   "outputs": [],
   "source": [
    "# Bir sayısal değişkenin dağılımını görmek için histogram kullanabiliriz.\n",
    "plt.hist(df['İşlemci Çekirdek Sayısı'])\n",
    "plt.show()"
   ]
  },
  {
   "cell_type": "code",
   "execution_count": null,
   "metadata": {},
   "outputs": [],
   "source": [
    "df_fillna[['Ekran Kartı Gücü']][100:550]"
   ]
  },
  {
   "cell_type": "markdown",
   "metadata": {},
   "source": [
    "2.3.2 Kategorik Değişkenlerin Doldurulması"
   ]
  },
  {
   "cell_type": "code",
   "execution_count": null,
   "metadata": {},
   "outputs": [],
   "source": [
    "# Ekran Kartı Gücü sütununun en sık (mode) değerini bulalım\n",
    "ekran_karti_mode = df_fillna['Ekran Kartı Gücü'].mode()[0]\n",
    "\n",
    "# Ekran Kartı Gücü sütunundaki eksik değerleri mode ile dolduralım\n",
    "df_fillna['Ekran Kartı Gücü'] = df_fillna['Ekran Kartı Gücü'].fillna(value=ekran_karti_mode)\n",
    "\n",
    "# Eksik değerlerin son durumunu kontrol edelim\n",
    "print(\"Eksik değerler (NaN) sayısı:\", df_fillna.isna().sum())\n",
    "\n",
    "# Veriyi Excel dosyasına kaydedelim\n",
    "df_fillna.to_excel('doldurulmus_veriler.xlsx', index=False)\n",
    "\n",
    "print(\"Veriler Excel'e kaydedildi.\")\n"
   ]
  },
  {
   "cell_type": "code",
   "execution_count": null,
   "metadata": {},
   "outputs": [],
   "source": [
    "df_fillna[['Ekran Kartı Gücü']][:20]"
   ]
  },
  {
   "cell_type": "code",
   "execution_count": null,
   "metadata": {},
   "outputs": [],
   "source": [
    "print(df_fillna['Ekran Kartı Gücü'].mode()[0])"
   ]
  },
  {
   "cell_type": "code",
   "execution_count": null,
   "metadata": {},
   "outputs": [],
   "source": [
    "import missingno as msno\n",
    "\n",
    "msno.bar(df = df_fillna,\n",
    "         figsize = (15, 5),\n",
    "         fontsize = 12);"
   ]
  },
  {
   "cell_type": "code",
   "execution_count": null,
   "metadata": {},
   "outputs": [],
   "source": [
    "list(df_fillna.columns)"
   ]
  },
  {
   "cell_type": "code",
   "execution_count": null,
   "metadata": {},
   "outputs": [],
   "source": []
  }
 ],
 "metadata": {
  "kernelspec": {
   "display_name": "general",
   "language": "python",
   "name": "python3"
  },
  "language_info": {
   "codemirror_mode": {
    "name": "ipython",
    "version": 3
   },
   "file_extension": ".py",
   "mimetype": "text/x-python",
   "name": "python",
   "nbconvert_exporter": "python",
   "pygments_lexer": "ipython3",
   "version": "3.10.15"
  }
 },
 "nbformat": 4,
 "nbformat_minor": 2
}
